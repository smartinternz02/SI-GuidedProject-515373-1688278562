{
  "cells": [
    {
      "cell_type": "code",
      "execution_count": null,
      "metadata": {
        "id": "ZovjHv9fdYcY"
      },
      "outputs": [],
      "source": [
        "import os\n",
        "\n",
        "# Imports\n",
        "import numpy as np\n",
        "import pandas as pd\n",
        "\n",
        "# Visualization\n",
        "import matplotlib.pyplot as plt\n",
        "\n",
        "# Tensorflow\n",
        "import tensorflow as tf\n",
        "from tensorflow import keras\n",
        "from tensorflow.keras import callbacks, layers, Model\n",
        "from tensorflow.keras.preprocessing.image import ImageDataGenerator\n",
        "from tensorflow.keras.layers import Dense, Flatten, Dropout\n",
        "from tensorflow.keras.applications import MobileNetV2\n",
        "from tensorflow.keras.optimizers import Adam"
      ]
    },
    {
      "cell_type": "code",
      "execution_count": null,
      "metadata": {
        "id": "54V1flBGduyF"
      },
      "outputs": [],
      "source": [
        "\n",
        "target_size = (224, 224)\n",
        "input_shape = (224, 224, 3)\n",
        "grid_shape = (1, 224, 224, 3)\n",
        "\n",
        "batch_size = 32"
      ]
    },
    {
      "cell_type": "code",
      "source": [
        "import zipfile\n",
        "\n",
        "zip_path = '/content/drive/MyDrive/image_data_class/archive (2).zip'\n",
        "extract_path = '/content/drive/MyDrive/img'\n",
        "\n",
        "# Extract the contents of the ZIP file\n",
        "with zipfile.ZipFile(zip_path, 'r') as zip_ref:\n",
        "    zip_ref.extractall(extract_path)\n"
      ],
      "metadata": {
        "id": "-W4BcAHInANR"
      },
      "execution_count": null,
      "outputs": []
    },
    {
      "cell_type": "code",
      "execution_count": null,
      "metadata": {
        "id": "2Qa49oXId7d0"
      },
      "outputs": [],
      "source": [
        "train_dir = \"/content/drive/MyDrive/img/New Plant Diseases Dataset(Augmented)/New Plant Diseases Dataset(Augmented)/train\"\n",
        "test_dir = \"/content/drive/MyDrive/img/New Plant Diseases Dataset(Augmented)/New Plant Diseases Dataset(Augmented)/valid\""
      ]
    },
    {
      "cell_type": "code",
      "execution_count": null,
      "metadata": {
        "colab": {
          "base_uri": "https://localhost:8080/"
        },
        "id": "8LC6dkzgd7aX",
        "outputId": "b1242d63-522d-445a-b56c-cbe79ca92919"
      },
      "outputs": [
        {
          "output_type": "stream",
          "name": "stdout",
          "text": [
            "Found 70295 images belonging to 38 classes.\n",
            "Found 17572 images belonging to 38 classes.\n",
            "Found 8777 images belonging to 38 classes.\n"
          ]
        }
      ],
      "source": [
        "train_aug = ImageDataGenerator(\n",
        "    rescale=1/255.0,\n",
        "    fill_mode=\"nearest\",\n",
        "    width_shift_range=0.2,\n",
        "    height_shift_range=0.2,\n",
        "    zoom_range=0.2,\n",
        "    shear_range=0.2,\n",
        ")\n",
        "image_size=224\n",
        "\n",
        "train_data = train_aug.flow_from_directory(\n",
        "    train_dir,\n",
        "    target_size=(image_size, image_size),\n",
        "    batch_size=batch_size,\n",
        "    class_mode=\"categorical\"\n",
        ")\n",
        "\n",
        "test_aug = ImageDataGenerator(\n",
        "\n",
        "    rescale=1/255.0\n",
        ")\n",
        "\n",
        "# Read data from directory\n",
        "test_data = test_aug.flow_from_directory(\n",
        "    test_dir,\n",
        "    target_size=(image_size, image_size),\n",
        "    batch_size=batch_size,\n",
        "    class_mode=\"categorical\",\n",
        "    subset = \"training\"\n",
        ")\n",
        "\n",
        "valid_datagen = ImageDataGenerator(\n",
        "    rescale = 1./255,\n",
        "    validation_split = 0.5\n",
        ")\n",
        "\n",
        "valid_data = valid_datagen.flow_from_directory(\n",
        "    test_dir,\n",
        "    target_size = (224, 224),\n",
        "    batch_size = 32,\n",
        "    shuffle = True,\n",
        "    # seed = 64,\n",
        "    class_mode = \"categorical\",\n",
        "    subset = \"validation\"\n",
        ")"
      ]
    },
    {
      "cell_type": "code",
      "execution_count": null,
      "metadata": {
        "colab": {
          "base_uri": "https://localhost:8080/"
        },
        "id": "HvHPjqbYeO2z",
        "outputId": "be79630d-2723-421d-c9d0-412d5dc53802"
      },
      "outputs": [
        {
          "output_type": "stream",
          "name": "stdout",
          "text": [
            "Downloading data from https://storage.googleapis.com/tensorflow/keras-applications/mobilenet_v2/mobilenet_v2_weights_tf_dim_ordering_tf_kernels_1.0_224_no_top.h5\n",
            "9406464/9406464 [==============================] - 0s 0us/step\n"
          ]
        }
      ],
      "source": [
        "base_model = MobileNetV2(input_shape=input_shape, include_top=False, weights='imagenet')\n",
        "\n",
        "# Freeze the layers in the base model to prevent them from being trained\n",
        "for layer in base_model.layers:\n",
        "    layer.trainable = False"
      ]
    },
    {
      "cell_type": "code",
      "execution_count": null,
      "metadata": {
        "colab": {
          "base_uri": "https://localhost:8080/"
        },
        "id": "xRZpGCRaflYO",
        "outputId": "664a68bf-08c2-4531-a7f8-3f5e2e774a70"
      },
      "outputs": [
        {
          "output_type": "execute_result",
          "data": {
            "text/plain": [
              "['Apple___Apple_scab',\n",
              " 'Apple___Black_rot',\n",
              " 'Apple___Cedar_apple_rust',\n",
              " 'Apple___healthy',\n",
              " 'Blueberry___healthy',\n",
              " 'Cherry_(including_sour)___Powdery_mildew',\n",
              " 'Cherry_(including_sour)___healthy',\n",
              " 'Corn_(maize)___Cercospora_leaf_spot Gray_leaf_spot',\n",
              " 'Corn_(maize)___Common_rust_',\n",
              " 'Corn_(maize)___Northern_Leaf_Blight',\n",
              " 'Corn_(maize)___healthy',\n",
              " 'Grape___Black_rot',\n",
              " 'Grape___Esca_(Black_Measles)',\n",
              " 'Grape___Leaf_blight_(Isariopsis_Leaf_Spot)',\n",
              " 'Grape___healthy',\n",
              " 'Orange___Haunglongbing_(Citrus_greening)',\n",
              " 'Peach___Bacterial_spot',\n",
              " 'Peach___healthy',\n",
              " 'Pepper,_bell___Bacterial_spot',\n",
              " 'Pepper,_bell___healthy',\n",
              " 'Potato___Early_blight',\n",
              " 'Potato___Late_blight',\n",
              " 'Potato___healthy',\n",
              " 'Raspberry___healthy',\n",
              " 'Soybean___healthy',\n",
              " 'Squash___Powdery_mildew',\n",
              " 'Strawberry___Leaf_scorch',\n",
              " 'Strawberry___healthy',\n",
              " 'Tomato___Bacterial_spot',\n",
              " 'Tomato___Early_blight',\n",
              " 'Tomato___Late_blight',\n",
              " 'Tomato___Leaf_Mold',\n",
              " 'Tomato___Septoria_leaf_spot',\n",
              " 'Tomato___Spider_mites Two-spotted_spider_mite',\n",
              " 'Tomato___Target_Spot',\n",
              " 'Tomato___Tomato_Yellow_Leaf_Curl_Virus',\n",
              " 'Tomato___Tomato_mosaic_virus',\n",
              " 'Tomato___healthy']"
            ]
          },
          "metadata": {},
          "execution_count": 9
        }
      ],
      "source": [
        "classes = os.listdir(train_dir)\n",
        "classes"
      ]
    },
    {
      "cell_type": "code",
      "execution_count": null,
      "metadata": {
        "colab": {
          "base_uri": "https://localhost:8080/"
        },
        "id": "rQD4tafhfWRN",
        "outputId": "18fb31bc-ca59-450c-b812-235c79d6ccca"
      },
      "outputs": [
        {
          "output_type": "stream",
          "name": "stdout",
          "text": [
            "Model: \"model\"\n",
            "_________________________________________________________________\n",
            " Layer (type)                Output Shape              Param #   \n",
            "=================================================================\n",
            " input_2 (InputLayer)        [(None, 224, 224, 3)]     0         \n",
            "                                                                 \n",
            " mobilenetv2_1.00_224 (Funct  (None, 7, 7, 1280)       2257984   \n",
            " ional)                                                          \n",
            "                                                                 \n",
            " global_average_pooling2d (G  (None, 1280)             0         \n",
            " lobalAveragePooling2D)                                          \n",
            "                                                                 \n",
            " dropout (Dropout)           (None, 1280)              0         \n",
            "                                                                 \n",
            " dense (Dense)               (None, 38)                48678     \n",
            "                                                                 \n",
            "=================================================================\n",
            "Total params: 2,306,662\n",
            "Trainable params: 48,678\n",
            "Non-trainable params: 2,257,984\n",
            "_________________________________________________________________\n"
          ]
        }
      ],
      "source": [
        "inputs = keras.Input(shape=input_shape)\n",
        "\n",
        "# Get the layer\n",
        "x = base_model (inputs, training = False)\n",
        "\n",
        "# Stack layers further\n",
        "x = tf.keras.layers.GlobalAveragePooling2D()(x)\n",
        "x = tf.keras.layers.Dropout(0.2)(x)\n",
        "x = tf.keras.layers.Dense(len(classes), activation=\"softmax\")(x)\n",
        "\n",
        "# Combine the model\n",
        "model = Model(inputs=inputs, outputs=x)\n",
        "\n",
        "# Summary\n",
        "model.summary()"
      ]
    },
    {
      "cell_type": "code",
      "execution_count": null,
      "metadata": {
        "id": "7vIL-Y5vfqzo"
      },
      "outputs": [],
      "source": [
        "model.compile(optimizer=\"adam\", loss=\"categorical_crossentropy\", metrics=[\"accuracy\"])\n",
        "\n",
        "# Define callbacks to use\n",
        "early_stopping_cb = callbacks.EarlyStopping(monitor=\"loss\", patience=3)"
      ]
    },
    {
      "cell_type": "code",
      "execution_count": null,
      "metadata": {
        "colab": {
          "base_uri": "https://localhost:8080/"
        },
        "id": "8UXlvKk3fvvi",
        "outputId": "31da7b19-791a-4199-ff0d-b5bc88fe74ee"
      },
      "outputs": [
        {
          "output_type": "stream",
          "name": "stdout",
          "text": [
            "Epoch 1/15\n",
            "150/150 [==============================] - 436s 3s/step - loss: 1.9240 - accuracy: 0.4963 - val_loss: 0.9600 - val_accuracy: 0.7618\n",
            "Epoch 2/15\n",
            "150/150 [==============================] - 432s 3s/step - loss: 0.8398 - accuracy: 0.7669 - val_loss: 0.6850 - val_accuracy: 0.8068\n",
            "Epoch 3/15\n",
            "150/150 [==============================] - 415s 3s/step - loss: 0.6808 - accuracy: 0.8012 - val_loss: 0.5442 - val_accuracy: 0.8449\n",
            "Epoch 4/15\n",
            "150/150 [==============================] - 419s 3s/step - loss: 0.5441 - accuracy: 0.8373 - val_loss: 0.4743 - val_accuracy: 0.8620\n",
            "Epoch 5/15\n",
            "150/150 [==============================] - 430s 3s/step - loss: 0.4804 - accuracy: 0.8556 - val_loss: 0.4505 - val_accuracy: 0.8620\n",
            "Epoch 6/15\n",
            "150/150 [==============================] - 415s 3s/step - loss: 0.4738 - accuracy: 0.8560 - val_loss: 0.4175 - val_accuracy: 0.8743\n",
            "Epoch 7/15\n",
            "150/150 [==============================] - 442s 3s/step - loss: 0.4336 - accuracy: 0.8646 - val_loss: 0.3707 - val_accuracy: 0.8873\n",
            "Epoch 8/15\n",
            "150/150 [==============================] - 490s 3s/step - loss: 0.4127 - accuracy: 0.8744 - val_loss: 0.3538 - val_accuracy: 0.8927\n",
            "Epoch 9/15\n",
            "150/150 [==============================] - 419s 3s/step - loss: 0.3863 - accuracy: 0.8817 - val_loss: 0.3378 - val_accuracy: 0.8972\n",
            "Epoch 10/15\n",
            "150/150 [==============================] - 421s 3s/step - loss: 0.3813 - accuracy: 0.8804 - val_loss: 0.3626 - val_accuracy: 0.8855\n",
            "Epoch 11/15\n",
            "150/150 [==============================] - 413s 3s/step - loss: 0.3808 - accuracy: 0.8802 - val_loss: 0.3264 - val_accuracy: 0.9002\n",
            "Epoch 12/15\n",
            "150/150 [==============================] - 414s 3s/step - loss: 0.3480 - accuracy: 0.8902 - val_loss: 0.3107 - val_accuracy: 0.8997\n",
            "Epoch 13/15\n",
            "150/150 [==============================] - 424s 3s/step - loss: 0.3269 - accuracy: 0.8971 - val_loss: 0.2955 - val_accuracy: 0.9081\n",
            "Epoch 14/15\n",
            "150/150 [==============================] - 425s 3s/step - loss: 0.3392 - accuracy: 0.8883 - val_loss: 0.3004 - val_accuracy: 0.9028\n",
            "Epoch 15/15\n",
            "150/150 [==============================] - 409s 3s/step - loss: 0.3099 - accuracy: 0.9021 - val_loss: 0.3007 - val_accuracy: 0.9054\n"
          ]
        }
      ],
      "source": [
        "# Train model\n",
        "history = model.fit(\n",
        "    train_data,\n",
        "    epochs=15,\n",
        "    steps_per_epoch=150,\n",
        "    validation_data=valid_data,\n",
        "    callbacks=[early_stopping_cb]\n",
        ")"
      ]
    },
    {
      "cell_type": "code",
      "execution_count": null,
      "metadata": {
        "id": "htkBaEecf4w7"
      },
      "outputs": [],
      "source": [
        "model.save(\"/content/drive/MyDrive/image_data_class/ai_plant_disease_detection_1.h5\")"
      ]
    },
    {
      "cell_type": "code",
      "execution_count": null,
      "metadata": {
        "id": "91yA8ES_f1rI",
        "colab": {
          "base_uri": "https://localhost:8080/"
        },
        "outputId": "7eb3f53c-cac7-429d-d4ad-be06fbe6f743"
      },
      "outputs": [
        {
          "output_type": "stream",
          "name": "stdout",
          "text": [
            "550/550 [==============================] - 517s 940ms/step - loss: 0.2962 - accuracy: 0.9069\n"
          ]
        },
        {
          "output_type": "execute_result",
          "data": {
            "text/plain": [
              "[0.2962462306022644, 0.9068973660469055]"
            ]
          },
          "metadata": {},
          "execution_count": 14
        }
      ],
      "source": [
        "model.evaluate(test_data)"
      ]
    },
    {
      "cell_type": "code",
      "execution_count": null,
      "metadata": {
        "id": "JgZ-5oyJAsRU",
        "colab": {
          "base_uri": "https://localhost:8080/"
        },
        "outputId": "ff0004c2-c161-4d45-b383-b7d2497e73d4"
      },
      "outputs": [
        {
          "output_type": "stream",
          "name": "stdout",
          "text": [
            "Model: \"model\"\n",
            "_________________________________________________________________\n",
            " Layer (type)                Output Shape              Param #   \n",
            "=================================================================\n",
            " input_2 (InputLayer)        [(None, 224, 224, 3)]     0         \n",
            "                                                                 \n",
            " mobilenetv2_1.00_224 (Funct  (None, 7, 7, 1280)       2257984   \n",
            " ional)                                                          \n",
            "                                                                 \n",
            " global_average_pooling2d (G  (None, 1280)             0         \n",
            " lobalAveragePooling2D)                                          \n",
            "                                                                 \n",
            " dropout (Dropout)           (None, 1280)              0         \n",
            "                                                                 \n",
            " dense (Dense)               (None, 38)                48678     \n",
            "                                                                 \n",
            "=================================================================\n",
            "Total params: 2,306,662\n",
            "Trainable params: 48,678\n",
            "Non-trainable params: 2,257,984\n",
            "_________________________________________________________________\n"
          ]
        }
      ],
      "source": [
        "# Load the model\n",
        "loaded_model = tf.keras.models.load_model('/content/drive/MyDrive/image_data_class/ai_plant_disease_detection_1.h5')\n",
        "\n",
        "# Print the summary of the loaded model\n",
        "loaded_model.summary()"
      ]
    },
    {
      "cell_type": "code",
      "execution_count": null,
      "metadata": {
        "id": "XPqIHCb4BNBU",
        "colab": {
          "base_uri": "https://localhost:8080/",
          "height": 489
        },
        "outputId": "5e243226-0d44-4d48-f200-2a448b4eb06b"
      },
      "outputs": [
        {
          "output_type": "execute_result",
          "data": {
            "text/plain": [
              "<function matplotlib.pyplot.legend(*args, **kwargs)>"
            ]
          },
          "metadata": {},
          "execution_count": 17
        },
        {
          "output_type": "display_data",
          "data": {
            "text/plain": [
              "<Figure size 1500x1300 with 2 Axes>"
            ],
            "image/png": "[encoded data removed]"
          },
          "metadata": {}
        }
      ],
      "source": [
        "import matplotlib.pyplot as plt\n",
        "acc = history.history['accuracy']\n",
        "val_acc = history.history['val_accuracy']\n",
        "loss = history.history['loss']\n",
        "val_loss = history.history['val_loss']\n",
        "epochs_range = range(15)\n",
        "plt.figure(figsize=(15, 13))\n",
        "plt.subplot(2, 2, 1)\n",
        "plt.plot(epochs_range, acc, label='Training Accuracy')\n",
        "plt.plot(epochs_range, val_acc, label='Validation Accuracy')\n",
        "plt.legend(loc='lower right')\n",
        "plt.title('Training and Validation Accuracy')\n",
        "plt.subplot(2, 2, 2)\n",
        "plt.plot(epochs_range, loss, label='Training Loss')\n",
        "plt.plot(epochs_range, val_loss, label='Validation Loss')\n",
        "plt.legend"
      ]
    },
    {
      "cell_type": "code",
      "execution_count": null,
      "metadata": {
        "id": "dTi3VRl5KXg1"
      },
      "outputs": [],
      "source": []
    }
  ],
  "metadata": {
    "colab": {
      "provenance": []
    },
    "kernelspec": {
      "display_name": "Python 3",
      "name": "python3"
    },
    "language_info": {
      "name": "python"
    }
  },
  "nbformat": 4,
  "nbformat_minor": 0
}