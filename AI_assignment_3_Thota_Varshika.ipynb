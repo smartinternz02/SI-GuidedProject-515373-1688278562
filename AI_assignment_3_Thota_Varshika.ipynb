{
  "nbformat": 4,
  "nbformat_minor": 0,
  "metadata": {
    "colab": {
      "provenance": [],
      "gpuType": "T4"
    },
    "kernelspec": {
      "name": "python3",
      "display_name": "Python 3"
    },
    "language_info": {
      "name": "python"
    },
    "accelerator": "GPU"
  },
  "cells": [
    {
      "cell_type": "markdown",
      "source": [
        "# Thota Varshika (20BPS1158)\n",
        "VIT chennai\n"
      ],
      "metadata": {
        "id": "5fEj7E_PWvN6"
      }
    },
    {
      "cell_type": "markdown",
      "source": [
        "# ***AI assignment-3***"
      ],
      "metadata": {
        "id": "WSFJv3IcW5cs"
      }
    },
    {
      "cell_type": "markdown",
      "source": [
        "# CNN Model"
      ],
      "metadata": {
        "id": "N5tC2WBipfLK"
      }
    },
    {
      "cell_type": "code",
      "source": [
        "from google.colab import drive\n",
        "drive.mount('/content/drive')"
      ],
      "metadata": {
        "colab": {
          "base_uri": "https://localhost:8080/"
        },
        "id": "t6bbGetbzzrE",
        "outputId": "4baf33be-a929-4a35-a72f-b8eb9b4d4d05"
      },
      "execution_count": null,
      "outputs": [
        {
          "output_type": "stream",
          "name": "stdout",
          "text": [
            "Drive already mounted at /content/drive; to attempt to forcibly remount, call drive.mount(\"/content/drive\", force_remount=True).\n"
          ]
        }
      ]
    },
    {
      "cell_type": "code",
      "execution_count": null,
      "metadata": {
        "id": "xMPcG-VOnChl"
      },
      "outputs": [],
      "source": [
        "from google.colab import drive\n",
        "import zipfile\n",
        "import os\n",
        "\n",
        "zip_file_path = '/content/drive/MyDrive/Summer_AI/test_data.zip'\n",
        "\n",
        "destination_folder = '/content/drive/MyDrive/Summer_AI'\n",
        "\n",
        "with zipfile.ZipFile(zip_file_path, 'r') as zip_ref:\n",
        "    zip_ref.extractall(destination_folder)\n"
      ]
    },
    {
      "cell_type": "code",
      "source": [
        "import tensorflow as tf\n",
        "from tensorflow.keras.layers import Conv2D, MaxPooling2D, Flatten, Dense\n",
        "from tensorflow.keras.preprocessing.image import ImageDataGenerator\n",
        "from tensorflow.keras.models import save_model"
      ],
      "metadata": {
        "id": "O9yNDRtapvbD"
      },
      "execution_count": null,
      "outputs": []
    },
    {
      "cell_type": "code",
      "source": [
        "train_datagen = ImageDataGenerator(rescale=1./255,  \n",
        "                                   shear_range=0.2,  \n",
        "                                   zoom_range=0.2,   \n",
        "                                   horizontal_flip=True)  \n",
        "\n",
        "train_set = train_datagen.flow_from_directory('/content/drive/MyDrive/Summer_AI/test_data',\n",
        "                                              target_size=(64, 64),  \n",
        "                                              batch_size=32,\n",
        "                                              class_mode='categorical')"
      ],
      "metadata": {
        "colab": {
          "base_uri": "https://localhost:8080/"
        },
        "id": "ET7mqKDx06vK",
        "outputId": "eae7ef40-f2f1-4504-fa98-80f49036f982"
      },
      "execution_count": null,
      "outputs": [
        {
          "output_type": "stream",
          "name": "stdout",
          "text": [
            "Found 157 images belonging to 16 classes.\n"
          ]
        }
      ]
    },
    {
      "cell_type": "markdown",
      "source": [
        "# Step 2: Building the CNN"
      ],
      "metadata": {
        "id": "V0aHndHv2FZE"
      }
    },
    {
      "cell_type": "code",
      "source": [
        "# Step 2: Building the CNN\n",
        "cnn = tf.keras.models.Sequential()\n",
        "\n",
        "cnn.add(Conv2D(filters=32, kernel_size=3, activation='relu', input_shape=(64, 64, 3)))\n",
        "cnn.add(MaxPooling2D(pool_size=2, strides=2))\n",
        "\n",
        "cnn.add(Conv2D(filters=64, kernel_size=3, activation='relu'))\n",
        "cnn.add(MaxPooling2D(pool_size=2, strides=2))\n",
        "\n",
        "cnn.add(Flatten())\n",
        "\n",
        "cnn.add(Dense(units=128, activation='relu'))\n",
        "cnn.add(Dense(units=16, activation='softmax'))"
      ],
      "metadata": {
        "id": "snQd5T1N15Uq"
      },
      "execution_count": null,
      "outputs": []
    },
    {
      "cell_type": "markdown",
      "source": [
        "# Step 3: Compiling and Training the CNN"
      ],
      "metadata": {
        "id": "7JAX2EJB2YKR"
      }
    },
    {
      "cell_type": "code",
      "source": [
        "# Step 3: Compiling and Training the CNN\n",
        "cnn.compile(optimizer='adam', loss='categorical_crossentropy', metrics=['accuracy'])\n",
        "\n"
      ],
      "metadata": {
        "id": "3Av46jCA2T3s"
      },
      "execution_count": null,
      "outputs": []
    },
    {
      "cell_type": "code",
      "source": [
        "cnn.fit(x=train_set, epochs=50)"
      ],
      "metadata": {
        "colab": {
          "base_uri": "https://localhost:8080/"
        },
        "id": "RIbsovWi2bOK",
        "outputId": "073205ea-ddde-4525-80c2-e8061bc17937"
      },
      "execution_count": null,
      "outputs": [
        {
          "output_type": "stream",
          "name": "stdout",
          "text": [
            "Epoch 1/50\n",
            "5/5 [==============================] - 50s 10s/step - loss: 1.5940 - accuracy: 0.4904\n",
            "Epoch 2/50\n",
            "5/5 [==============================] - 49s 10s/step - loss: 1.4709 - accuracy: 0.5159\n",
            "Epoch 3/50\n",
            "5/5 [==============================] - 50s 10s/step - loss: 1.3652 - accuracy: 0.5732\n",
            "Epoch 4/50\n",
            "5/5 [==============================] - 50s 10s/step - loss: 1.2260 - accuracy: 0.6178\n",
            "Epoch 5/50\n",
            "5/5 [==============================] - 50s 10s/step - loss: 1.0986 - accuracy: 0.6879\n",
            "Epoch 6/50\n",
            "5/5 [==============================] - 49s 9s/step - loss: 1.0334 - accuracy: 0.6624\n",
            "Epoch 7/50\n",
            "5/5 [==============================] - 51s 10s/step - loss: 0.9096 - accuracy: 0.7580\n",
            "Epoch 8/50\n",
            "5/5 [==============================] - 51s 10s/step - loss: 0.8806 - accuracy: 0.7389\n",
            "Epoch 9/50\n",
            "5/5 [==============================] - 50s 10s/step - loss: 0.8091 - accuracy: 0.7452\n",
            "Epoch 10/50\n",
            "5/5 [==============================] - 51s 10s/step - loss: 0.7466 - accuracy: 0.7643\n",
            "Epoch 11/50\n",
            "5/5 [==============================] - 50s 10s/step - loss: 0.6992 - accuracy: 0.7834\n",
            "Epoch 12/50\n",
            "5/5 [==============================] - 51s 10s/step - loss: 0.6304 - accuracy: 0.7962\n",
            "Epoch 13/50\n",
            "5/5 [==============================] - 49s 10s/step - loss: 0.5846 - accuracy: 0.8471\n",
            "Epoch 14/50\n",
            "5/5 [==============================] - 51s 10s/step - loss: 0.6039 - accuracy: 0.7962\n",
            "Epoch 15/50\n",
            "5/5 [==============================] - 50s 11s/step - loss: 0.5597 - accuracy: 0.8408\n",
            "Epoch 16/50\n",
            "5/5 [==============================] - 51s 11s/step - loss: 0.5533 - accuracy: 0.8089\n",
            "Epoch 17/50\n",
            "5/5 [==============================] - 53s 11s/step - loss: 0.5056 - accuracy: 0.8662\n",
            "Epoch 18/50\n",
            "5/5 [==============================] - 50s 10s/step - loss: 0.4027 - accuracy: 0.8981\n",
            "Epoch 19/50\n",
            "5/5 [==============================] - 50s 10s/step - loss: 0.4325 - accuracy: 0.8726\n",
            "Epoch 20/50\n",
            "5/5 [==============================] - 49s 10s/step - loss: 0.4213 - accuracy: 0.8854\n",
            "Epoch 21/50\n",
            "5/5 [==============================] - 50s 10s/step - loss: 0.3667 - accuracy: 0.8790\n",
            "Epoch 22/50\n",
            "5/5 [==============================] - 49s 9s/step - loss: 0.2892 - accuracy: 0.9236\n",
            "Epoch 23/50\n",
            "5/5 [==============================] - 51s 10s/step - loss: 0.2603 - accuracy: 0.9490\n",
            "Epoch 24/50\n",
            "5/5 [==============================] - 50s 10s/step - loss: 0.2866 - accuracy: 0.9108\n",
            "Epoch 25/50\n",
            "5/5 [==============================] - 50s 10s/step - loss: 0.2372 - accuracy: 0.9427\n",
            "Epoch 26/50\n",
            "5/5 [==============================] - 50s 10s/step - loss: 0.2209 - accuracy: 0.9554\n",
            "Epoch 27/50\n",
            "5/5 [==============================] - 48s 10s/step - loss: 0.2054 - accuracy: 0.9490\n",
            "Epoch 28/50\n",
            "5/5 [==============================] - 50s 10s/step - loss: 0.2526 - accuracy: 0.9108\n",
            "Epoch 29/50\n",
            "5/5 [==============================] - 49s 10s/step - loss: 0.1761 - accuracy: 0.9554\n",
            "Epoch 30/50\n",
            "5/5 [==============================] - 50s 10s/step - loss: 0.1984 - accuracy: 0.9490\n",
            "Epoch 31/50\n",
            "5/5 [==============================] - 49s 10s/step - loss: 0.1645 - accuracy: 0.9490\n",
            "Epoch 32/50\n",
            "5/5 [==============================] - 50s 10s/step - loss: 0.1617 - accuracy: 0.9682\n",
            "Epoch 33/50\n",
            "5/5 [==============================] - 49s 10s/step - loss: 0.1311 - accuracy: 0.9618\n",
            "Epoch 34/50\n",
            "5/5 [==============================] - 50s 10s/step - loss: 0.1180 - accuracy: 0.9618\n",
            "Epoch 35/50\n",
            "5/5 [==============================] - 49s 10s/step - loss: 0.1267 - accuracy: 0.9873\n",
            "Epoch 36/50\n",
            "5/5 [==============================] - 50s 10s/step - loss: 0.1447 - accuracy: 0.9618\n",
            "Epoch 37/50\n",
            "5/5 [==============================] - 50s 10s/step - loss: 0.1360 - accuracy: 0.9682\n",
            "Epoch 38/50\n",
            "5/5 [==============================] - 49s 10s/step - loss: 0.1165 - accuracy: 0.9554\n",
            "Epoch 39/50\n",
            "5/5 [==============================] - 50s 10s/step - loss: 0.1138 - accuracy: 0.9873\n",
            "Epoch 40/50\n",
            "5/5 [==============================] - 50s 10s/step - loss: 0.1066 - accuracy: 0.9745\n",
            "Epoch 41/50\n",
            "5/5 [==============================] - 50s 10s/step - loss: 0.0858 - accuracy: 0.9873\n",
            "Epoch 42/50\n",
            "5/5 [==============================] - 48s 10s/step - loss: 0.0904 - accuracy: 0.9873\n",
            "Epoch 43/50\n",
            "5/5 [==============================] - 50s 10s/step - loss: 0.0949 - accuracy: 0.9809\n",
            "Epoch 44/50\n",
            "5/5 [==============================] - 49s 10s/step - loss: 0.0730 - accuracy: 0.9936\n",
            "Epoch 45/50\n",
            "5/5 [==============================] - 50s 10s/step - loss: 0.0984 - accuracy: 0.9745\n",
            "Epoch 46/50\n",
            "5/5 [==============================] - 49s 10s/step - loss: 0.0773 - accuracy: 0.9873\n",
            "Epoch 47/50\n",
            "5/5 [==============================] - 50s 10s/step - loss: 0.0613 - accuracy: 0.9936\n",
            "Epoch 48/50\n",
            "5/5 [==============================] - 50s 10s/step - loss: 0.0692 - accuracy: 0.9873\n",
            "Epoch 49/50\n",
            "5/5 [==============================] - 49s 10s/step - loss: 0.0597 - accuracy: 0.9809\n",
            "Epoch 50/50\n",
            "5/5 [==============================] - 49s 10s/step - loss: 0.0446 - accuracy: 0.9936\n"
          ]
        },
        {
          "output_type": "execute_result",
          "data": {
            "text/plain": [
              "<keras.callbacks.History at 0x7f65a54d38b0>"
            ]
          },
          "metadata": {},
          "execution_count": 9
        }
      ]
    },
    {
      "cell_type": "code",
      "source": [
        "save_model(cnn, '/content/drive/MyDrive/Summer_AI/assign_3_model.h5')\n"
      ],
      "metadata": {
        "id": "TNCf1O4T2_xq"
      },
      "execution_count": null,
      "outputs": []
    },
    {
      "cell_type": "code",
      "source": [
        "import tensorflow as tf\n",
        "from tensorflow.keras.preprocessing.image import load_img, img_to_array\n",
        "import numpy as np\n",
        "\n",
        "# Load the saved model\n",
        "saved_model_path = '/content/drive/MyDrive/Summer_AI/assign_3_model.h5'  \n",
        "model = tf.keras.models.load_model(saved_model_path)\n",
        "\n",
        "class_names = list(train_set.class_indices.keys())\n",
        "\n",
        "\n",
        "\n",
        "def preprocess_image(image_path):\n",
        "    image = load_img(image_path, target_size=(64, 64))\n",
        "    image = img_to_array(image)\n",
        "    image = image / 255.0  \n",
        "    image = np.expand_dims(image, axis=0)  \n",
        "    return image\n",
        "\n",
        "# Example usage\n",
        "image_path = '/content/drive/MyDrive/Summer_AI/test_data/wcrsrt/100_4462.JPG'  \n",
        "preprocessed_image = preprocess_image(image_path)\n",
        "\n",
        "# Make predictions\n",
        "predictions = model.predict(preprocessed_image)\n",
        "class_index = np.argmax(predictions[0])\n",
        "confidence = predictions[0][class_index]\n",
        "class_name = class_names[class_index]\n",
        "\n",
        "print(\"Predicted class:\", class_index)\n",
        "print(\"Predicted class name:\", class_name)\n",
        "print(\"Confidence:\", confidence)\n",
        "\n"
      ],
      "metadata": {
        "colab": {
          "base_uri": "https://localhost:8080/"
        },
        "id": "YcPx-V1hN1Tx",
        "outputId": "44cca5f5-2048-489c-d5a9-c88c1a580f89"
      },
      "execution_count": null,
      "outputs": [
        {
          "output_type": "stream",
          "name": "stderr",
          "text": [
            "WARNING:tensorflow:5 out of the last 5 calls to <function Model.make_predict_function.<locals>.predict_function at 0x7f112ddada20> triggered tf.function retracing. Tracing is expensive and the excessive number of tracings could be due to (1) creating @tf.function repeatedly in a loop, (2) passing tensors with different shapes, (3) passing Python objects instead of tensors. For (1), please define your @tf.function outside of the loop. For (2), @tf.function has reduce_retracing=True option that can avoid unnecessary retracing. For (3), please refer to https://www.tensorflow.org/guide/function#controlling_retracing and https://www.tensorflow.org/api_docs/python/tf/function for  more details.\n"
          ]
        },
        {
          "output_type": "stream",
          "name": "stdout",
          "text": [
            "1/1 [==============================] - 0s 65ms/step\n",
            "Predicted class: 15\n",
            "Predicted class name: wcrsrt\n",
            "Confidence: 0.99925333\n"
          ]
        }
      ]
    },
    {
      "cell_type": "markdown",
      "source": [
        "# **Model Using Transfer Learning**"
      ],
      "metadata": {
        "id": "JfQh2e0LXMjh"
      }
    },
    {
      "cell_type": "markdown",
      "source": [
        "# VGG16"
      ],
      "metadata": {
        "id": "0bsEnONpcjeD"
      }
    },
    {
      "cell_type": "code",
      "source": [
        "import tensorflow as tf\n",
        "from tensorflow.keras.applications.vgg16 import VGG16\n",
        "from tensorflow.keras.preprocessing.image import ImageDataGenerator\n",
        "from tensorflow.keras.models import Sequential\n",
        "from tensorflow.keras.layers import Dense, Flatten"
      ],
      "metadata": {
        "id": "gLaWm5SVXMC-"
      },
      "execution_count": null,
      "outputs": []
    },
    {
      "cell_type": "markdown",
      "source": [
        "# Load the VGG16 model"
      ],
      "metadata": {
        "id": "U1ohB81tcr90"
      }
    },
    {
      "cell_type": "code",
      "source": [
        "base_model = VGG16(weights='imagenet', include_top=False, input_shape=(224, 224, 3))\n"
      ],
      "metadata": {
        "colab": {
          "base_uri": "https://localhost:8080/"
        },
        "id": "rDqcIkxxcrXo",
        "outputId": "78e67645-91b7-40ac-ca35-d58c9862e2c2"
      },
      "execution_count": null,
      "outputs": [
        {
          "output_type": "stream",
          "name": "stdout",
          "text": [
            "Downloading data from https://storage.googleapis.com/tensorflow/keras-applications/vgg16/vgg16_weights_tf_dim_ordering_tf_kernels_notop.h5\n",
            "58889256/58889256 [==============================] - 0s 0us/step\n"
          ]
        }
      ]
    },
    {
      "cell_type": "code",
      "source": [
        "# Freeze the pre-trained weights\n",
        "for layer in base_model.layers:\n",
        "    layer.trainable = False\n",
        "\n",
        "# Create a new model\n",
        "model = Sequential()\n",
        "model.add(base_model)\n",
        "model.add(Flatten())\n",
        "model.add(Dense(256, activation='relu'))\n",
        "model.add(Dense(16, activation='softmax'))  "
      ],
      "metadata": {
        "id": "jORjvzUfczOr"
      },
      "execution_count": null,
      "outputs": []
    },
    {
      "cell_type": "code",
      "source": [
        "# Compile the model\n",
        "model.compile(optimizer='adam', loss='categorical_crossentropy', metrics=['accuracy'])\n"
      ],
      "metadata": {
        "id": "Tg9wxuWyc0Xe"
      },
      "execution_count": null,
      "outputs": []
    },
    {
      "cell_type": "code",
      "source": [
        "# Load and preprocess the data using ImageDataGenerator\n",
        "train_datagen = ImageDataGenerator(rescale=1.0/255.0, \n",
        "                                   shear_range=0.2, \n",
        "                                   zoom_range=0.2, \n",
        "                                   horizontal_flip=True)\n",
        "test_datagen = ImageDataGenerator(rescale=1.0/255.0)\n",
        "\n",
        "train_data = train_datagen.flow_from_directory('/content/drive/MyDrive/Summer_AI/train_data', \n",
        "                                               target_size=(224, 224),\n",
        "                                               batch_size=32, class_mode='categorical')\n",
        "test_data = test_datagen.flow_from_directory('/content/drive/MyDrive/Summer_AI/test_data',\n",
        "                                             target_size=(224, 224), \n",
        "                                             batch_size=32, class_mode='categorical')\n"
      ],
      "metadata": {
        "colab": {
          "base_uri": "https://localhost:8080/"
        },
        "id": "UzDNq6vVc8Gz",
        "outputId": "dd68b143-7ecf-4442-d364-246521cb2a11"
      },
      "execution_count": null,
      "outputs": [
        {
          "output_type": "stream",
          "name": "stdout",
          "text": [
            "Found 150 images belonging to 16 classes.\n",
            "Found 157 images belonging to 16 classes.\n"
          ]
        }
      ]
    },
    {
      "cell_type": "code",
      "source": [
        "# Train the model\n",
        "history = model.fit(train_data, epochs=10, validation_data=test_data)\n",
        "\n"
      ],
      "metadata": {
        "colab": {
          "base_uri": "https://localhost:8080/"
        },
        "id": "nJ0ctnsRdPyB",
        "outputId": "df041cc8-7a33-4e8c-de64-230dafab4c28"
      },
      "execution_count": null,
      "outputs": [
        {
          "output_type": "stream",
          "name": "stdout",
          "text": [
            "Epoch 1/10\n",
            "5/5 [==============================] - 95s 22s/step - loss: 0.7359 - accuracy: 0.7800 - val_loss: 2.4970 - val_accuracy: 0.3694\n",
            "Epoch 2/10\n",
            "5/5 [==============================] - 89s 20s/step - loss: 0.4450 - accuracy: 0.8800 - val_loss: 2.5561 - val_accuracy: 0.3503\n",
            "Epoch 3/10\n",
            "5/5 [==============================] - 86s 19s/step - loss: 0.3203 - accuracy: 0.9200 - val_loss: 2.8096 - val_accuracy: 0.3631\n",
            "Epoch 4/10\n",
            "5/5 [==============================] - 120s 29s/step - loss: 0.1985 - accuracy: 0.9533 - val_loss: 3.0649 - val_accuracy: 0.3503\n",
            "Epoch 5/10\n",
            "5/5 [==============================] - 89s 20s/step - loss: 0.1606 - accuracy: 0.9600 - val_loss: 2.9509 - val_accuracy: 0.3567\n",
            "Epoch 6/10\n",
            "5/5 [==============================] - 88s 21s/step - loss: 0.1166 - accuracy: 0.9733 - val_loss: 2.9077 - val_accuracy: 0.3694\n",
            "Epoch 7/10\n",
            "5/5 [==============================] - 87s 19s/step - loss: 0.0880 - accuracy: 0.9933 - val_loss: 2.7887 - val_accuracy: 0.4076\n",
            "Epoch 8/10\n",
            "5/5 [==============================] - 88s 21s/step - loss: 0.0611 - accuracy: 1.0000 - val_loss: 2.8562 - val_accuracy: 0.4140\n",
            "Epoch 9/10\n",
            "5/5 [==============================] - 88s 20s/step - loss: 0.0511 - accuracy: 1.0000 - val_loss: 3.0325 - val_accuracy: 0.4013\n",
            "Epoch 10/10\n",
            "5/5 [==============================] - 87s 20s/step - loss: 0.0376 - accuracy: 1.0000 - val_loss: 3.2010 - val_accuracy: 0.3758\n"
          ]
        }
      ]
    },
    {
      "cell_type": "code",
      "source": [
        "# Save the model\n",
        "model.save('/content/drive/MyDrive/Summer_AI/AI_assign3_vgg_model.h5')\n",
        "\n"
      ],
      "metadata": {
        "id": "aKVeVXoFdTwo"
      },
      "execution_count": null,
      "outputs": []
    },
    {
      "cell_type": "code",
      "source": [
        "# Load the model\n",
        "loaded_model = tf.keras.models.load_model('/content/drive/MyDrive/Summer_AI/AI_assign3_vgg_model.h5')\n"
      ],
      "metadata": {
        "id": "0O8nO7Qed5xk"
      },
      "execution_count": null,
      "outputs": []
    },
    {
      "cell_type": "code",
      "source": [
        "# Use the loaded model to predict the class of an image\n",
        "image_path = '/content/100_4453.JPG'\n",
        "image = tf.keras.preprocessing.image.load_img(image_path, target_size=(224, 224))\n",
        "image = tf.keras.preprocessing.image.img_to_array(image)\n",
        "image = image / 255.0\n",
        "image = tf.expand_dims(image, axis=0)\n",
        "predictions = loaded_model.predict(image)\n",
        "class_index = tf.argmax(predictions, axis=1)[0]\n",
        "class_label = train_data.class_indices\n",
        "for key, value in class_label.items():\n",
        "    if value == class_index:\n",
        "        predicted_class = key\n",
        "        break\n",
        "print(\"Predicted Class:\", predicted_class)"
      ],
      "metadata": {
        "colab": {
          "base_uri": "https://localhost:8080/"
        },
        "id": "19kkeaN1eCl8",
        "outputId": "6713ca70-8ecc-4f0d-e2cf-aaffa6afe9fd"
      },
      "execution_count": null,
      "outputs": [
        {
          "output_type": "stream",
          "name": "stderr",
          "text": [
            "WARNING:tensorflow:6 out of the last 6 calls to <function Model.make_predict_function.<locals>.predict_function at 0x7f112d84d000> triggered tf.function retracing. Tracing is expensive and the excessive number of tracings could be due to (1) creating @tf.function repeatedly in a loop, (2) passing tensors with different shapes, (3) passing Python objects instead of tensors. For (1), please define your @tf.function outside of the loop. For (2), @tf.function has reduce_retracing=True option that can avoid unnecessary retracing. For (3), please refer to https://www.tensorflow.org/guide/function#controlling_retracing and https://www.tensorflow.org/api_docs/python/tf/function for  more details.\n"
          ]
        },
        {
          "output_type": "stream",
          "name": "stdout",
          "text": [
            "1/1 [==============================] - 1s 810ms/step\n",
            "Predicted Class: wcrsrt\n"
          ]
        }
      ]
    },
    {
      "cell_type": "code",
      "source": [
        "# Plot accuracy and loss curves\n",
        "import matplotlib.pyplot as plt\n",
        "plt.figure(figsize=(12, 4))\n",
        "plt.subplot(1, 2, 1)\n",
        "plt.plot(history.history['accuracy'], label='Training Accuracy')\n",
        "plt.plot(history.history['val_accuracy'], label='Validation Accuracy')\n",
        "plt.xlabel('Epoch')\n",
        "plt.ylabel('Accuracy')\n",
        "plt.legend()\n",
        "\n",
        "plt.subplot(1, 2, 2)\n",
        "plt.plot(history.history['loss'], label='Training Loss')\n",
        "plt.plot(history.history['val_loss'], label='Validation Loss')\n",
        "plt.xlabel('Epoch')\n",
        "plt.ylabel('Loss')\n",
        "plt.legend()\n",
        "\n",
        "plt.tight_layout()\n",
        "plt.show()"
      ],
      "metadata": {
        "colab": {
          "base_uri": "https://localhost:8080/",
          "height": 364
        },
        "id": "frBXIYifeo7l",
        "outputId": "f04c852c-36a9-4157-d909-9632912ce2f1"
      },
      "execution_count": null,
      "outputs": [
        {
          "output_type": "display_data",
          "data": {
            "text/plain": [
              "<Figure size 1200x400 with 2 Axes>"
            ],
            "image/png": "[encoded data removed]"
          },
          "metadata": {}
        }
      ]
    }
  ]
}