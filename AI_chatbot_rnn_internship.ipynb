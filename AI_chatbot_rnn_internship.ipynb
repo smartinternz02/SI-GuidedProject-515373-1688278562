{
  "nbformat": 4,
  "nbformat_minor": 0,
  "metadata": {
    "colab": {
      "provenance": [],
      "gpuType": "T4"
    },
    "kernelspec": {
      "name": "python3",
      "display_name": "Python 3"
    },
    "language_info": {
      "name": "python"
    },
    "accelerator": "GPU"
  },
  "cells": [
    {
      "cell_type": "code",
      "execution_count": null,
      "metadata": {
        "id": "g58TbVd5x_pH"
      },
      "outputs": [],
      "source": [
        "import pandas as pd\n",
        "import numpy as np\n",
        "import matplotlib.pyplot as plt\n",
        "from pathlib import Path\n",
        "import string\n",
        "import re\n",
        "import joblib\n",
        "import json\n",
        "from collections import Counter\n",
        "import nltk\n",
        "from nltk.corpus import stopwords\n",
        "from nltk.stem import WordNetLemmatizer\n",
        "import pickle\n",
        "\n",
        "from tensorflow.keras.preprocessing.text import Tokenizer\n",
        "from tensorflow.keras.preprocessing.sequence import pad_sequences\n",
        "from tensorflow.keras.utils import plot_model\n",
        "from tensorflow.keras.models import Sequential, Model\n",
        "from tensorflow.keras.layers import Embedding, Dense, Flatten, Conv1D, MaxPooling1D, SimpleRNN, GRU, LSTM, LSTM, Input, Embedding, TimeDistributed, Flatten, Dropout,Bidirectional\n",
        "from tensorflow.keras.callbacks import ModelCheckpoint, EarlyStopping, ReduceLROnPlateau\n"
      ]
    },
    {
      "cell_type": "code",
      "source": [
        "nltk.download('punkt')\n",
        "nltk.download('stopwords')\n",
        "nltk.download('wordnet')"
      ],
      "metadata": {
        "colab": {
          "base_uri": "https://localhost:8080/"
        },
        "id": "B3Jyap7wEgDj",
        "outputId": "788ea8f5-0802-43a5-b326-0d7676b5241a"
      },
      "execution_count": null,
      "outputs": [
        {
          "output_type": "stream",
          "name": "stderr",
          "text": [
            "[nltk_data] Downloading package punkt to /root/nltk_data...\n",
            "[nltk_data]   Package punkt is already up-to-date!\n",
            "[nltk_data] Downloading package stopwords to /root/nltk_data...\n",
            "[nltk_data]   Package stopwords is already up-to-date!\n",
            "[nltk_data] Downloading package wordnet to /root/nltk_data...\n",
            "[nltk_data]   Package wordnet is already up-to-date!\n"
          ]
        },
        {
          "output_type": "execute_result",
          "data": {
            "text/plain": [
              "True"
            ]
          },
          "metadata": {},
          "execution_count": 5
        }
      ]
    },
    {
      "cell_type": "code",
      "source": [
        "with open('/content/kcc.json') as file:\n",
        "  data = json.load(file)\n",
        "\n",
        "data"
      ],
      "metadata": {
        "colab": {
          "base_uri": "https://localhost:8080/"
        },
        "id": "7ZYAs6eqIVZJ",
        "outputId": "e42736ad-7ada-43dc-b085-52abb53c1985"
      },
      "execution_count": null,
      "outputs": [
        {
          "output_type": "execute_result",
          "data": {
            "text/plain": [
              "{'intents': [{'tag': 'GOURD VARIETIES',\n",
              "   'patterns': ['RIDGE GOURD VARIETIES',\n",
              "    'RIDGE GOURD VARIETIES in telanaga',\n",
              "    'Poṭlakāya varieties'],\n",
              "   'responses': ['RIDGE GOURD VARIETIES ;-SUREKA ,SANJIVANI,MAHIMA,NS-3 ,401,403'],\n",
              "   'context': ['']},\n",
              "  {'tag': 'BEANS SOWING',\n",
              "   'patterns': ['BEANS SOWING TIME?', 'BEANS SOWING TIME in telangana'],\n",
              "   'responses': ['BEANS SOWING TIME ;- JUNE -JULY '],\n",
              "   'context': ['']},\n",
              "  {'tag': 'Plant Protection',\n",
              "   'patterns': ['WHITE FLY MANAGEMENT IN CUCUMBER', 'WHITE FLY MANAGEMENT'],\n",
              "   'responses': ['RECOMMENDED TO SPRAY ACEPHATE (ARTHIN) 300 GRAMS/ 200 LITRES OF WATER / ACRE \\n(OR)\\nRECOMMENDED TO SPRAY THIAMETHOXAM (ACTARA/CRULSER) 40 GRAMS /200 LITRES OF WATER / ACRE '],\n",
              "   'context': ['']},\n",
              "  {'tag': 'BASMATHI Seeds',\n",
              "   'patterns': ['BASMATHI SEED VARIETIES ?',\n",
              "    'BASMATHI SEED VARIETIES in telangana?',\n",
              "    'PADDY BASMATHI VARIETIES'],\n",
              "   'responses': ['These are Basmati 217, Basmati 370, Type 3 (Dehraduni Basmati) Punjab Basmati 1 (Bauni Basmati), Pusa Basmati 1, Kasturi, Haryana Basmati 1, Mahi Sugandha, Taraori Basmati (HBC 19 / Karnal Local), Ranbir Basmati, Basmati 386, Improved Pusa Basmati 1 (Pusa 1460), Pusa Basmati 1121 (After amendment), Vallabh Basmati 22, Pusa Basmati 6 (Pusa 1401), Punjab Basmati 2, Basmati CSR 30 (After amendment), Malviya Basmati Dhan 10-9 (IET 21669), Vallabh Basmati 21 (IET 19493), Pusa Basmati 1509 (IET 21960), Basmati 564, Vallabh Basmati 23, Vallabh Basmati 24, Pusa Basmati 1609, Pant Basmati 1 (IET 21665), Pant Basmati 2 (IET 21953), Punjab Basmati 3, Pusa Basmati 1637, Pusa Basmati 1728, Pusa Basmati 1718, Punjab Basmati 4, Punjab Basmati 5, Haryana Basmati 2 and Pusa Basmati 1692.'],\n",
              "   'context': ['']},\n",
              "  {'tag': 'RNR PADDY SEEDS',\n",
              "   'patterns': ['SOWING TIME OF RNR PADDY SEEDS?',\n",
              "    'SOWING TIME OF RNR PADDY SEEDS in telangana'],\n",
              "   'responses': ['RECOMMENDED TO SOW FROM JUNE 3RD WEEK.'],\n",
              "   'context': ['']},\n",
              "  {'tag': 'CLUSTER BEANS',\n",
              "   'patterns': ['VARIETIES OF CLUSTER BEANS',\n",
              "    'VARIETIES OF CLUSTER BEANS in telangana'],\n",
              "   'responses': ['RECOMMENDED VARIETIES ARE PUSA SADHABAHAR,PUSA MOUSAMI,PUSANAVA BAHAR'],\n",
              "   'context': ['']},\n",
              "  {'tag': 'CHILLI SOWING',\n",
              "   'patterns': ['CHILLI SOWING', 'CHILLI SOWING time?'],\n",
              "   'responses': ['RECOMMENDED CHILLI SOWING TIME ;JULY-AUG '],\n",
              "   'context': ['']},\n",
              "  {'tag': 'VARIETIES OF CHILLI',\n",
              "   'patterns': ['VARIETIES OF CHILLI?', 'VARIETIES OF CHILLI in telangana?'],\n",
              "   'responses': ['VARIETIES ARE Sindhur (CA 960), Kiran (LCA-200), Bhaskar (LCA-233), Prakash (LCA-206), Warangal Local (Tomato Chilli)'],\n",
              "   'context': ['']},\n",
              "  {'tag': 'LEAF EATING CATERPILLER',\n",
              "   'patterns': ['LEAF EATING CATERPILLER IN PADDY NURSERY MANAGEMENT?',\n",
              "    'CATERPILLER MANAGEMENT?'],\n",
              "   'responses': ['Acipate should be sprayed at the rate of 300 grams / 200 liters of water '],\n",
              "   'context': ['']},\n",
              "  {'tag': 'Weed Management',\n",
              "   'patterns': ['WEED MANAGEMENT of NAPIER GRASS?',\n",
              "    'WEED MANAGEMENT of NAPIER GRASS in telangana?'],\n",
              "   'responses': ['no weedicide recommendation'],\n",
              "   'context': ['']}]}"
            ]
          },
          "metadata": {},
          "execution_count": 6
        }
      ]
    },
    {
      "cell_type": "code",
      "source": [
        "import json\n",
        "import pandas as pd\n",
        "\n",
        "def frame_data(feat_1,feat_2,is_pattern):\n",
        "  is_pattern = is_pattern\n",
        "  df = pd.DataFrame(columns=[feat_1,feat_2])\n",
        "  for intent in data['intents']:\n",
        "    if is_pattern:\n",
        "      for pattern in intent['patterns']:\n",
        "        w = pattern\n",
        "        df_to_append = pd.Series([w,intent['tag']], index = df.columns)\n",
        "        df = df.append(df_to_append,ignore_index=True)\n",
        "    else:\n",
        "      for response in intent['responses']:\n",
        "        w = response\n",
        "        df_to_append = pd.Series([w,intent['tag']], index = df.columns)\n",
        "        df = df.append(df_to_append,ignore_index=True)\n",
        "  return df\n",
        "\n",
        "# Example usage\n",
        "df1 = frame_data('questions','labels', True)\n",
        "df1.head()\n"
      ],
      "metadata": {
        "id": "UHD01tANyDE5",
        "colab": {
          "base_uri": "https://localhost:8080/",
          "height": 989
        },
        "outputId": "8dd79d56-b9e8-4229-b6eb-a268aa48c84b"
      },
      "execution_count": null,
      "outputs": [
        {
          "output_type": "stream",
          "name": "stderr",
          "text": [
            "<ipython-input-7-8fe6f714d0be>:12: FutureWarning: The frame.append method is deprecated and will be removed from pandas in a future version. Use pandas.concat instead.\n",
            "  df = df.append(df_to_append,ignore_index=True)\n",
            "<ipython-input-7-8fe6f714d0be>:12: FutureWarning: The frame.append method is deprecated and will be removed from pandas in a future version. Use pandas.concat instead.\n",
            "  df = df.append(df_to_append,ignore_index=True)\n",
            "<ipython-input-7-8fe6f714d0be>:12: FutureWarning: The frame.append method is deprecated and will be removed from pandas in a future version. Use pandas.concat instead.\n",
            "  df = df.append(df_to_append,ignore_index=True)\n",
            "<ipython-input-7-8fe6f714d0be>:12: FutureWarning: The frame.append method is deprecated and will be removed from pandas in a future version. Use pandas.concat instead.\n",
            "  df = df.append(df_to_append,ignore_index=True)\n",
            "<ipython-input-7-8fe6f714d0be>:12: FutureWarning: The frame.append method is deprecated and will be removed from pandas in a future version. Use pandas.concat instead.\n",
            "  df = df.append(df_to_append,ignore_index=True)\n",
            "<ipython-input-7-8fe6f714d0be>:12: FutureWarning: The frame.append method is deprecated and will be removed from pandas in a future version. Use pandas.concat instead.\n",
            "  df = df.append(df_to_append,ignore_index=True)\n",
            "<ipython-input-7-8fe6f714d0be>:12: FutureWarning: The frame.append method is deprecated and will be removed from pandas in a future version. Use pandas.concat instead.\n",
            "  df = df.append(df_to_append,ignore_index=True)\n",
            "<ipython-input-7-8fe6f714d0be>:12: FutureWarning: The frame.append method is deprecated and will be removed from pandas in a future version. Use pandas.concat instead.\n",
            "  df = df.append(df_to_append,ignore_index=True)\n",
            "<ipython-input-7-8fe6f714d0be>:12: FutureWarning: The frame.append method is deprecated and will be removed from pandas in a future version. Use pandas.concat instead.\n",
            "  df = df.append(df_to_append,ignore_index=True)\n",
            "<ipython-input-7-8fe6f714d0be>:12: FutureWarning: The frame.append method is deprecated and will be removed from pandas in a future version. Use pandas.concat instead.\n",
            "  df = df.append(df_to_append,ignore_index=True)\n",
            "<ipython-input-7-8fe6f714d0be>:12: FutureWarning: The frame.append method is deprecated and will be removed from pandas in a future version. Use pandas.concat instead.\n",
            "  df = df.append(df_to_append,ignore_index=True)\n",
            "<ipython-input-7-8fe6f714d0be>:12: FutureWarning: The frame.append method is deprecated and will be removed from pandas in a future version. Use pandas.concat instead.\n",
            "  df = df.append(df_to_append,ignore_index=True)\n",
            "<ipython-input-7-8fe6f714d0be>:12: FutureWarning: The frame.append method is deprecated and will be removed from pandas in a future version. Use pandas.concat instead.\n",
            "  df = df.append(df_to_append,ignore_index=True)\n",
            "<ipython-input-7-8fe6f714d0be>:12: FutureWarning: The frame.append method is deprecated and will be removed from pandas in a future version. Use pandas.concat instead.\n",
            "  df = df.append(df_to_append,ignore_index=True)\n",
            "<ipython-input-7-8fe6f714d0be>:12: FutureWarning: The frame.append method is deprecated and will be removed from pandas in a future version. Use pandas.concat instead.\n",
            "  df = df.append(df_to_append,ignore_index=True)\n",
            "<ipython-input-7-8fe6f714d0be>:12: FutureWarning: The frame.append method is deprecated and will be removed from pandas in a future version. Use pandas.concat instead.\n",
            "  df = df.append(df_to_append,ignore_index=True)\n",
            "<ipython-input-7-8fe6f714d0be>:12: FutureWarning: The frame.append method is deprecated and will be removed from pandas in a future version. Use pandas.concat instead.\n",
            "  df = df.append(df_to_append,ignore_index=True)\n",
            "<ipython-input-7-8fe6f714d0be>:12: FutureWarning: The frame.append method is deprecated and will be removed from pandas in a future version. Use pandas.concat instead.\n",
            "  df = df.append(df_to_append,ignore_index=True)\n",
            "<ipython-input-7-8fe6f714d0be>:12: FutureWarning: The frame.append method is deprecated and will be removed from pandas in a future version. Use pandas.concat instead.\n",
            "  df = df.append(df_to_append,ignore_index=True)\n",
            "<ipython-input-7-8fe6f714d0be>:12: FutureWarning: The frame.append method is deprecated and will be removed from pandas in a future version. Use pandas.concat instead.\n",
            "  df = df.append(df_to_append,ignore_index=True)\n",
            "<ipython-input-7-8fe6f714d0be>:12: FutureWarning: The frame.append method is deprecated and will be removed from pandas in a future version. Use pandas.concat instead.\n",
            "  df = df.append(df_to_append,ignore_index=True)\n",
            "<ipython-input-7-8fe6f714d0be>:12: FutureWarning: The frame.append method is deprecated and will be removed from pandas in a future version. Use pandas.concat instead.\n",
            "  df = df.append(df_to_append,ignore_index=True)\n"
          ]
        },
        {
          "output_type": "execute_result",
          "data": {
            "text/plain": [
              "                           questions           labels\n",
              "0              RIDGE GOURD VARIETIES  GOURD VARIETIES\n",
              "1  RIDGE GOURD VARIETIES in telanaga  GOURD VARIETIES\n",
              "2                Poṭlakāya varieties  GOURD VARIETIES\n",
              "3                 BEANS SOWING TIME?     BEANS SOWING\n",
              "4     BEANS SOWING TIME in telangana     BEANS SOWING"
            ],
            "text/html": [
              "\n",
              "  <div id=\"df-5c284595-9002-4f66-94a2-fc99ff8102d6\">\n",
              "    <div class=\"colab-df-container\">\n",
              "      <div>\n",
              "<style scoped>\n",
              "    .dataframe tbody tr th:only-of-type {\n",
              "        vertical-align: middle;\n",
              "    }\n",
              "\n",
              "    .dataframe tbody tr th {\n",
              "        vertical-align: top;\n",
              "    }\n",
              "\n",
              "    .dataframe thead th {\n",
              "        text-align: right;\n",
              "    }\n",
              "</style>\n",
              "<table border=\"1\" class=\"dataframe\">\n",
              "  <thead>\n",
              "    <tr style=\"text-align: right;\">\n",
              "      <th></th>\n",
              "      <th>questions</th>\n",
              "      <th>labels</th>\n",
              "    </tr>\n",
              "  </thead>\n",
              "  <tbody>\n",
              "    <tr>\n",
              "      <th>0</th>\n",
              "      <td>RIDGE GOURD VARIETIES</td>\n",
              "      <td>GOURD VARIETIES</td>\n",
              "    </tr>\n",
              "    <tr>\n",
              "      <th>1</th>\n",
              "      <td>RIDGE GOURD VARIETIES in telanaga</td>\n",
              "      <td>GOURD VARIETIES</td>\n",
              "    </tr>\n",
              "    <tr>\n",
              "      <th>2</th>\n",
              "      <td>Poṭlakāya varieties</td>\n",
              "      <td>GOURD VARIETIES</td>\n",
              "    </tr>\n",
              "    <tr>\n",
              "      <th>3</th>\n",
              "      <td>BEANS SOWING TIME?</td>\n",
              "      <td>BEANS SOWING</td>\n",
              "    </tr>\n",
              "    <tr>\n",
              "      <th>4</th>\n",
              "      <td>BEANS SOWING TIME in telangana</td>\n",
              "      <td>BEANS SOWING</td>\n",
              "    </tr>\n",
              "  </tbody>\n",
              "</table>\n",
              "</div>\n",
              "      <button class=\"colab-df-convert\" onclick=\"convertToInteractive('df-5c284595-9002-4f66-94a2-fc99ff8102d6')\"\n",
              "              title=\"Convert this dataframe to an interactive table.\"\n",
              "              style=\"display:none;\">\n",
              "        \n",
              "  <svg xmlns=\"http://www.w3.org/2000/svg\" height=\"24px\"viewBox=\"0 0 24 24\"\n",
              "       width=\"24px\">\n",
              "    <path d=\"M0 0h24v24H0V0z\" fill=\"none\"/>\n",
              "    <path d=\"M18.56 5.44l.94 2.06.94-2.06 2.06-.94-2.06-.94-.94-2.06-.94 2.06-2.06.94zm-11 1L8.5 8.5l.94-2.06 2.06-.94-2.06-.94L8.5 2.5l-.94 2.06-2.06.94zm10 10l.94 2.06.94-2.06 2.06-.94-2.06-.94-.94-2.06-.94 2.06-2.06.94z\"/><path d=\"M17.41 7.96l-1.37-1.37c-.4-.4-.92-.59-1.43-.59-.52 0-1.04.2-1.43.59L10.3 9.45l-7.72 7.72c-.78.78-.78 2.05 0 2.83L4 21.41c.39.39.9.59 1.41.59.51 0 1.02-.2 1.41-.59l7.78-7.78 2.81-2.81c.8-.78.8-2.07 0-2.86zM5.41 20L4 18.59l7.72-7.72 1.47 1.35L5.41 20z\"/>\n",
              "  </svg>\n",
              "      </button>\n",
              "      \n",
              "  <style>\n",
              "    .colab-df-container {\n",
              "      display:flex;\n",
              "      flex-wrap:wrap;\n",
              "      gap: 12px;\n",
              "    }\n",
              "\n",
              "    .colab-df-convert {\n",
              "      background-color: #E8F0FE;\n",
              "      border: none;\n",
              "      border-radius: 50%;\n",
              "      cursor: pointer;\n",
              "      display: none;\n",
              "      fill: #1967D2;\n",
              "      height: 32px;\n",
              "      padding: 0 0 0 0;\n",
              "      width: 32px;\n",
              "    }\n",
              "\n",
              "    .colab-df-convert:hover {\n",
              "      background-color: #E2EBFA;\n",
              "      box-shadow: 0px 1px 2px rgba(60, 64, 67, 0.3), 0px 1px 3px 1px rgba(60, 64, 67, 0.15);\n",
              "      fill: #174EA6;\n",
              "    }\n",
              "\n",
              "    [theme=dark] .colab-df-convert {\n",
              "      background-color: #3B4455;\n",
              "      fill: #D2E3FC;\n",
              "    }\n",
              "\n",
              "    [theme=dark] .colab-df-convert:hover {\n",
              "      background-color: #434B5C;\n",
              "      box-shadow: 0px 1px 3px 1px rgba(0, 0, 0, 0.15);\n",
              "      filter: drop-shadow(0px 1px 2px rgba(0, 0, 0, 0.3));\n",
              "      fill: #FFFFFF;\n",
              "    }\n",
              "  </style>\n",
              "\n",
              "      <script>\n",
              "        const buttonEl =\n",
              "          document.querySelector('#df-5c284595-9002-4f66-94a2-fc99ff8102d6 button.colab-df-convert');\n",
              "        buttonEl.style.display =\n",
              "          google.colab.kernel.accessAllowed ? 'block' : 'none';\n",
              "\n",
              "        async function convertToInteractive(key) {\n",
              "          const element = document.querySelector('#df-5c284595-9002-4f66-94a2-fc99ff8102d6');\n",
              "          const dataTable =\n",
              "            await google.colab.kernel.invokeFunction('convertToInteractive',\n",
              "                                                     [key], {});\n",
              "          if (!dataTable) return;\n",
              "\n",
              "          const docLinkHtml = 'Like what you see? Visit the ' +\n",
              "            '<a target=\"_blank\" href=https://colab.research.google.com/notebooks/data_table.ipynb>data table notebook</a>'\n",
              "            + ' to learn more about interactive tables.';\n",
              "          element.innerHTML = '';\n",
              "          dataTable['output_type'] = 'display_data';\n",
              "          await google.colab.output.renderOutput(dataTable, element);\n",
              "          const docLink = document.createElement('div');\n",
              "          docLink.innerHTML = docLinkHtml;\n",
              "          element.appendChild(docLink);\n",
              "        }\n",
              "      </script>\n",
              "    </div>\n",
              "  </div>\n",
              "  "
            ]
          },
          "metadata": {},
          "execution_count": 7
        }
      ]
    },
    {
      "cell_type": "code",
      "source": [
        "df2 = frame_data('response','labels', False)\n",
        "df2.head()"
      ],
      "metadata": {
        "colab": {
          "base_uri": "https://localhost:8080/",
          "height": 573
        },
        "id": "A1Z5ivawXy79",
        "outputId": "2af86066-a801-42f9-977c-51759633792e"
      },
      "execution_count": null,
      "outputs": [
        {
          "output_type": "stream",
          "name": "stderr",
          "text": [
            "<ipython-input-7-8fe6f714d0be>:17: FutureWarning: The frame.append method is deprecated and will be removed from pandas in a future version. Use pandas.concat instead.\n",
            "  df = df.append(df_to_append,ignore_index=True)\n",
            "<ipython-input-7-8fe6f714d0be>:17: FutureWarning: The frame.append method is deprecated and will be removed from pandas in a future version. Use pandas.concat instead.\n",
            "  df = df.append(df_to_append,ignore_index=True)\n",
            "<ipython-input-7-8fe6f714d0be>:17: FutureWarning: The frame.append method is deprecated and will be removed from pandas in a future version. Use pandas.concat instead.\n",
            "  df = df.append(df_to_append,ignore_index=True)\n",
            "<ipython-input-7-8fe6f714d0be>:17: FutureWarning: The frame.append method is deprecated and will be removed from pandas in a future version. Use pandas.concat instead.\n",
            "  df = df.append(df_to_append,ignore_index=True)\n",
            "<ipython-input-7-8fe6f714d0be>:17: FutureWarning: The frame.append method is deprecated and will be removed from pandas in a future version. Use pandas.concat instead.\n",
            "  df = df.append(df_to_append,ignore_index=True)\n",
            "<ipython-input-7-8fe6f714d0be>:17: FutureWarning: The frame.append method is deprecated and will be removed from pandas in a future version. Use pandas.concat instead.\n",
            "  df = df.append(df_to_append,ignore_index=True)\n",
            "<ipython-input-7-8fe6f714d0be>:17: FutureWarning: The frame.append method is deprecated and will be removed from pandas in a future version. Use pandas.concat instead.\n",
            "  df = df.append(df_to_append,ignore_index=True)\n",
            "<ipython-input-7-8fe6f714d0be>:17: FutureWarning: The frame.append method is deprecated and will be removed from pandas in a future version. Use pandas.concat instead.\n",
            "  df = df.append(df_to_append,ignore_index=True)\n",
            "<ipython-input-7-8fe6f714d0be>:17: FutureWarning: The frame.append method is deprecated and will be removed from pandas in a future version. Use pandas.concat instead.\n",
            "  df = df.append(df_to_append,ignore_index=True)\n",
            "<ipython-input-7-8fe6f714d0be>:17: FutureWarning: The frame.append method is deprecated and will be removed from pandas in a future version. Use pandas.concat instead.\n",
            "  df = df.append(df_to_append,ignore_index=True)\n"
          ]
        },
        {
          "output_type": "execute_result",
          "data": {
            "text/plain": [
              "                                            response            labels\n",
              "0  RIDGE GOURD VARIETIES ;-SUREKA ,SANJIVANI,MAHI...   GOURD VARIETIES\n",
              "1                   BEANS SOWING TIME ;- JUNE -JULY       BEANS SOWING\n",
              "2  RECOMMENDED TO SPRAY ACEPHATE (ARTHIN) 300 GRA...  Plant Protection\n",
              "3  These are Basmati 217, Basmati 370, Type 3 (De...    BASMATHI Seeds\n",
              "4             RECOMMENDED TO SOW FROM JUNE 3RD WEEK.   RNR PADDY SEEDS"
            ],
            "text/html": [
              "\n",
              "  <div id=\"df-6ba0c760-db96-41e2-9f8a-9fd5ab1f43a4\">\n",
              "    <div class=\"colab-df-container\">\n",
              "      <div>\n",
              "<style scoped>\n",
              "    .dataframe tbody tr th:only-of-type {\n",
              "        vertical-align: middle;\n",
              "    }\n",
              "\n",
              "    .dataframe tbody tr th {\n",
              "        vertical-align: top;\n",
              "    }\n",
              "\n",
              "    .dataframe thead th {\n",
              "        text-align: right;\n",
              "    }\n",
              "</style>\n",
              "<table border=\"1\" class=\"dataframe\">\n",
              "  <thead>\n",
              "    <tr style=\"text-align: right;\">\n",
              "      <th></th>\n",
              "      <th>response</th>\n",
              "      <th>labels</th>\n",
              "    </tr>\n",
              "  </thead>\n",
              "  <tbody>\n",
              "    <tr>\n",
              "      <th>0</th>\n",
              "      <td>RIDGE GOURD VARIETIES ;-SUREKA ,SANJIVANI,MAHI...</td>\n",
              "      <td>GOURD VARIETIES</td>\n",
              "    </tr>\n",
              "    <tr>\n",
              "      <th>1</th>\n",
              "      <td>BEANS SOWING TIME ;- JUNE -JULY</td>\n",
              "      <td>BEANS SOWING</td>\n",
              "    </tr>\n",
              "    <tr>\n",
              "      <th>2</th>\n",
              "      <td>RECOMMENDED TO SPRAY ACEPHATE (ARTHIN) 300 GRA...</td>\n",
              "      <td>Plant Protection</td>\n",
              "    </tr>\n",
              "    <tr>\n",
              "      <th>3</th>\n",
              "      <td>These are Basmati 217, Basmati 370, Type 3 (De...</td>\n",
              "      <td>BASMATHI Seeds</td>\n",
              "    </tr>\n",
              "    <tr>\n",
              "      <th>4</th>\n",
              "      <td>RECOMMENDED TO SOW FROM JUNE 3RD WEEK.</td>\n",
              "      <td>RNR PADDY SEEDS</td>\n",
              "    </tr>\n",
              "  </tbody>\n",
              "</table>\n",
              "</div>\n",
              "      <button class=\"colab-df-convert\" onclick=\"convertToInteractive('df-6ba0c760-db96-41e2-9f8a-9fd5ab1f43a4')\"\n",
              "              title=\"Convert this dataframe to an interactive table.\"\n",
              "              style=\"display:none;\">\n",
              "        \n",
              "  <svg xmlns=\"http://www.w3.org/2000/svg\" height=\"24px\"viewBox=\"0 0 24 24\"\n",
              "       width=\"24px\">\n",
              "    <path d=\"M0 0h24v24H0V0z\" fill=\"none\"/>\n",
              "    <path d=\"M18.56 5.44l.94 2.06.94-2.06 2.06-.94-2.06-.94-.94-2.06-.94 2.06-2.06.94zm-11 1L8.5 8.5l.94-2.06 2.06-.94-2.06-.94L8.5 2.5l-.94 2.06-2.06.94zm10 10l.94 2.06.94-2.06 2.06-.94-2.06-.94-.94-2.06-.94 2.06-2.06.94z\"/><path d=\"M17.41 7.96l-1.37-1.37c-.4-.4-.92-.59-1.43-.59-.52 0-1.04.2-1.43.59L10.3 9.45l-7.72 7.72c-.78.78-.78 2.05 0 2.83L4 21.41c.39.39.9.59 1.41.59.51 0 1.02-.2 1.41-.59l7.78-7.78 2.81-2.81c.8-.78.8-2.07 0-2.86zM5.41 20L4 18.59l7.72-7.72 1.47 1.35L5.41 20z\"/>\n",
              "  </svg>\n",
              "      </button>\n",
              "      \n",
              "  <style>\n",
              "    .colab-df-container {\n",
              "      display:flex;\n",
              "      flex-wrap:wrap;\n",
              "      gap: 12px;\n",
              "    }\n",
              "\n",
              "    .colab-df-convert {\n",
              "      background-color: #E8F0FE;\n",
              "      border: none;\n",
              "      border-radius: 50%;\n",
              "      cursor: pointer;\n",
              "      display: none;\n",
              "      fill: #1967D2;\n",
              "      height: 32px;\n",
              "      padding: 0 0 0 0;\n",
              "      width: 32px;\n",
              "    }\n",
              "\n",
              "    .colab-df-convert:hover {\n",
              "      background-color: #E2EBFA;\n",
              "      box-shadow: 0px 1px 2px rgba(60, 64, 67, 0.3), 0px 1px 3px 1px rgba(60, 64, 67, 0.15);\n",
              "      fill: #174EA6;\n",
              "    }\n",
              "\n",
              "    [theme=dark] .colab-df-convert {\n",
              "      background-color: #3B4455;\n",
              "      fill: #D2E3FC;\n",
              "    }\n",
              "\n",
              "    [theme=dark] .colab-df-convert:hover {\n",
              "      background-color: #434B5C;\n",
              "      box-shadow: 0px 1px 3px 1px rgba(0, 0, 0, 0.15);\n",
              "      filter: drop-shadow(0px 1px 2px rgba(0, 0, 0, 0.3));\n",
              "      fill: #FFFFFF;\n",
              "    }\n",
              "  </style>\n",
              "\n",
              "      <script>\n",
              "        const buttonEl =\n",
              "          document.querySelector('#df-6ba0c760-db96-41e2-9f8a-9fd5ab1f43a4 button.colab-df-convert');\n",
              "        buttonEl.style.display =\n",
              "          google.colab.kernel.accessAllowed ? 'block' : 'none';\n",
              "\n",
              "        async function convertToInteractive(key) {\n",
              "          const element = document.querySelector('#df-6ba0c760-db96-41e2-9f8a-9fd5ab1f43a4');\n",
              "          const dataTable =\n",
              "            await google.colab.kernel.invokeFunction('convertToInteractive',\n",
              "                                                     [key], {});\n",
              "          if (!dataTable) return;\n",
              "\n",
              "          const docLinkHtml = 'Like what you see? Visit the ' +\n",
              "            '<a target=\"_blank\" href=https://colab.research.google.com/notebooks/data_table.ipynb>data table notebook</a>'\n",
              "            + ' to learn more about interactive tables.';\n",
              "          element.innerHTML = '';\n",
              "          dataTable['output_type'] = 'display_data';\n",
              "          await google.colab.output.renderOutput(dataTable, element);\n",
              "          const docLink = document.createElement('div');\n",
              "          docLink.innerHTML = docLinkHtml;\n",
              "          element.appendChild(docLink);\n",
              "        }\n",
              "      </script>\n",
              "    </div>\n",
              "  </div>\n",
              "  "
            ]
          },
          "metadata": {},
          "execution_count": 8
        }
      ]
    },
    {
      "cell_type": "code",
      "source": [
        "(df1.labels.value_counts(sort=False))"
      ],
      "metadata": {
        "colab": {
          "base_uri": "https://localhost:8080/"
        },
        "id": "MLu-IdfCW1QK",
        "outputId": "6e8b29e8-0031-4455-a9bb-573e4b695071"
      },
      "execution_count": null,
      "outputs": [
        {
          "output_type": "execute_result",
          "data": {
            "text/plain": [
              "GOURD VARIETIES            3\n",
              "BEANS SOWING               2\n",
              "Plant Protection           2\n",
              "BASMATHI Seeds             3\n",
              "RNR PADDY SEEDS            2\n",
              "CLUSTER BEANS              2\n",
              "CHILLI SOWING              2\n",
              "VARIETIES OF CHILLI        2\n",
              "LEAF EATING CATERPILLER    2\n",
              "Weed Management            2\n",
              "Name: labels, dtype: int64"
            ]
          },
          "metadata": {},
          "execution_count": 9
        }
      ]
    },
    {
      "cell_type": "markdown",
      "source": [
        "## Data preprocessing"
      ],
      "metadata": {
        "id": "0rMQpq04eC-J"
      }
    },
    {
      "cell_type": "code",
      "source": [
        "lemmatizer = WordNetLemmatizer()\n",
        "\n",
        "vocab = Counter()\n",
        "labels = []\n",
        "def tokenizer(entry):\n",
        "    tokens = entry.split()\n",
        "    re_punc = re.compile('[%s]' % re.escape(string.punctuation))\n",
        "    tokens = [re_punc.sub('', w) for w in tokens]\n",
        "    tokens = [word for word in tokens if word.isalpha()]\n",
        "    tokens = [lemmatizer.lemmatize(w.lower()) for w in tokens]\n",
        "    tokens = [word.lower() for word in tokens if len(word) > 1]\n",
        "    return tokens\n",
        "\n",
        "def remove_stop_words(tokenizer,df,feature):\n",
        "    doc_without_stopwords = []\n",
        "    for entry in df[feature]:\n",
        "        tokens = tokenizer(entry)\n",
        "        joblib.dump(tokens,'tokens.pkl')\n",
        "        doc_without_stopwords.append(' '.join(tokens))\n",
        "    df[feature] = doc_without_stopwords\n",
        "    return"
      ],
      "metadata": {
        "id": "dCb7XmVReF8W"
      },
      "execution_count": null,
      "outputs": []
    },
    {
      "cell_type": "code",
      "source": [
        "def create_vocab(tokenizer,df,feature):\n",
        "    for entry in df[feature]:\n",
        "        tokens = tokenizer(entry)\n",
        "        vocab.update(tokens)\n",
        "    joblib.dump(vocab,'vocab.pkl')\n",
        "    return"
      ],
      "metadata": {
        "id": "7Yip9cIbeCtU"
      },
      "execution_count": null,
      "outputs": []
    },
    {
      "cell_type": "code",
      "source": [
        "create_vocab(tokenizer,df1,'questions')"
      ],
      "metadata": {
        "id": "4ELKrH2Je-Cq"
      },
      "execution_count": null,
      "outputs": []
    },
    {
      "cell_type": "code",
      "source": [
        "vocab"
      ],
      "metadata": {
        "colab": {
          "base_uri": "https://localhost:8080/"
        },
        "id": "EazxHJbefTXT",
        "outputId": "bf9af44f-1146-4d4e-a24c-1151157bf4d6"
      },
      "execution_count": null,
      "outputs": [
        {
          "output_type": "execute_result",
          "data": {
            "text/plain": [
              "Counter({'ridge': 2,\n",
              "         'gourd': 2,\n",
              "         'variety': 10,\n",
              "         'in': 9,\n",
              "         'telanaga': 1,\n",
              "         'poṭlakāya': 1,\n",
              "         'bean': 4,\n",
              "         'sowing': 6,\n",
              "         'time': 5,\n",
              "         'telangana': 6,\n",
              "         'white': 2,\n",
              "         'fly': 2,\n",
              "         'management': 6,\n",
              "         'cucumber': 1,\n",
              "         'basmathi': 3,\n",
              "         'seed': 4,\n",
              "         'paddy': 4,\n",
              "         'of': 8,\n",
              "         'rnr': 2,\n",
              "         'cluster': 2,\n",
              "         'chilli': 4,\n",
              "         'leaf': 1,\n",
              "         'eating': 1,\n",
              "         'caterpiller': 2,\n",
              "         'nursery': 1,\n",
              "         'weed': 2,\n",
              "         'napier': 2,\n",
              "         'grass': 2})"
            ]
          },
          "metadata": {},
          "execution_count": 13
        }
      ]
    },
    {
      "cell_type": "code",
      "source": [
        "vocab_size = len(vocab)\n",
        "vocab_size"
      ],
      "metadata": {
        "colab": {
          "base_uri": "https://localhost:8080/"
        },
        "id": "an4-0_YpfVvE",
        "outputId": "1d049b76-5b20-4b6f-ba9b-8fdf21d0868b"
      },
      "execution_count": null,
      "outputs": [
        {
          "output_type": "execute_result",
          "data": {
            "text/plain": [
              "28"
            ]
          },
          "metadata": {},
          "execution_count": 14
        }
      ]
    },
    {
      "cell_type": "code",
      "source": [
        "df1.groupby(by='labels',as_index=False).first()['questions']"
      ],
      "metadata": {
        "colab": {
          "base_uri": "https://localhost:8080/"
        },
        "id": "75cGIW41fYuk",
        "outputId": "1f0260c0-7e41-489b-c3de-d3ca5eecae7f"
      },
      "execution_count": null,
      "outputs": [
        {
          "output_type": "execute_result",
          "data": {
            "text/plain": [
              "0                            BASMATHI SEED VARIETIES ?\n",
              "1                                   BEANS SOWING TIME?\n",
              "2                                        CHILLI SOWING\n",
              "3                           VARIETIES OF CLUSTER BEANS\n",
              "4                                RIDGE GOURD VARIETIES\n",
              "5    LEAF EATING CATERPILLER IN PADDY NURSERY MANAG...\n",
              "6                     WHITE FLY MANAGEMENT IN CUCUMBER\n",
              "7                      SOWING TIME OF RNR PADDY SEEDS?\n",
              "8                                 VARIETIES OF CHILLI?\n",
              "9                     WEED MANAGEMENT of NAPIER GRASS?\n",
              "Name: questions, dtype: object"
            ]
          },
          "metadata": {},
          "execution_count": 15
        }
      ]
    },
    {
      "cell_type": "code",
      "source": [
        "test_list = list(df1.groupby(by='labels',as_index=False).first()['questions'])\n",
        "test_list"
      ],
      "metadata": {
        "colab": {
          "base_uri": "https://localhost:8080/"
        },
        "id": "XKUEHMinffRm",
        "outputId": "d9a9907c-5b47-41ec-8994-0c84610668a1"
      },
      "execution_count": null,
      "outputs": [
        {
          "output_type": "execute_result",
          "data": {
            "text/plain": [
              "['BASMATHI SEED VARIETIES ?',\n",
              " 'BEANS SOWING TIME?',\n",
              " 'CHILLI SOWING',\n",
              " 'VARIETIES OF CLUSTER BEANS',\n",
              " 'RIDGE GOURD VARIETIES',\n",
              " 'LEAF EATING CATERPILLER IN PADDY NURSERY MANAGEMENT?',\n",
              " 'WHITE FLY MANAGEMENT IN CUCUMBER',\n",
              " 'SOWING TIME OF RNR PADDY SEEDS?',\n",
              " 'VARIETIES OF CHILLI?',\n",
              " 'WEED MANAGEMENT of NAPIER GRASS?']"
            ]
          },
          "metadata": {},
          "execution_count": 16
        }
      ]
    },
    {
      "cell_type": "code",
      "source": [
        "test_index = []\n",
        "for i,_ in enumerate(test_list):\n",
        "    idx = df1[df1.questions == test_list[i]].index[0]\n",
        "    test_index.append(idx)\n",
        "test_index"
      ],
      "metadata": {
        "colab": {
          "base_uri": "https://localhost:8080/"
        },
        "id": "3CdP5_t5fm1E",
        "outputId": "481c9376-e85f-489e-9a5d-dc92acb2b483"
      },
      "execution_count": null,
      "outputs": [
        {
          "output_type": "execute_result",
          "data": {
            "text/plain": [
              "[7, 3, 14, 12, 0, 18, 5, 10, 16, 20]"
            ]
          },
          "metadata": {},
          "execution_count": 17
        }
      ]
    },
    {
      "cell_type": "code",
      "source": [
        "# train indices are the all indices minus the testing indices\n",
        "\n",
        "train_index = [i for i in df1.index if i not in test_index]\n",
        "train_index"
      ],
      "metadata": {
        "colab": {
          "base_uri": "https://localhost:8080/"
        },
        "id": "NqRt0Nugfp20",
        "outputId": "403b11ed-7dcd-45a8-9040-147a42f63303"
      },
      "execution_count": null,
      "outputs": [
        {
          "output_type": "execute_result",
          "data": {
            "text/plain": [
              "[1, 2, 4, 6, 8, 9, 11, 13, 15, 17, 19, 21]"
            ]
          },
          "metadata": {},
          "execution_count": 18
        }
      ]
    },
    {
      "cell_type": "code",
      "source": [
        "def convert_seq(df,feature):\n",
        "#     text = ' '.join(list(vocab.keys()))\n",
        "    t = Tokenizer()\n",
        "    entries = [entry for entry in df[feature]]\n",
        "    print(entries)\n",
        "    print('----')\n",
        "    t.fit_on_texts(entries)\n",
        "    joblib.dump(t,'tokenizer_t.pkl')   # why a pkl file\n",
        "    vocab_size = len(t.word_index) +1 # +1 for oov\n",
        "    print(t.word_index)\n",
        "    entries = [entry for entry in df[feature]]\n",
        "    max_length = max([len(s.split()) for s in entries])\n",
        "    print('----')\n",
        "    print(\"max length of string is : \",max_length)\n",
        "    print('----')\n",
        "    encoded = t.texts_to_sequences(entries)\n",
        "    print(encoded)\n",
        "    padded = pad_sequences(encoded, maxlen=max_length, padding='post')\n",
        "    print('----')\n",
        "    print(padded)\n",
        "    return padded, vocab_size"
      ],
      "metadata": {
        "id": "S5l0czK0fuBw"
      },
      "execution_count": null,
      "outputs": []
    },
    {
      "cell_type": "code",
      "source": [
        "X,vocab_size = convert_seq(df1,'questions')"
      ],
      "metadata": {
        "colab": {
          "base_uri": "https://localhost:8080/"
        },
        "id": "sm665JWSfyGL",
        "outputId": "ec65a13d-99c8-4856-92c8-aee8e4a20527"
      },
      "execution_count": null,
      "outputs": [
        {
          "output_type": "stream",
          "name": "stdout",
          "text": [
            "['RIDGE GOURD VARIETIES', 'RIDGE GOURD VARIETIES in telanaga', 'Poṭlakāya varieties', 'BEANS SOWING TIME?', 'BEANS SOWING TIME in telangana', 'WHITE FLY MANAGEMENT IN CUCUMBER', 'WHITE FLY MANAGEMENT', 'BASMATHI SEED VARIETIES ?', 'BASMATHI SEED VARIETIES in telangana?', 'PADDY BASMATHI VARIETIES', 'SOWING TIME OF RNR PADDY SEEDS?', 'SOWING TIME OF RNR PADDY SEEDS in telangana', 'VARIETIES OF CLUSTER BEANS', 'VARIETIES OF CLUSTER BEANS in telangana', 'CHILLI SOWING', 'CHILLI SOWING time?', 'VARIETIES OF CHILLI?', 'VARIETIES OF CHILLI in telangana?', 'LEAF EATING CATERPILLER IN PADDY NURSERY MANAGEMENT?', 'CATERPILLER MANAGEMENT?', 'WEED MANAGEMENT of NAPIER GRASS?', 'WEED MANAGEMENT of NAPIER GRASS in telangana?']\n",
            "----\n",
            "{'varieties': 1, 'in': 2, 'of': 3, 'sowing': 4, 'telangana': 5, 'management': 6, 'time': 7, 'beans': 8, 'paddy': 9, 'chilli': 10, 'basmathi': 11, 'ridge': 12, 'gourd': 13, 'white': 14, 'fly': 15, 'seed': 16, 'rnr': 17, 'seeds': 18, 'cluster': 19, 'caterpiller': 20, 'weed': 21, 'napier': 22, 'grass': 23, 'telanaga': 24, 'poṭlakāya': 25, 'cucumber': 26, 'leaf': 27, 'eating': 28, 'nursery': 29}\n",
            "----\n",
            "max length of string is :  8\n",
            "----\n",
            "[[12, 13, 1], [12, 13, 1, 2, 24], [25, 1], [8, 4, 7], [8, 4, 7, 2, 5], [14, 15, 6, 2, 26], [14, 15, 6], [11, 16, 1], [11, 16, 1, 2, 5], [9, 11, 1], [4, 7, 3, 17, 9, 18], [4, 7, 3, 17, 9, 18, 2, 5], [1, 3, 19, 8], [1, 3, 19, 8, 2, 5], [10, 4], [10, 4, 7], [1, 3, 10], [1, 3, 10, 2, 5], [27, 28, 20, 2, 9, 29, 6], [20, 6], [21, 6, 3, 22, 23], [21, 6, 3, 22, 23, 2, 5]]\n",
            "----\n",
            "[[12 13  1  0  0  0  0  0]\n",
            " [12 13  1  2 24  0  0  0]\n",
            " [25  1  0  0  0  0  0  0]\n",
            " [ 8  4  7  0  0  0  0  0]\n",
            " [ 8  4  7  2  5  0  0  0]\n",
            " [14 15  6  2 26  0  0  0]\n",
            " [14 15  6  0  0  0  0  0]\n",
            " [11 16  1  0  0  0  0  0]\n",
            " [11 16  1  2  5  0  0  0]\n",
            " [ 9 11  1  0  0  0  0  0]\n",
            " [ 4  7  3 17  9 18  0  0]\n",
            " [ 4  7  3 17  9 18  2  5]\n",
            " [ 1  3 19  8  0  0  0  0]\n",
            " [ 1  3 19  8  2  5  0  0]\n",
            " [10  4  0  0  0  0  0  0]\n",
            " [10  4  7  0  0  0  0  0]\n",
            " [ 1  3 10  0  0  0  0  0]\n",
            " [ 1  3 10  2  5  0  0  0]\n",
            " [27 28 20  2  9 29  6  0]\n",
            " [20  6  0  0  0  0  0  0]\n",
            " [21  6  3 22 23  0  0  0]\n",
            " [21  6  3 22 23  2  5  0]]\n"
          ]
        }
      ]
    },
    {
      "cell_type": "code",
      "source": [
        "with open('tokenizer_t.pkl', 'rb') as f:\n",
        "    data = pickle.load(f)"
      ],
      "metadata": {
        "id": "qrQGUKj-f1SC"
      },
      "execution_count": null,
      "outputs": []
    },
    {
      "cell_type": "code",
      "source": [
        "data.index_word"
      ],
      "metadata": {
        "colab": {
          "base_uri": "https://localhost:8080/"
        },
        "id": "j0A8bMMFf1Oz",
        "outputId": "314e829e-b560-4f93-9626-f7b0d15ddc9f"
      },
      "execution_count": null,
      "outputs": [
        {
          "output_type": "execute_result",
          "data": {
            "text/plain": [
              "{1: 'varieties',\n",
              " 2: 'in',\n",
              " 3: 'of',\n",
              " 4: 'sowing',\n",
              " 5: 'telangana',\n",
              " 6: 'management',\n",
              " 7: 'time',\n",
              " 8: 'beans',\n",
              " 9: 'paddy',\n",
              " 10: 'chilli',\n",
              " 11: 'basmathi',\n",
              " 12: 'ridge',\n",
              " 13: 'gourd',\n",
              " 14: 'white',\n",
              " 15: 'fly',\n",
              " 16: 'seed',\n",
              " 17: 'rnr',\n",
              " 18: 'seeds',\n",
              " 19: 'cluster',\n",
              " 20: 'caterpiller',\n",
              " 21: 'weed',\n",
              " 22: 'napier',\n",
              " 23: 'grass',\n",
              " 24: 'telanaga',\n",
              " 25: 'poṭlakāya',\n",
              " 26: 'cucumber',\n",
              " 27: 'leaf',\n",
              " 28: 'eating',\n",
              " 29: 'nursery'}"
            ]
          },
          "metadata": {},
          "execution_count": 22
        }
      ]
    },
    {
      "cell_type": "code",
      "source": [
        "data.word_counts"
      ],
      "metadata": {
        "colab": {
          "base_uri": "https://localhost:8080/"
        },
        "id": "ya7CSNGRf1Lc",
        "outputId": "c4cc9101-01a7-46d6-aca6-5cf910e31ee4"
      },
      "execution_count": null,
      "outputs": [
        {
          "output_type": "execute_result",
          "data": {
            "text/plain": [
              "OrderedDict([('ridge', 2),\n",
              "             ('gourd', 2),\n",
              "             ('varieties', 10),\n",
              "             ('in', 9),\n",
              "             ('telanaga', 1),\n",
              "             ('poṭlakāya', 1),\n",
              "             ('beans', 4),\n",
              "             ('sowing', 6),\n",
              "             ('time', 5),\n",
              "             ('telangana', 6),\n",
              "             ('white', 2),\n",
              "             ('fly', 2),\n",
              "             ('management', 6),\n",
              "             ('cucumber', 1),\n",
              "             ('basmathi', 3),\n",
              "             ('seed', 2),\n",
              "             ('paddy', 4),\n",
              "             ('of', 8),\n",
              "             ('rnr', 2),\n",
              "             ('seeds', 2),\n",
              "             ('cluster', 2),\n",
              "             ('chilli', 4),\n",
              "             ('leaf', 1),\n",
              "             ('eating', 1),\n",
              "             ('caterpiller', 2),\n",
              "             ('nursery', 1),\n",
              "             ('weed', 2),\n",
              "             ('napier', 2),\n",
              "             ('grass', 2)])"
            ]
          },
          "metadata": {},
          "execution_count": 23
        }
      ]
    },
    {
      "cell_type": "code",
      "source": [
        "X"
      ],
      "metadata": {
        "colab": {
          "base_uri": "https://localhost:8080/"
        },
        "id": "RPqRuecJf1Hh",
        "outputId": "3da2099b-4331-4ab8-d76d-d84ffed8cd75"
      },
      "execution_count": null,
      "outputs": [
        {
          "output_type": "execute_result",
          "data": {
            "text/plain": [
              "array([[12, 13,  1,  0,  0,  0,  0,  0],\n",
              "       [12, 13,  1,  2, 24,  0,  0,  0],\n",
              "       [25,  1,  0,  0,  0,  0,  0,  0],\n",
              "       [ 8,  4,  7,  0,  0,  0,  0,  0],\n",
              "       [ 8,  4,  7,  2,  5,  0,  0,  0],\n",
              "       [14, 15,  6,  2, 26,  0,  0,  0],\n",
              "       [14, 15,  6,  0,  0,  0,  0,  0],\n",
              "       [11, 16,  1,  0,  0,  0,  0,  0],\n",
              "       [11, 16,  1,  2,  5,  0,  0,  0],\n",
              "       [ 9, 11,  1,  0,  0,  0,  0,  0],\n",
              "       [ 4,  7,  3, 17,  9, 18,  0,  0],\n",
              "       [ 4,  7,  3, 17,  9, 18,  2,  5],\n",
              "       [ 1,  3, 19,  8,  0,  0,  0,  0],\n",
              "       [ 1,  3, 19,  8,  2,  5,  0,  0],\n",
              "       [10,  4,  0,  0,  0,  0,  0,  0],\n",
              "       [10,  4,  7,  0,  0,  0,  0,  0],\n",
              "       [ 1,  3, 10,  0,  0,  0,  0,  0],\n",
              "       [ 1,  3, 10,  2,  5,  0,  0,  0],\n",
              "       [27, 28, 20,  2,  9, 29,  6,  0],\n",
              "       [20,  6,  0,  0,  0,  0,  0,  0],\n",
              "       [21,  6,  3, 22, 23,  0,  0,  0],\n",
              "       [21,  6,  3, 22, 23,  2,  5,  0]], dtype=int32)"
            ]
          },
          "metadata": {},
          "execution_count": 24
        }
      ]
    },
    {
      "cell_type": "code",
      "source": [
        "vocab_size"
      ],
      "metadata": {
        "colab": {
          "base_uri": "https://localhost:8080/"
        },
        "id": "LWQFmfrdf0_C",
        "outputId": "141ae0e4-6bee-43f8-a0fb-726ac91e0272"
      },
      "execution_count": null,
      "outputs": [
        {
          "output_type": "execute_result",
          "data": {
            "text/plain": [
              "30"
            ]
          },
          "metadata": {},
          "execution_count": 25
        }
      ]
    },
    {
      "cell_type": "code",
      "source": [
        "df_encoded = pd.DataFrame(X)\n",
        "df_encoded"
      ],
      "metadata": {
        "colab": {
          "base_uri": "https://localhost:8080/",
          "height": 739
        },
        "id": "dg0Lo3IhgFTB",
        "outputId": "c8a4fe39-eea0-4a1b-a4b4-274dd9a6d65b"
      },
      "execution_count": null,
      "outputs": [
        {
          "output_type": "execute_result",
          "data": {
            "text/plain": [
              "     0   1   2   3   4   5  6  7\n",
              "0   12  13   1   0   0   0  0  0\n",
              "1   12  13   1   2  24   0  0  0\n",
              "2   25   1   0   0   0   0  0  0\n",
              "3    8   4   7   0   0   0  0  0\n",
              "4    8   4   7   2   5   0  0  0\n",
              "5   14  15   6   2  26   0  0  0\n",
              "6   14  15   6   0   0   0  0  0\n",
              "7   11  16   1   0   0   0  0  0\n",
              "8   11  16   1   2   5   0  0  0\n",
              "9    9  11   1   0   0   0  0  0\n",
              "10   4   7   3  17   9  18  0  0\n",
              "11   4   7   3  17   9  18  2  5\n",
              "12   1   3  19   8   0   0  0  0\n",
              "13   1   3  19   8   2   5  0  0\n",
              "14  10   4   0   0   0   0  0  0\n",
              "15  10   4   7   0   0   0  0  0\n",
              "16   1   3  10   0   0   0  0  0\n",
              "17   1   3  10   2   5   0  0  0\n",
              "18  27  28  20   2   9  29  6  0\n",
              "19  20   6   0   0   0   0  0  0\n",
              "20  21   6   3  22  23   0  0  0\n",
              "21  21   6   3  22  23   2  5  0"
            ],
            "text/html": [
              "\n",
              "  <div id=\"df-83c0a9f5-182a-4cd6-8abf-ca51a850845b\">\n",
              "    <div class=\"colab-df-container\">\n",
              "      <div>\n",
              "<style scoped>\n",
              "    .dataframe tbody tr th:only-of-type {\n",
              "        vertical-align: middle;\n",
              "    }\n",
              "\n",
              "    .dataframe tbody tr th {\n",
              "        vertical-align: top;\n",
              "    }\n",
              "\n",
              "    .dataframe thead th {\n",
              "        text-align: right;\n",
              "    }\n",
              "</style>\n",
              "<table border=\"1\" class=\"dataframe\">\n",
              "  <thead>\n",
              "    <tr style=\"text-align: right;\">\n",
              "      <th></th>\n",
              "      <th>0</th>\n",
              "      <th>1</th>\n",
              "      <th>2</th>\n",
              "      <th>3</th>\n",
              "      <th>4</th>\n",
              "      <th>5</th>\n",
              "      <th>6</th>\n",
              "      <th>7</th>\n",
              "    </tr>\n",
              "  </thead>\n",
              "  <tbody>\n",
              "    <tr>\n",
              "      <th>0</th>\n",
              "      <td>12</td>\n",
              "      <td>13</td>\n",
              "      <td>1</td>\n",
              "      <td>0</td>\n",
              "      <td>0</td>\n",
              "      <td>0</td>\n",
              "      <td>0</td>\n",
              "      <td>0</td>\n",
              "    </tr>\n",
              "    <tr>\n",
              "      <th>1</th>\n",
              "      <td>12</td>\n",
              "      <td>13</td>\n",
              "      <td>1</td>\n",
              "      <td>2</td>\n",
              "      <td>24</td>\n",
              "      <td>0</td>\n",
              "      <td>0</td>\n",
              "      <td>0</td>\n",
              "    </tr>\n",
              "    <tr>\n",
              "      <th>2</th>\n",
              "      <td>25</td>\n",
              "      <td>1</td>\n",
              "      <td>0</td>\n",
              "      <td>0</td>\n",
              "      <td>0</td>\n",
              "      <td>0</td>\n",
              "      <td>0</td>\n",
              "      <td>0</td>\n",
              "    </tr>\n",
              "    <tr>\n",
              "      <th>3</th>\n",
              "      <td>8</td>\n",
              "      <td>4</td>\n",
              "      <td>7</td>\n",
              "      <td>0</td>\n",
              "      <td>0</td>\n",
              "      <td>0</td>\n",
              "      <td>0</td>\n",
              "      <td>0</td>\n",
              "    </tr>\n",
              "    <tr>\n",
              "      <th>4</th>\n",
              "      <td>8</td>\n",
              "      <td>4</td>\n",
              "      <td>7</td>\n",
              "      <td>2</td>\n",
              "      <td>5</td>\n",
              "      <td>0</td>\n",
              "      <td>0</td>\n",
              "      <td>0</td>\n",
              "    </tr>\n",
              "    <tr>\n",
              "      <th>5</th>\n",
              "      <td>14</td>\n",
              "      <td>15</td>\n",
              "      <td>6</td>\n",
              "      <td>2</td>\n",
              "      <td>26</td>\n",
              "      <td>0</td>\n",
              "      <td>0</td>\n",
              "      <td>0</td>\n",
              "    </tr>\n",
              "    <tr>\n",
              "      <th>6</th>\n",
              "      <td>14</td>\n",
              "      <td>15</td>\n",
              "      <td>6</td>\n",
              "      <td>0</td>\n",
              "      <td>0</td>\n",
              "      <td>0</td>\n",
              "      <td>0</td>\n",
              "      <td>0</td>\n",
              "    </tr>\n",
              "    <tr>\n",
              "      <th>7</th>\n",
              "      <td>11</td>\n",
              "      <td>16</td>\n",
              "      <td>1</td>\n",
              "      <td>0</td>\n",
              "      <td>0</td>\n",
              "      <td>0</td>\n",
              "      <td>0</td>\n",
              "      <td>0</td>\n",
              "    </tr>\n",
              "    <tr>\n",
              "      <th>8</th>\n",
              "      <td>11</td>\n",
              "      <td>16</td>\n",
              "      <td>1</td>\n",
              "      <td>2</td>\n",
              "      <td>5</td>\n",
              "      <td>0</td>\n",
              "      <td>0</td>\n",
              "      <td>0</td>\n",
              "    </tr>\n",
              "    <tr>\n",
              "      <th>9</th>\n",
              "      <td>9</td>\n",
              "      <td>11</td>\n",
              "      <td>1</td>\n",
              "      <td>0</td>\n",
              "      <td>0</td>\n",
              "      <td>0</td>\n",
              "      <td>0</td>\n",
              "      <td>0</td>\n",
              "    </tr>\n",
              "    <tr>\n",
              "      <th>10</th>\n",
              "      <td>4</td>\n",
              "      <td>7</td>\n",
              "      <td>3</td>\n",
              "      <td>17</td>\n",
              "      <td>9</td>\n",
              "      <td>18</td>\n",
              "      <td>0</td>\n",
              "      <td>0</td>\n",
              "    </tr>\n",
              "    <tr>\n",
              "      <th>11</th>\n",
              "      <td>4</td>\n",
              "      <td>7</td>\n",
              "      <td>3</td>\n",
              "      <td>17</td>\n",
              "      <td>9</td>\n",
              "      <td>18</td>\n",
              "      <td>2</td>\n",
              "      <td>5</td>\n",
              "    </tr>\n",
              "    <tr>\n",
              "      <th>12</th>\n",
              "      <td>1</td>\n",
              "      <td>3</td>\n",
              "      <td>19</td>\n",
              "      <td>8</td>\n",
              "      <td>0</td>\n",
              "      <td>0</td>\n",
              "      <td>0</td>\n",
              "      <td>0</td>\n",
              "    </tr>\n",
              "    <tr>\n",
              "      <th>13</th>\n",
              "      <td>1</td>\n",
              "      <td>3</td>\n",
              "      <td>19</td>\n",
              "      <td>8</td>\n",
              "      <td>2</td>\n",
              "      <td>5</td>\n",
              "      <td>0</td>\n",
              "      <td>0</td>\n",
              "    </tr>\n",
              "    <tr>\n",
              "      <th>14</th>\n",
              "      <td>10</td>\n",
              "      <td>4</td>\n",
              "      <td>0</td>\n",
              "      <td>0</td>\n",
              "      <td>0</td>\n",
              "      <td>0</td>\n",
              "      <td>0</td>\n",
              "      <td>0</td>\n",
              "    </tr>\n",
              "    <tr>\n",
              "      <th>15</th>\n",
              "      <td>10</td>\n",
              "      <td>4</td>\n",
              "      <td>7</td>\n",
              "      <td>0</td>\n",
              "      <td>0</td>\n",
              "      <td>0</td>\n",
              "      <td>0</td>\n",
              "      <td>0</td>\n",
              "    </tr>\n",
              "    <tr>\n",
              "      <th>16</th>\n",
              "      <td>1</td>\n",
              "      <td>3</td>\n",
              "      <td>10</td>\n",
              "      <td>0</td>\n",
              "      <td>0</td>\n",
              "      <td>0</td>\n",
              "      <td>0</td>\n",
              "      <td>0</td>\n",
              "    </tr>\n",
              "    <tr>\n",
              "      <th>17</th>\n",
              "      <td>1</td>\n",
              "      <td>3</td>\n",
              "      <td>10</td>\n",
              "      <td>2</td>\n",
              "      <td>5</td>\n",
              "      <td>0</td>\n",
              "      <td>0</td>\n",
              "      <td>0</td>\n",
              "    </tr>\n",
              "    <tr>\n",
              "      <th>18</th>\n",
              "      <td>27</td>\n",
              "      <td>28</td>\n",
              "      <td>20</td>\n",
              "      <td>2</td>\n",
              "      <td>9</td>\n",
              "      <td>29</td>\n",
              "      <td>6</td>\n",
              "      <td>0</td>\n",
              "    </tr>\n",
              "    <tr>\n",
              "      <th>19</th>\n",
              "      <td>20</td>\n",
              "      <td>6</td>\n",
              "      <td>0</td>\n",
              "      <td>0</td>\n",
              "      <td>0</td>\n",
              "      <td>0</td>\n",
              "      <td>0</td>\n",
              "      <td>0</td>\n",
              "    </tr>\n",
              "    <tr>\n",
              "      <th>20</th>\n",
              "      <td>21</td>\n",
              "      <td>6</td>\n",
              "      <td>3</td>\n",
              "      <td>22</td>\n",
              "      <td>23</td>\n",
              "      <td>0</td>\n",
              "      <td>0</td>\n",
              "      <td>0</td>\n",
              "    </tr>\n",
              "    <tr>\n",
              "      <th>21</th>\n",
              "      <td>21</td>\n",
              "      <td>6</td>\n",
              "      <td>3</td>\n",
              "      <td>22</td>\n",
              "      <td>23</td>\n",
              "      <td>2</td>\n",
              "      <td>5</td>\n",
              "      <td>0</td>\n",
              "    </tr>\n",
              "  </tbody>\n",
              "</table>\n",
              "</div>\n",
              "      <button class=\"colab-df-convert\" onclick=\"convertToInteractive('df-83c0a9f5-182a-4cd6-8abf-ca51a850845b')\"\n",
              "              title=\"Convert this dataframe to an interactive table.\"\n",
              "              style=\"display:none;\">\n",
              "        \n",
              "  <svg xmlns=\"http://www.w3.org/2000/svg\" height=\"24px\"viewBox=\"0 0 24 24\"\n",
              "       width=\"24px\">\n",
              "    <path d=\"M0 0h24v24H0V0z\" fill=\"none\"/>\n",
              "    <path d=\"M18.56 5.44l.94 2.06.94-2.06 2.06-.94-2.06-.94-.94-2.06-.94 2.06-2.06.94zm-11 1L8.5 8.5l.94-2.06 2.06-.94-2.06-.94L8.5 2.5l-.94 2.06-2.06.94zm10 10l.94 2.06.94-2.06 2.06-.94-2.06-.94-.94-2.06-.94 2.06-2.06.94z\"/><path d=\"M17.41 7.96l-1.37-1.37c-.4-.4-.92-.59-1.43-.59-.52 0-1.04.2-1.43.59L10.3 9.45l-7.72 7.72c-.78.78-.78 2.05 0 2.83L4 21.41c.39.39.9.59 1.41.59.51 0 1.02-.2 1.41-.59l7.78-7.78 2.81-2.81c.8-.78.8-2.07 0-2.86zM5.41 20L4 18.59l7.72-7.72 1.47 1.35L5.41 20z\"/>\n",
              "  </svg>\n",
              "      </button>\n",
              "      \n",
              "  <style>\n",
              "    .colab-df-container {\n",
              "      display:flex;\n",
              "      flex-wrap:wrap;\n",
              "      gap: 12px;\n",
              "    }\n",
              "\n",
              "    .colab-df-convert {\n",
              "      background-color: #E8F0FE;\n",
              "      border: none;\n",
              "      border-radius: 50%;\n",
              "      cursor: pointer;\n",
              "      display: none;\n",
              "      fill: #1967D2;\n",
              "      height: 32px;\n",
              "      padding: 0 0 0 0;\n",
              "      width: 32px;\n",
              "    }\n",
              "\n",
              "    .colab-df-convert:hover {\n",
              "      background-color: #E2EBFA;\n",
              "      box-shadow: 0px 1px 2px rgba(60, 64, 67, 0.3), 0px 1px 3px 1px rgba(60, 64, 67, 0.15);\n",
              "      fill: #174EA6;\n",
              "    }\n",
              "\n",
              "    [theme=dark] .colab-df-convert {\n",
              "      background-color: #3B4455;\n",
              "      fill: #D2E3FC;\n",
              "    }\n",
              "\n",
              "    [theme=dark] .colab-df-convert:hover {\n",
              "      background-color: #434B5C;\n",
              "      box-shadow: 0px 1px 3px 1px rgba(0, 0, 0, 0.15);\n",
              "      filter: drop-shadow(0px 1px 2px rgba(0, 0, 0, 0.3));\n",
              "      fill: #FFFFFF;\n",
              "    }\n",
              "  </style>\n",
              "\n",
              "      <script>\n",
              "        const buttonEl =\n",
              "          document.querySelector('#df-83c0a9f5-182a-4cd6-8abf-ca51a850845b button.colab-df-convert');\n",
              "        buttonEl.style.display =\n",
              "          google.colab.kernel.accessAllowed ? 'block' : 'none';\n",
              "\n",
              "        async function convertToInteractive(key) {\n",
              "          const element = document.querySelector('#df-83c0a9f5-182a-4cd6-8abf-ca51a850845b');\n",
              "          const dataTable =\n",
              "            await google.colab.kernel.invokeFunction('convertToInteractive',\n",
              "                                                     [key], {});\n",
              "          if (!dataTable) return;\n",
              "\n",
              "          const docLinkHtml = 'Like what you see? Visit the ' +\n",
              "            '<a target=\"_blank\" href=https://colab.research.google.com/notebooks/data_table.ipynb>data table notebook</a>'\n",
              "            + ' to learn more about interactive tables.';\n",
              "          element.innerHTML = '';\n",
              "          dataTable['output_type'] = 'display_data';\n",
              "          await google.colab.output.renderOutput(dataTable, element);\n",
              "          const docLink = document.createElement('div');\n",
              "          docLink.innerHTML = docLinkHtml;\n",
              "          element.appendChild(docLink);\n",
              "        }\n",
              "      </script>\n",
              "    </div>\n",
              "  </div>\n",
              "  "
            ]
          },
          "metadata": {},
          "execution_count": 26
        }
      ]
    },
    {
      "cell_type": "code",
      "source": [
        "df_encoded['labels'] = df1.labels\n",
        "df_encoded.head(10)"
      ],
      "metadata": {
        "colab": {
          "base_uri": "https://localhost:8080/",
          "height": 363
        },
        "id": "4-wHkQc1gnUQ",
        "outputId": "2138ae40-fd5c-490d-e50f-554ce3772a10"
      },
      "execution_count": null,
      "outputs": [
        {
          "output_type": "execute_result",
          "data": {
            "text/plain": [
              "    0   1  2  3   4  5  6  7            labels\n",
              "0  12  13  1  0   0  0  0  0   GOURD VARIETIES\n",
              "1  12  13  1  2  24  0  0  0   GOURD VARIETIES\n",
              "2  25   1  0  0   0  0  0  0   GOURD VARIETIES\n",
              "3   8   4  7  0   0  0  0  0      BEANS SOWING\n",
              "4   8   4  7  2   5  0  0  0      BEANS SOWING\n",
              "5  14  15  6  2  26  0  0  0  Plant Protection\n",
              "6  14  15  6  0   0  0  0  0  Plant Protection\n",
              "7  11  16  1  0   0  0  0  0    BASMATHI Seeds\n",
              "8  11  16  1  2   5  0  0  0    BASMATHI Seeds\n",
              "9   9  11  1  0   0  0  0  0    BASMATHI Seeds"
            ],
            "text/html": [
              "\n",
              "  <div id=\"df-8a6f011a-1b82-42c8-8d1b-6157a2029810\">\n",
              "    <div class=\"colab-df-container\">\n",
              "      <div>\n",
              "<style scoped>\n",
              "    .dataframe tbody tr th:only-of-type {\n",
              "        vertical-align: middle;\n",
              "    }\n",
              "\n",
              "    .dataframe tbody tr th {\n",
              "        vertical-align: top;\n",
              "    }\n",
              "\n",
              "    .dataframe thead th {\n",
              "        text-align: right;\n",
              "    }\n",
              "</style>\n",
              "<table border=\"1\" class=\"dataframe\">\n",
              "  <thead>\n",
              "    <tr style=\"text-align: right;\">\n",
              "      <th></th>\n",
              "      <th>0</th>\n",
              "      <th>1</th>\n",
              "      <th>2</th>\n",
              "      <th>3</th>\n",
              "      <th>4</th>\n",
              "      <th>5</th>\n",
              "      <th>6</th>\n",
              "      <th>7</th>\n",
              "      <th>labels</th>\n",
              "    </tr>\n",
              "  </thead>\n",
              "  <tbody>\n",
              "    <tr>\n",
              "      <th>0</th>\n",
              "      <td>12</td>\n",
              "      <td>13</td>\n",
              "      <td>1</td>\n",
              "      <td>0</td>\n",
              "      <td>0</td>\n",
              "      <td>0</td>\n",
              "      <td>0</td>\n",
              "      <td>0</td>\n",
              "      <td>GOURD VARIETIES</td>\n",
              "    </tr>\n",
              "    <tr>\n",
              "      <th>1</th>\n",
              "      <td>12</td>\n",
              "      <td>13</td>\n",
              "      <td>1</td>\n",
              "      <td>2</td>\n",
              "      <td>24</td>\n",
              "      <td>0</td>\n",
              "      <td>0</td>\n",
              "      <td>0</td>\n",
              "      <td>GOURD VARIETIES</td>\n",
              "    </tr>\n",
              "    <tr>\n",
              "      <th>2</th>\n",
              "      <td>25</td>\n",
              "      <td>1</td>\n",
              "      <td>0</td>\n",
              "      <td>0</td>\n",
              "      <td>0</td>\n",
              "      <td>0</td>\n",
              "      <td>0</td>\n",
              "      <td>0</td>\n",
              "      <td>GOURD VARIETIES</td>\n",
              "    </tr>\n",
              "    <tr>\n",
              "      <th>3</th>\n",
              "      <td>8</td>\n",
              "      <td>4</td>\n",
              "      <td>7</td>\n",
              "      <td>0</td>\n",
              "      <td>0</td>\n",
              "      <td>0</td>\n",
              "      <td>0</td>\n",
              "      <td>0</td>\n",
              "      <td>BEANS SOWING</td>\n",
              "    </tr>\n",
              "    <tr>\n",
              "      <th>4</th>\n",
              "      <td>8</td>\n",
              "      <td>4</td>\n",
              "      <td>7</td>\n",
              "      <td>2</td>\n",
              "      <td>5</td>\n",
              "      <td>0</td>\n",
              "      <td>0</td>\n",
              "      <td>0</td>\n",
              "      <td>BEANS SOWING</td>\n",
              "    </tr>\n",
              "    <tr>\n",
              "      <th>5</th>\n",
              "      <td>14</td>\n",
              "      <td>15</td>\n",
              "      <td>6</td>\n",
              "      <td>2</td>\n",
              "      <td>26</td>\n",
              "      <td>0</td>\n",
              "      <td>0</td>\n",
              "      <td>0</td>\n",
              "      <td>Plant Protection</td>\n",
              "    </tr>\n",
              "    <tr>\n",
              "      <th>6</th>\n",
              "      <td>14</td>\n",
              "      <td>15</td>\n",
              "      <td>6</td>\n",
              "      <td>0</td>\n",
              "      <td>0</td>\n",
              "      <td>0</td>\n",
              "      <td>0</td>\n",
              "      <td>0</td>\n",
              "      <td>Plant Protection</td>\n",
              "    </tr>\n",
              "    <tr>\n",
              "      <th>7</th>\n",
              "      <td>11</td>\n",
              "      <td>16</td>\n",
              "      <td>1</td>\n",
              "      <td>0</td>\n",
              "      <td>0</td>\n",
              "      <td>0</td>\n",
              "      <td>0</td>\n",
              "      <td>0</td>\n",
              "      <td>BASMATHI Seeds</td>\n",
              "    </tr>\n",
              "    <tr>\n",
              "      <th>8</th>\n",
              "      <td>11</td>\n",
              "      <td>16</td>\n",
              "      <td>1</td>\n",
              "      <td>2</td>\n",
              "      <td>5</td>\n",
              "      <td>0</td>\n",
              "      <td>0</td>\n",
              "      <td>0</td>\n",
              "      <td>BASMATHI Seeds</td>\n",
              "    </tr>\n",
              "    <tr>\n",
              "      <th>9</th>\n",
              "      <td>9</td>\n",
              "      <td>11</td>\n",
              "      <td>1</td>\n",
              "      <td>0</td>\n",
              "      <td>0</td>\n",
              "      <td>0</td>\n",
              "      <td>0</td>\n",
              "      <td>0</td>\n",
              "      <td>BASMATHI Seeds</td>\n",
              "    </tr>\n",
              "  </tbody>\n",
              "</table>\n",
              "</div>\n",
              "      <button class=\"colab-df-convert\" onclick=\"convertToInteractive('df-8a6f011a-1b82-42c8-8d1b-6157a2029810')\"\n",
              "              title=\"Convert this dataframe to an interactive table.\"\n",
              "              style=\"display:none;\">\n",
              "        \n",
              "  <svg xmlns=\"http://www.w3.org/2000/svg\" height=\"24px\"viewBox=\"0 0 24 24\"\n",
              "       width=\"24px\">\n",
              "    <path d=\"M0 0h24v24H0V0z\" fill=\"none\"/>\n",
              "    <path d=\"M18.56 5.44l.94 2.06.94-2.06 2.06-.94-2.06-.94-.94-2.06-.94 2.06-2.06.94zm-11 1L8.5 8.5l.94-2.06 2.06-.94-2.06-.94L8.5 2.5l-.94 2.06-2.06.94zm10 10l.94 2.06.94-2.06 2.06-.94-2.06-.94-.94-2.06-.94 2.06-2.06.94z\"/><path d=\"M17.41 7.96l-1.37-1.37c-.4-.4-.92-.59-1.43-.59-.52 0-1.04.2-1.43.59L10.3 9.45l-7.72 7.72c-.78.78-.78 2.05 0 2.83L4 21.41c.39.39.9.59 1.41.59.51 0 1.02-.2 1.41-.59l7.78-7.78 2.81-2.81c.8-.78.8-2.07 0-2.86zM5.41 20L4 18.59l7.72-7.72 1.47 1.35L5.41 20z\"/>\n",
              "  </svg>\n",
              "      </button>\n",
              "      \n",
              "  <style>\n",
              "    .colab-df-container {\n",
              "      display:flex;\n",
              "      flex-wrap:wrap;\n",
              "      gap: 12px;\n",
              "    }\n",
              "\n",
              "    .colab-df-convert {\n",
              "      background-color: #E8F0FE;\n",
              "      border: none;\n",
              "      border-radius: 50%;\n",
              "      cursor: pointer;\n",
              "      display: none;\n",
              "      fill: #1967D2;\n",
              "      height: 32px;\n",
              "      padding: 0 0 0 0;\n",
              "      width: 32px;\n",
              "    }\n",
              "\n",
              "    .colab-df-convert:hover {\n",
              "      background-color: #E2EBFA;\n",
              "      box-shadow: 0px 1px 2px rgba(60, 64, 67, 0.3), 0px 1px 3px 1px rgba(60, 64, 67, 0.15);\n",
              "      fill: #174EA6;\n",
              "    }\n",
              "\n",
              "    [theme=dark] .colab-df-convert {\n",
              "      background-color: #3B4455;\n",
              "      fill: #D2E3FC;\n",
              "    }\n",
              "\n",
              "    [theme=dark] .colab-df-convert:hover {\n",
              "      background-color: #434B5C;\n",
              "      box-shadow: 0px 1px 3px 1px rgba(0, 0, 0, 0.15);\n",
              "      filter: drop-shadow(0px 1px 2px rgba(0, 0, 0, 0.3));\n",
              "      fill: #FFFFFF;\n",
              "    }\n",
              "  </style>\n",
              "\n",
              "      <script>\n",
              "        const buttonEl =\n",
              "          document.querySelector('#df-8a6f011a-1b82-42c8-8d1b-6157a2029810 button.colab-df-convert');\n",
              "        buttonEl.style.display =\n",
              "          google.colab.kernel.accessAllowed ? 'block' : 'none';\n",
              "\n",
              "        async function convertToInteractive(key) {\n",
              "          const element = document.querySelector('#df-8a6f011a-1b82-42c8-8d1b-6157a2029810');\n",
              "          const dataTable =\n",
              "            await google.colab.kernel.invokeFunction('convertToInteractive',\n",
              "                                                     [key], {});\n",
              "          if (!dataTable) return;\n",
              "\n",
              "          const docLinkHtml = 'Like what you see? Visit the ' +\n",
              "            '<a target=\"_blank\" href=https://colab.research.google.com/notebooks/data_table.ipynb>data table notebook</a>'\n",
              "            + ' to learn more about interactive tables.';\n",
              "          element.innerHTML = '';\n",
              "          dataTable['output_type'] = 'display_data';\n",
              "          await google.colab.output.renderOutput(dataTable, element);\n",
              "          const docLink = document.createElement('div');\n",
              "          docLink.innerHTML = docLinkHtml;\n",
              "          element.appendChild(docLink);\n",
              "        }\n",
              "      </script>\n",
              "    </div>\n",
              "  </div>\n",
              "  "
            ]
          },
          "metadata": {},
          "execution_count": 27
        }
      ]
    },
    {
      "cell_type": "code",
      "source": [
        "from sklearn.preprocessing import LabelEncoder\n",
        "lable_enc = LabelEncoder()\n",
        "\n",
        "# encoding the labels\n",
        "\n",
        "labl = lable_enc.fit_transform(df_encoded.labels)\n",
        "labl"
      ],
      "metadata": {
        "colab": {
          "base_uri": "https://localhost:8080/"
        },
        "id": "N6JK2aqWgqoZ",
        "outputId": "65e7a21d-dde1-430e-f130-c6cfa94ec4ad"
      },
      "execution_count": null,
      "outputs": [
        {
          "output_type": "execute_result",
          "data": {
            "text/plain": [
              "array([4, 4, 4, 1, 1, 6, 6, 0, 0, 0, 7, 7, 3, 3, 2, 2, 8, 8, 5, 5, 9, 9])"
            ]
          },
          "metadata": {},
          "execution_count": 28
        }
      ]
    },
    {
      "cell_type": "code",
      "source": [
        "mapper = {}\n",
        "for index,key in enumerate(df_encoded.labels):\n",
        "    if key not in mapper.keys():\n",
        "        mapper[key] = labl[index]\n",
        "\n",
        "mapper"
      ],
      "metadata": {
        "colab": {
          "base_uri": "https://localhost:8080/"
        },
        "id": "jwtui3fMgvrN",
        "outputId": "c0c519af-fe9f-43de-d93a-78ba85dd0277"
      },
      "execution_count": null,
      "outputs": [
        {
          "output_type": "execute_result",
          "data": {
            "text/plain": [
              "{'GOURD VARIETIES': 4,\n",
              " 'BEANS SOWING': 1,\n",
              " 'Plant Protection': 6,\n",
              " 'BASMATHI Seeds': 0,\n",
              " 'RNR PADDY SEEDS': 7,\n",
              " 'CLUSTER BEANS': 3,\n",
              " 'CHILLI SOWING': 2,\n",
              " 'VARIETIES OF CHILLI': 8,\n",
              " 'LEAF EATING CATERPILLER': 5,\n",
              " 'Weed Management': 9}"
            ]
          },
          "metadata": {},
          "execution_count": 29
        }
      ]
    },
    {
      "cell_type": "code",
      "source": [
        "df2.labels = df2.labels.map(mapper).astype({'labels': 'int32'})\n",
        "df2.head()"
      ],
      "metadata": {
        "colab": {
          "base_uri": "https://localhost:8080/",
          "height": 206
        },
        "id": "ORtMI1_agx4E",
        "outputId": "1d53ca3e-f197-487b-c1cc-af9ceb703f4c"
      },
      "execution_count": null,
      "outputs": [
        {
          "output_type": "execute_result",
          "data": {
            "text/plain": [
              "                                            response  labels\n",
              "0  RIDGE GOURD VARIETIES ;-SUREKA ,SANJIVANI,MAHI...       4\n",
              "1                   BEANS SOWING TIME ;- JUNE -JULY        1\n",
              "2  RECOMMENDED TO SPRAY ACEPHATE (ARTHIN) 300 GRA...       6\n",
              "3  These are Basmati 217, Basmati 370, Type 3 (De...       0\n",
              "4             RECOMMENDED TO SOW FROM JUNE 3RD WEEK.       7"
            ],
            "text/html": [
              "\n",
              "  <div id=\"df-4368b81c-04e7-401f-9b6a-897b34520249\">\n",
              "    <div class=\"colab-df-container\">\n",
              "      <div>\n",
              "<style scoped>\n",
              "    .dataframe tbody tr th:only-of-type {\n",
              "        vertical-align: middle;\n",
              "    }\n",
              "\n",
              "    .dataframe tbody tr th {\n",
              "        vertical-align: top;\n",
              "    }\n",
              "\n",
              "    .dataframe thead th {\n",
              "        text-align: right;\n",
              "    }\n",
              "</style>\n",
              "<table border=\"1\" class=\"dataframe\">\n",
              "  <thead>\n",
              "    <tr style=\"text-align: right;\">\n",
              "      <th></th>\n",
              "      <th>response</th>\n",
              "      <th>labels</th>\n",
              "    </tr>\n",
              "  </thead>\n",
              "  <tbody>\n",
              "    <tr>\n",
              "      <th>0</th>\n",
              "      <td>RIDGE GOURD VARIETIES ;-SUREKA ,SANJIVANI,MAHI...</td>\n",
              "      <td>4</td>\n",
              "    </tr>\n",
              "    <tr>\n",
              "      <th>1</th>\n",
              "      <td>BEANS SOWING TIME ;- JUNE -JULY</td>\n",
              "      <td>1</td>\n",
              "    </tr>\n",
              "    <tr>\n",
              "      <th>2</th>\n",
              "      <td>RECOMMENDED TO SPRAY ACEPHATE (ARTHIN) 300 GRA...</td>\n",
              "      <td>6</td>\n",
              "    </tr>\n",
              "    <tr>\n",
              "      <th>3</th>\n",
              "      <td>These are Basmati 217, Basmati 370, Type 3 (De...</td>\n",
              "      <td>0</td>\n",
              "    </tr>\n",
              "    <tr>\n",
              "      <th>4</th>\n",
              "      <td>RECOMMENDED TO SOW FROM JUNE 3RD WEEK.</td>\n",
              "      <td>7</td>\n",
              "    </tr>\n",
              "  </tbody>\n",
              "</table>\n",
              "</div>\n",
              "      <button class=\"colab-df-convert\" onclick=\"convertToInteractive('df-4368b81c-04e7-401f-9b6a-897b34520249')\"\n",
              "              title=\"Convert this dataframe to an interactive table.\"\n",
              "              style=\"display:none;\">\n",
              "        \n",
              "  <svg xmlns=\"http://www.w3.org/2000/svg\" height=\"24px\"viewBox=\"0 0 24 24\"\n",
              "       width=\"24px\">\n",
              "    <path d=\"M0 0h24v24H0V0z\" fill=\"none\"/>\n",
              "    <path d=\"M18.56 5.44l.94 2.06.94-2.06 2.06-.94-2.06-.94-.94-2.06-.94 2.06-2.06.94zm-11 1L8.5 8.5l.94-2.06 2.06-.94-2.06-.94L8.5 2.5l-.94 2.06-2.06.94zm10 10l.94 2.06.94-2.06 2.06-.94-2.06-.94-.94-2.06-.94 2.06-2.06.94z\"/><path d=\"M17.41 7.96l-1.37-1.37c-.4-.4-.92-.59-1.43-.59-.52 0-1.04.2-1.43.59L10.3 9.45l-7.72 7.72c-.78.78-.78 2.05 0 2.83L4 21.41c.39.39.9.59 1.41.59.51 0 1.02-.2 1.41-.59l7.78-7.78 2.81-2.81c.8-.78.8-2.07 0-2.86zM5.41 20L4 18.59l7.72-7.72 1.47 1.35L5.41 20z\"/>\n",
              "  </svg>\n",
              "      </button>\n",
              "      \n",
              "  <style>\n",
              "    .colab-df-container {\n",
              "      display:flex;\n",
              "      flex-wrap:wrap;\n",
              "      gap: 12px;\n",
              "    }\n",
              "\n",
              "    .colab-df-convert {\n",
              "      background-color: #E8F0FE;\n",
              "      border: none;\n",
              "      border-radius: 50%;\n",
              "      cursor: pointer;\n",
              "      display: none;\n",
              "      fill: #1967D2;\n",
              "      height: 32px;\n",
              "      padding: 0 0 0 0;\n",
              "      width: 32px;\n",
              "    }\n",
              "\n",
              "    .colab-df-convert:hover {\n",
              "      background-color: #E2EBFA;\n",
              "      box-shadow: 0px 1px 2px rgba(60, 64, 67, 0.3), 0px 1px 3px 1px rgba(60, 64, 67, 0.15);\n",
              "      fill: #174EA6;\n",
              "    }\n",
              "\n",
              "    [theme=dark] .colab-df-convert {\n",
              "      background-color: #3B4455;\n",
              "      fill: #D2E3FC;\n",
              "    }\n",
              "\n",
              "    [theme=dark] .colab-df-convert:hover {\n",
              "      background-color: #434B5C;\n",
              "      box-shadow: 0px 1px 3px 1px rgba(0, 0, 0, 0.15);\n",
              "      filter: drop-shadow(0px 1px 2px rgba(0, 0, 0, 0.3));\n",
              "      fill: #FFFFFF;\n",
              "    }\n",
              "  </style>\n",
              "\n",
              "      <script>\n",
              "        const buttonEl =\n",
              "          document.querySelector('#df-4368b81c-04e7-401f-9b6a-897b34520249 button.colab-df-convert');\n",
              "        buttonEl.style.display =\n",
              "          google.colab.kernel.accessAllowed ? 'block' : 'none';\n",
              "\n",
              "        async function convertToInteractive(key) {\n",
              "          const element = document.querySelector('#df-4368b81c-04e7-401f-9b6a-897b34520249');\n",
              "          const dataTable =\n",
              "            await google.colab.kernel.invokeFunction('convertToInteractive',\n",
              "                                                     [key], {});\n",
              "          if (!dataTable) return;\n",
              "\n",
              "          const docLinkHtml = 'Like what you see? Visit the ' +\n",
              "            '<a target=\"_blank\" href=https://colab.research.google.com/notebooks/data_table.ipynb>data table notebook</a>'\n",
              "            + ' to learn more about interactive tables.';\n",
              "          element.innerHTML = '';\n",
              "          dataTable['output_type'] = 'display_data';\n",
              "          await google.colab.output.renderOutput(dataTable, element);\n",
              "          const docLink = document.createElement('div');\n",
              "          docLink.innerHTML = docLinkHtml;\n",
              "          element.appendChild(docLink);\n",
              "        }\n",
              "      </script>\n",
              "    </div>\n",
              "  </div>\n",
              "  "
            ]
          },
          "metadata": {},
          "execution_count": 30
        }
      ]
    },
    {
      "cell_type": "code",
      "source": [
        "df2.to_csv('response.csv',index=False)"
      ],
      "metadata": {
        "id": "78FbQDdpg2fN"
      },
      "execution_count": null,
      "outputs": []
    },
    {
      "cell_type": "code",
      "source": [
        "df_encoded.head()"
      ],
      "metadata": {
        "colab": {
          "base_uri": "https://localhost:8080/",
          "height": 206
        },
        "id": "2OXnh0Mpg4Bm",
        "outputId": "a52bcf45-562a-47bd-b4e6-0a7bfab5408a"
      },
      "execution_count": null,
      "outputs": [
        {
          "output_type": "execute_result",
          "data": {
            "text/plain": [
              "    0   1  2  3   4  5  6  7           labels\n",
              "0  12  13  1  0   0  0  0  0  GOURD VARIETIES\n",
              "1  12  13  1  2  24  0  0  0  GOURD VARIETIES\n",
              "2  25   1  0  0   0  0  0  0  GOURD VARIETIES\n",
              "3   8   4  7  0   0  0  0  0     BEANS SOWING\n",
              "4   8   4  7  2   5  0  0  0     BEANS SOWING"
            ],
            "text/html": [
              "\n",
              "  <div id=\"df-990e2538-f5fa-4f7d-84d3-7152939ee785\">\n",
              "    <div class=\"colab-df-container\">\n",
              "      <div>\n",
              "<style scoped>\n",
              "    .dataframe tbody tr th:only-of-type {\n",
              "        vertical-align: middle;\n",
              "    }\n",
              "\n",
              "    .dataframe tbody tr th {\n",
              "        vertical-align: top;\n",
              "    }\n",
              "\n",
              "    .dataframe thead th {\n",
              "        text-align: right;\n",
              "    }\n",
              "</style>\n",
              "<table border=\"1\" class=\"dataframe\">\n",
              "  <thead>\n",
              "    <tr style=\"text-align: right;\">\n",
              "      <th></th>\n",
              "      <th>0</th>\n",
              "      <th>1</th>\n",
              "      <th>2</th>\n",
              "      <th>3</th>\n",
              "      <th>4</th>\n",
              "      <th>5</th>\n",
              "      <th>6</th>\n",
              "      <th>7</th>\n",
              "      <th>labels</th>\n",
              "    </tr>\n",
              "  </thead>\n",
              "  <tbody>\n",
              "    <tr>\n",
              "      <th>0</th>\n",
              "      <td>12</td>\n",
              "      <td>13</td>\n",
              "      <td>1</td>\n",
              "      <td>0</td>\n",
              "      <td>0</td>\n",
              "      <td>0</td>\n",
              "      <td>0</td>\n",
              "      <td>0</td>\n",
              "      <td>GOURD VARIETIES</td>\n",
              "    </tr>\n",
              "    <tr>\n",
              "      <th>1</th>\n",
              "      <td>12</td>\n",
              "      <td>13</td>\n",
              "      <td>1</td>\n",
              "      <td>2</td>\n",
              "      <td>24</td>\n",
              "      <td>0</td>\n",
              "      <td>0</td>\n",
              "      <td>0</td>\n",
              "      <td>GOURD VARIETIES</td>\n",
              "    </tr>\n",
              "    <tr>\n",
              "      <th>2</th>\n",
              "      <td>25</td>\n",
              "      <td>1</td>\n",
              "      <td>0</td>\n",
              "      <td>0</td>\n",
              "      <td>0</td>\n",
              "      <td>0</td>\n",
              "      <td>0</td>\n",
              "      <td>0</td>\n",
              "      <td>GOURD VARIETIES</td>\n",
              "    </tr>\n",
              "    <tr>\n",
              "      <th>3</th>\n",
              "      <td>8</td>\n",
              "      <td>4</td>\n",
              "      <td>7</td>\n",
              "      <td>0</td>\n",
              "      <td>0</td>\n",
              "      <td>0</td>\n",
              "      <td>0</td>\n",
              "      <td>0</td>\n",
              "      <td>BEANS SOWING</td>\n",
              "    </tr>\n",
              "    <tr>\n",
              "      <th>4</th>\n",
              "      <td>8</td>\n",
              "      <td>4</td>\n",
              "      <td>7</td>\n",
              "      <td>2</td>\n",
              "      <td>5</td>\n",
              "      <td>0</td>\n",
              "      <td>0</td>\n",
              "      <td>0</td>\n",
              "      <td>BEANS SOWING</td>\n",
              "    </tr>\n",
              "  </tbody>\n",
              "</table>\n",
              "</div>\n",
              "      <button class=\"colab-df-convert\" onclick=\"convertToInteractive('df-990e2538-f5fa-4f7d-84d3-7152939ee785')\"\n",
              "              title=\"Convert this dataframe to an interactive table.\"\n",
              "              style=\"display:none;\">\n",
              "        \n",
              "  <svg xmlns=\"http://www.w3.org/2000/svg\" height=\"24px\"viewBox=\"0 0 24 24\"\n",
              "       width=\"24px\">\n",
              "    <path d=\"M0 0h24v24H0V0z\" fill=\"none\"/>\n",
              "    <path d=\"M18.56 5.44l.94 2.06.94-2.06 2.06-.94-2.06-.94-.94-2.06-.94 2.06-2.06.94zm-11 1L8.5 8.5l.94-2.06 2.06-.94-2.06-.94L8.5 2.5l-.94 2.06-2.06.94zm10 10l.94 2.06.94-2.06 2.06-.94-2.06-.94-.94-2.06-.94 2.06-2.06.94z\"/><path d=\"M17.41 7.96l-1.37-1.37c-.4-.4-.92-.59-1.43-.59-.52 0-1.04.2-1.43.59L10.3 9.45l-7.72 7.72c-.78.78-.78 2.05 0 2.83L4 21.41c.39.39.9.59 1.41.59.51 0 1.02-.2 1.41-.59l7.78-7.78 2.81-2.81c.8-.78.8-2.07 0-2.86zM5.41 20L4 18.59l7.72-7.72 1.47 1.35L5.41 20z\"/>\n",
              "  </svg>\n",
              "      </button>\n",
              "      \n",
              "  <style>\n",
              "    .colab-df-container {\n",
              "      display:flex;\n",
              "      flex-wrap:wrap;\n",
              "      gap: 12px;\n",
              "    }\n",
              "\n",
              "    .colab-df-convert {\n",
              "      background-color: #E8F0FE;\n",
              "      border: none;\n",
              "      border-radius: 50%;\n",
              "      cursor: pointer;\n",
              "      display: none;\n",
              "      fill: #1967D2;\n",
              "      height: 32px;\n",
              "      padding: 0 0 0 0;\n",
              "      width: 32px;\n",
              "    }\n",
              "\n",
              "    .colab-df-convert:hover {\n",
              "      background-color: #E2EBFA;\n",
              "      box-shadow: 0px 1px 2px rgba(60, 64, 67, 0.3), 0px 1px 3px 1px rgba(60, 64, 67, 0.15);\n",
              "      fill: #174EA6;\n",
              "    }\n",
              "\n",
              "    [theme=dark] .colab-df-convert {\n",
              "      background-color: #3B4455;\n",
              "      fill: #D2E3FC;\n",
              "    }\n",
              "\n",
              "    [theme=dark] .colab-df-convert:hover {\n",
              "      background-color: #434B5C;\n",
              "      box-shadow: 0px 1px 3px 1px rgba(0, 0, 0, 0.15);\n",
              "      filter: drop-shadow(0px 1px 2px rgba(0, 0, 0, 0.3));\n",
              "      fill: #FFFFFF;\n",
              "    }\n",
              "  </style>\n",
              "\n",
              "      <script>\n",
              "        const buttonEl =\n",
              "          document.querySelector('#df-990e2538-f5fa-4f7d-84d3-7152939ee785 button.colab-df-convert');\n",
              "        buttonEl.style.display =\n",
              "          google.colab.kernel.accessAllowed ? 'block' : 'none';\n",
              "\n",
              "        async function convertToInteractive(key) {\n",
              "          const element = document.querySelector('#df-990e2538-f5fa-4f7d-84d3-7152939ee785');\n",
              "          const dataTable =\n",
              "            await google.colab.kernel.invokeFunction('convertToInteractive',\n",
              "                                                     [key], {});\n",
              "          if (!dataTable) return;\n",
              "\n",
              "          const docLinkHtml = 'Like what you see? Visit the ' +\n",
              "            '<a target=\"_blank\" href=https://colab.research.google.com/notebooks/data_table.ipynb>data table notebook</a>'\n",
              "            + ' to learn more about interactive tables.';\n",
              "          element.innerHTML = '';\n",
              "          dataTable['output_type'] = 'display_data';\n",
              "          await google.colab.output.renderOutput(dataTable, element);\n",
              "          const docLink = document.createElement('div');\n",
              "          docLink.innerHTML = docLinkHtml;\n",
              "          element.appendChild(docLink);\n",
              "        }\n",
              "      </script>\n",
              "    </div>\n",
              "  </div>\n",
              "  "
            ]
          },
          "metadata": {},
          "execution_count": 32
        }
      ]
    },
    {
      "cell_type": "code",
      "source": [
        "train_index"
      ],
      "metadata": {
        "colab": {
          "base_uri": "https://localhost:8080/"
        },
        "id": "VDBZ5qhrhXNc",
        "outputId": "a84197e4-0e94-40b1-e0e4-f42e833d9ab2"
      },
      "execution_count": null,
      "outputs": [
        {
          "output_type": "execute_result",
          "data": {
            "text/plain": [
              "[1, 2, 4, 6, 8, 9, 11, 13, 15, 17, 19, 21]"
            ]
          },
          "metadata": {},
          "execution_count": 33
        }
      ]
    },
    {
      "cell_type": "code",
      "source": [
        "test_index"
      ],
      "metadata": {
        "colab": {
          "base_uri": "https://localhost:8080/"
        },
        "id": "FAo9Nc3ahhvo",
        "outputId": "0dbdfae0-45f3-47cc-d923-8f53058d8bd6"
      },
      "execution_count": null,
      "outputs": [
        {
          "output_type": "execute_result",
          "data": {
            "text/plain": [
              "[7, 3, 14, 12, 0, 18, 5, 10, 16, 20]"
            ]
          },
          "metadata": {},
          "execution_count": 34
        }
      ]
    },
    {
      "cell_type": "code",
      "source": [
        "train = df_encoded.loc[train_index]\n",
        "test = df_encoded.loc[test_index]"
      ],
      "metadata": {
        "id": "wPf70Vt5hjq8"
      },
      "execution_count": null,
      "outputs": []
    },
    {
      "cell_type": "code",
      "source": [
        "train"
      ],
      "metadata": {
        "colab": {
          "base_uri": "https://localhost:8080/",
          "height": 425
        },
        "id": "dCd7s1NBhl8H",
        "outputId": "f682ad2f-105f-4508-84bb-e3537fe99d96"
      },
      "execution_count": null,
      "outputs": [
        {
          "output_type": "execute_result",
          "data": {
            "text/plain": [
              "     0   1   2   3   4   5  6  7                   labels\n",
              "1   12  13   1   2  24   0  0  0          GOURD VARIETIES\n",
              "2   25   1   0   0   0   0  0  0          GOURD VARIETIES\n",
              "4    8   4   7   2   5   0  0  0             BEANS SOWING\n",
              "6   14  15   6   0   0   0  0  0         Plant Protection\n",
              "8   11  16   1   2   5   0  0  0           BASMATHI Seeds\n",
              "9    9  11   1   0   0   0  0  0           BASMATHI Seeds\n",
              "11   4   7   3  17   9  18  2  5          RNR PADDY SEEDS\n",
              "13   1   3  19   8   2   5  0  0            CLUSTER BEANS\n",
              "15  10   4   7   0   0   0  0  0            CHILLI SOWING\n",
              "17   1   3  10   2   5   0  0  0      VARIETIES OF CHILLI\n",
              "19  20   6   0   0   0   0  0  0  LEAF EATING CATERPILLER\n",
              "21  21   6   3  22  23   2  5  0          Weed Management"
            ],
            "text/html": [
              "\n",
              "  <div id=\"df-a9858268-76b0-45a9-a66b-7c152c05f40d\">\n",
              "    <div class=\"colab-df-container\">\n",
              "      <div>\n",
              "<style scoped>\n",
              "    .dataframe tbody tr th:only-of-type {\n",
              "        vertical-align: middle;\n",
              "    }\n",
              "\n",
              "    .dataframe tbody tr th {\n",
              "        vertical-align: top;\n",
              "    }\n",
              "\n",
              "    .dataframe thead th {\n",
              "        text-align: right;\n",
              "    }\n",
              "</style>\n",
              "<table border=\"1\" class=\"dataframe\">\n",
              "  <thead>\n",
              "    <tr style=\"text-align: right;\">\n",
              "      <th></th>\n",
              "      <th>0</th>\n",
              "      <th>1</th>\n",
              "      <th>2</th>\n",
              "      <th>3</th>\n",
              "      <th>4</th>\n",
              "      <th>5</th>\n",
              "      <th>6</th>\n",
              "      <th>7</th>\n",
              "      <th>labels</th>\n",
              "    </tr>\n",
              "  </thead>\n",
              "  <tbody>\n",
              "    <tr>\n",
              "      <th>1</th>\n",
              "      <td>12</td>\n",
              "      <td>13</td>\n",
              "      <td>1</td>\n",
              "      <td>2</td>\n",
              "      <td>24</td>\n",
              "      <td>0</td>\n",
              "      <td>0</td>\n",
              "      <td>0</td>\n",
              "      <td>GOURD VARIETIES</td>\n",
              "    </tr>\n",
              "    <tr>\n",
              "      <th>2</th>\n",
              "      <td>25</td>\n",
              "      <td>1</td>\n",
              "      <td>0</td>\n",
              "      <td>0</td>\n",
              "      <td>0</td>\n",
              "      <td>0</td>\n",
              "      <td>0</td>\n",
              "      <td>0</td>\n",
              "      <td>GOURD VARIETIES</td>\n",
              "    </tr>\n",
              "    <tr>\n",
              "      <th>4</th>\n",
              "      <td>8</td>\n",
              "      <td>4</td>\n",
              "      <td>7</td>\n",
              "      <td>2</td>\n",
              "      <td>5</td>\n",
              "      <td>0</td>\n",
              "      <td>0</td>\n",
              "      <td>0</td>\n",
              "      <td>BEANS SOWING</td>\n",
              "    </tr>\n",
              "    <tr>\n",
              "      <th>6</th>\n",
              "      <td>14</td>\n",
              "      <td>15</td>\n",
              "      <td>6</td>\n",
              "      <td>0</td>\n",
              "      <td>0</td>\n",
              "      <td>0</td>\n",
              "      <td>0</td>\n",
              "      <td>0</td>\n",
              "      <td>Plant Protection</td>\n",
              "    </tr>\n",
              "    <tr>\n",
              "      <th>8</th>\n",
              "      <td>11</td>\n",
              "      <td>16</td>\n",
              "      <td>1</td>\n",
              "      <td>2</td>\n",
              "      <td>5</td>\n",
              "      <td>0</td>\n",
              "      <td>0</td>\n",
              "      <td>0</td>\n",
              "      <td>BASMATHI Seeds</td>\n",
              "    </tr>\n",
              "    <tr>\n",
              "      <th>9</th>\n",
              "      <td>9</td>\n",
              "      <td>11</td>\n",
              "      <td>1</td>\n",
              "      <td>0</td>\n",
              "      <td>0</td>\n",
              "      <td>0</td>\n",
              "      <td>0</td>\n",
              "      <td>0</td>\n",
              "      <td>BASMATHI Seeds</td>\n",
              "    </tr>\n",
              "    <tr>\n",
              "      <th>11</th>\n",
              "      <td>4</td>\n",
              "      <td>7</td>\n",
              "      <td>3</td>\n",
              "      <td>17</td>\n",
              "      <td>9</td>\n",
              "      <td>18</td>\n",
              "      <td>2</td>\n",
              "      <td>5</td>\n",
              "      <td>RNR PADDY SEEDS</td>\n",
              "    </tr>\n",
              "    <tr>\n",
              "      <th>13</th>\n",
              "      <td>1</td>\n",
              "      <td>3</td>\n",
              "      <td>19</td>\n",
              "      <td>8</td>\n",
              "      <td>2</td>\n",
              "      <td>5</td>\n",
              "      <td>0</td>\n",
              "      <td>0</td>\n",
              "      <td>CLUSTER BEANS</td>\n",
              "    </tr>\n",
              "    <tr>\n",
              "      <th>15</th>\n",
              "      <td>10</td>\n",
              "      <td>4</td>\n",
              "      <td>7</td>\n",
              "      <td>0</td>\n",
              "      <td>0</td>\n",
              "      <td>0</td>\n",
              "      <td>0</td>\n",
              "      <td>0</td>\n",
              "      <td>CHILLI SOWING</td>\n",
              "    </tr>\n",
              "    <tr>\n",
              "      <th>17</th>\n",
              "      <td>1</td>\n",
              "      <td>3</td>\n",
              "      <td>10</td>\n",
              "      <td>2</td>\n",
              "      <td>5</td>\n",
              "      <td>0</td>\n",
              "      <td>0</td>\n",
              "      <td>0</td>\n",
              "      <td>VARIETIES OF CHILLI</td>\n",
              "    </tr>\n",
              "    <tr>\n",
              "      <th>19</th>\n",
              "      <td>20</td>\n",
              "      <td>6</td>\n",
              "      <td>0</td>\n",
              "      <td>0</td>\n",
              "      <td>0</td>\n",
              "      <td>0</td>\n",
              "      <td>0</td>\n",
              "      <td>0</td>\n",
              "      <td>LEAF EATING CATERPILLER</td>\n",
              "    </tr>\n",
              "    <tr>\n",
              "      <th>21</th>\n",
              "      <td>21</td>\n",
              "      <td>6</td>\n",
              "      <td>3</td>\n",
              "      <td>22</td>\n",
              "      <td>23</td>\n",
              "      <td>2</td>\n",
              "      <td>5</td>\n",
              "      <td>0</td>\n",
              "      <td>Weed Management</td>\n",
              "    </tr>\n",
              "  </tbody>\n",
              "</table>\n",
              "</div>\n",
              "      <button class=\"colab-df-convert\" onclick=\"convertToInteractive('df-a9858268-76b0-45a9-a66b-7c152c05f40d')\"\n",
              "              title=\"Convert this dataframe to an interactive table.\"\n",
              "              style=\"display:none;\">\n",
              "        \n",
              "  <svg xmlns=\"http://www.w3.org/2000/svg\" height=\"24px\"viewBox=\"0 0 24 24\"\n",
              "       width=\"24px\">\n",
              "    <path d=\"M0 0h24v24H0V0z\" fill=\"none\"/>\n",
              "    <path d=\"M18.56 5.44l.94 2.06.94-2.06 2.06-.94-2.06-.94-.94-2.06-.94 2.06-2.06.94zm-11 1L8.5 8.5l.94-2.06 2.06-.94-2.06-.94L8.5 2.5l-.94 2.06-2.06.94zm10 10l.94 2.06.94-2.06 2.06-.94-2.06-.94-.94-2.06-.94 2.06-2.06.94z\"/><path d=\"M17.41 7.96l-1.37-1.37c-.4-.4-.92-.59-1.43-.59-.52 0-1.04.2-1.43.59L10.3 9.45l-7.72 7.72c-.78.78-.78 2.05 0 2.83L4 21.41c.39.39.9.59 1.41.59.51 0 1.02-.2 1.41-.59l7.78-7.78 2.81-2.81c.8-.78.8-2.07 0-2.86zM5.41 20L4 18.59l7.72-7.72 1.47 1.35L5.41 20z\"/>\n",
              "  </svg>\n",
              "      </button>\n",
              "      \n",
              "  <style>\n",
              "    .colab-df-container {\n",
              "      display:flex;\n",
              "      flex-wrap:wrap;\n",
              "      gap: 12px;\n",
              "    }\n",
              "\n",
              "    .colab-df-convert {\n",
              "      background-color: #E8F0FE;\n",
              "      border: none;\n",
              "      border-radius: 50%;\n",
              "      cursor: pointer;\n",
              "      display: none;\n",
              "      fill: #1967D2;\n",
              "      height: 32px;\n",
              "      padding: 0 0 0 0;\n",
              "      width: 32px;\n",
              "    }\n",
              "\n",
              "    .colab-df-convert:hover {\n",
              "      background-color: #E2EBFA;\n",
              "      box-shadow: 0px 1px 2px rgba(60, 64, 67, 0.3), 0px 1px 3px 1px rgba(60, 64, 67, 0.15);\n",
              "      fill: #174EA6;\n",
              "    }\n",
              "\n",
              "    [theme=dark] .colab-df-convert {\n",
              "      background-color: #3B4455;\n",
              "      fill: #D2E3FC;\n",
              "    }\n",
              "\n",
              "    [theme=dark] .colab-df-convert:hover {\n",
              "      background-color: #434B5C;\n",
              "      box-shadow: 0px 1px 3px 1px rgba(0, 0, 0, 0.15);\n",
              "      filter: drop-shadow(0px 1px 2px rgba(0, 0, 0, 0.3));\n",
              "      fill: #FFFFFF;\n",
              "    }\n",
              "  </style>\n",
              "\n",
              "      <script>\n",
              "        const buttonEl =\n",
              "          document.querySelector('#df-a9858268-76b0-45a9-a66b-7c152c05f40d button.colab-df-convert');\n",
              "        buttonEl.style.display =\n",
              "          google.colab.kernel.accessAllowed ? 'block' : 'none';\n",
              "\n",
              "        async function convertToInteractive(key) {\n",
              "          const element = document.querySelector('#df-a9858268-76b0-45a9-a66b-7c152c05f40d');\n",
              "          const dataTable =\n",
              "            await google.colab.kernel.invokeFunction('convertToInteractive',\n",
              "                                                     [key], {});\n",
              "          if (!dataTable) return;\n",
              "\n",
              "          const docLinkHtml = 'Like what you see? Visit the ' +\n",
              "            '<a target=\"_blank\" href=https://colab.research.google.com/notebooks/data_table.ipynb>data table notebook</a>'\n",
              "            + ' to learn more about interactive tables.';\n",
              "          element.innerHTML = '';\n",
              "          dataTable['output_type'] = 'display_data';\n",
              "          await google.colab.output.renderOutput(dataTable, element);\n",
              "          const docLink = document.createElement('div');\n",
              "          docLink.innerHTML = docLinkHtml;\n",
              "          element.appendChild(docLink);\n",
              "        }\n",
              "      </script>\n",
              "    </div>\n",
              "  </div>\n",
              "  "
            ]
          },
          "metadata": {},
          "execution_count": 36
        }
      ]
    },
    {
      "cell_type": "code",
      "source": [
        "test.head()"
      ],
      "metadata": {
        "colab": {
          "base_uri": "https://localhost:8080/",
          "height": 206
        },
        "id": "Oj35WvGPho-D",
        "outputId": "bf35b920-4a24-4657-b807-f4b3c398458c"
      },
      "execution_count": null,
      "outputs": [
        {
          "output_type": "execute_result",
          "data": {
            "text/plain": [
              "     0   1   2  3  4  5  6  7           labels\n",
              "7   11  16   1  0  0  0  0  0   BASMATHI Seeds\n",
              "3    8   4   7  0  0  0  0  0     BEANS SOWING\n",
              "14  10   4   0  0  0  0  0  0    CHILLI SOWING\n",
              "12   1   3  19  8  0  0  0  0    CLUSTER BEANS\n",
              "0   12  13   1  0  0  0  0  0  GOURD VARIETIES"
            ],
            "text/html": [
              "\n",
              "  <div id=\"df-69eee42d-5b3a-4f44-b4a2-ae8e8d334b33\">\n",
              "    <div class=\"colab-df-container\">\n",
              "      <div>\n",
              "<style scoped>\n",
              "    .dataframe tbody tr th:only-of-type {\n",
              "        vertical-align: middle;\n",
              "    }\n",
              "\n",
              "    .dataframe tbody tr th {\n",
              "        vertical-align: top;\n",
              "    }\n",
              "\n",
              "    .dataframe thead th {\n",
              "        text-align: right;\n",
              "    }\n",
              "</style>\n",
              "<table border=\"1\" class=\"dataframe\">\n",
              "  <thead>\n",
              "    <tr style=\"text-align: right;\">\n",
              "      <th></th>\n",
              "      <th>0</th>\n",
              "      <th>1</th>\n",
              "      <th>2</th>\n",
              "      <th>3</th>\n",
              "      <th>4</th>\n",
              "      <th>5</th>\n",
              "      <th>6</th>\n",
              "      <th>7</th>\n",
              "      <th>labels</th>\n",
              "    </tr>\n",
              "  </thead>\n",
              "  <tbody>\n",
              "    <tr>\n",
              "      <th>7</th>\n",
              "      <td>11</td>\n",
              "      <td>16</td>\n",
              "      <td>1</td>\n",
              "      <td>0</td>\n",
              "      <td>0</td>\n",
              "      <td>0</td>\n",
              "      <td>0</td>\n",
              "      <td>0</td>\n",
              "      <td>BASMATHI Seeds</td>\n",
              "    </tr>\n",
              "    <tr>\n",
              "      <th>3</th>\n",
              "      <td>8</td>\n",
              "      <td>4</td>\n",
              "      <td>7</td>\n",
              "      <td>0</td>\n",
              "      <td>0</td>\n",
              "      <td>0</td>\n",
              "      <td>0</td>\n",
              "      <td>0</td>\n",
              "      <td>BEANS SOWING</td>\n",
              "    </tr>\n",
              "    <tr>\n",
              "      <th>14</th>\n",
              "      <td>10</td>\n",
              "      <td>4</td>\n",
              "      <td>0</td>\n",
              "      <td>0</td>\n",
              "      <td>0</td>\n",
              "      <td>0</td>\n",
              "      <td>0</td>\n",
              "      <td>0</td>\n",
              "      <td>CHILLI SOWING</td>\n",
              "    </tr>\n",
              "    <tr>\n",
              "      <th>12</th>\n",
              "      <td>1</td>\n",
              "      <td>3</td>\n",
              "      <td>19</td>\n",
              "      <td>8</td>\n",
              "      <td>0</td>\n",
              "      <td>0</td>\n",
              "      <td>0</td>\n",
              "      <td>0</td>\n",
              "      <td>CLUSTER BEANS</td>\n",
              "    </tr>\n",
              "    <tr>\n",
              "      <th>0</th>\n",
              "      <td>12</td>\n",
              "      <td>13</td>\n",
              "      <td>1</td>\n",
              "      <td>0</td>\n",
              "      <td>0</td>\n",
              "      <td>0</td>\n",
              "      <td>0</td>\n",
              "      <td>0</td>\n",
              "      <td>GOURD VARIETIES</td>\n",
              "    </tr>\n",
              "  </tbody>\n",
              "</table>\n",
              "</div>\n",
              "      <button class=\"colab-df-convert\" onclick=\"convertToInteractive('df-69eee42d-5b3a-4f44-b4a2-ae8e8d334b33')\"\n",
              "              title=\"Convert this dataframe to an interactive table.\"\n",
              "              style=\"display:none;\">\n",
              "        \n",
              "  <svg xmlns=\"http://www.w3.org/2000/svg\" height=\"24px\"viewBox=\"0 0 24 24\"\n",
              "       width=\"24px\">\n",
              "    <path d=\"M0 0h24v24H0V0z\" fill=\"none\"/>\n",
              "    <path d=\"M18.56 5.44l.94 2.06.94-2.06 2.06-.94-2.06-.94-.94-2.06-.94 2.06-2.06.94zm-11 1L8.5 8.5l.94-2.06 2.06-.94-2.06-.94L8.5 2.5l-.94 2.06-2.06.94zm10 10l.94 2.06.94-2.06 2.06-.94-2.06-.94-.94-2.06-.94 2.06-2.06.94z\"/><path d=\"M17.41 7.96l-1.37-1.37c-.4-.4-.92-.59-1.43-.59-.52 0-1.04.2-1.43.59L10.3 9.45l-7.72 7.72c-.78.78-.78 2.05 0 2.83L4 21.41c.39.39.9.59 1.41.59.51 0 1.02-.2 1.41-.59l7.78-7.78 2.81-2.81c.8-.78.8-2.07 0-2.86zM5.41 20L4 18.59l7.72-7.72 1.47 1.35L5.41 20z\"/>\n",
              "  </svg>\n",
              "      </button>\n",
              "      \n",
              "  <style>\n",
              "    .colab-df-container {\n",
              "      display:flex;\n",
              "      flex-wrap:wrap;\n",
              "      gap: 12px;\n",
              "    }\n",
              "\n",
              "    .colab-df-convert {\n",
              "      background-color: #E8F0FE;\n",
              "      border: none;\n",
              "      border-radius: 50%;\n",
              "      cursor: pointer;\n",
              "      display: none;\n",
              "      fill: #1967D2;\n",
              "      height: 32px;\n",
              "      padding: 0 0 0 0;\n",
              "      width: 32px;\n",
              "    }\n",
              "\n",
              "    .colab-df-convert:hover {\n",
              "      background-color: #E2EBFA;\n",
              "      box-shadow: 0px 1px 2px rgba(60, 64, 67, 0.3), 0px 1px 3px 1px rgba(60, 64, 67, 0.15);\n",
              "      fill: #174EA6;\n",
              "    }\n",
              "\n",
              "    [theme=dark] .colab-df-convert {\n",
              "      background-color: #3B4455;\n",
              "      fill: #D2E3FC;\n",
              "    }\n",
              "\n",
              "    [theme=dark] .colab-df-convert:hover {\n",
              "      background-color: #434B5C;\n",
              "      box-shadow: 0px 1px 3px 1px rgba(0, 0, 0, 0.15);\n",
              "      filter: drop-shadow(0px 1px 2px rgba(0, 0, 0, 0.3));\n",
              "      fill: #FFFFFF;\n",
              "    }\n",
              "  </style>\n",
              "\n",
              "      <script>\n",
              "        const buttonEl =\n",
              "          document.querySelector('#df-69eee42d-5b3a-4f44-b4a2-ae8e8d334b33 button.colab-df-convert');\n",
              "        buttonEl.style.display =\n",
              "          google.colab.kernel.accessAllowed ? 'block' : 'none';\n",
              "\n",
              "        async function convertToInteractive(key) {\n",
              "          const element = document.querySelector('#df-69eee42d-5b3a-4f44-b4a2-ae8e8d334b33');\n",
              "          const dataTable =\n",
              "            await google.colab.kernel.invokeFunction('convertToInteractive',\n",
              "                                                     [key], {});\n",
              "          if (!dataTable) return;\n",
              "\n",
              "          const docLinkHtml = 'Like what you see? Visit the ' +\n",
              "            '<a target=\"_blank\" href=https://colab.research.google.com/notebooks/data_table.ipynb>data table notebook</a>'\n",
              "            + ' to learn more about interactive tables.';\n",
              "          element.innerHTML = '';\n",
              "          dataTable['output_type'] = 'display_data';\n",
              "          await google.colab.output.renderOutput(dataTable, element);\n",
              "          const docLink = document.createElement('div');\n",
              "          docLink.innerHTML = docLinkHtml;\n",
              "          element.appendChild(docLink);\n",
              "        }\n",
              "      </script>\n",
              "    </div>\n",
              "  </div>\n",
              "  "
            ]
          },
          "metadata": {},
          "execution_count": 37
        }
      ]
    },
    {
      "cell_type": "code",
      "source": [
        "train.labels.value_counts()"
      ],
      "metadata": {
        "colab": {
          "base_uri": "https://localhost:8080/"
        },
        "id": "pspHIhnchsoq",
        "outputId": "b27716e5-1e5d-47f7-fe76-fe072d41b39a"
      },
      "execution_count": null,
      "outputs": [
        {
          "output_type": "execute_result",
          "data": {
            "text/plain": [
              "GOURD VARIETIES            2\n",
              "BASMATHI Seeds             2\n",
              "BEANS SOWING               1\n",
              "Plant Protection           1\n",
              "RNR PADDY SEEDS            1\n",
              "CLUSTER BEANS              1\n",
              "CHILLI SOWING              1\n",
              "VARIETIES OF CHILLI        1\n",
              "LEAF EATING CATERPILLER    1\n",
              "Weed Management            1\n",
              "Name: labels, dtype: int64"
            ]
          },
          "metadata": {},
          "execution_count": 38
        }
      ]
    },
    {
      "cell_type": "code",
      "source": [
        "test.labels.value_counts()"
      ],
      "metadata": {
        "colab": {
          "base_uri": "https://localhost:8080/"
        },
        "id": "zkIvvSGFhvGN",
        "outputId": "5f65db93-c5fd-4083-9b02-47cb4696f7d4"
      },
      "execution_count": null,
      "outputs": [
        {
          "output_type": "execute_result",
          "data": {
            "text/plain": [
              "BASMATHI Seeds             1\n",
              "BEANS SOWING               1\n",
              "CHILLI SOWING              1\n",
              "CLUSTER BEANS              1\n",
              "GOURD VARIETIES            1\n",
              "LEAF EATING CATERPILLER    1\n",
              "Plant Protection           1\n",
              "RNR PADDY SEEDS            1\n",
              "VARIETIES OF CHILLI        1\n",
              "Weed Management            1\n",
              "Name: labels, dtype: int64"
            ]
          },
          "metadata": {},
          "execution_count": 39
        }
      ]
    },
    {
      "cell_type": "code",
      "source": [
        "X_train = train.drop(columns=['labels'],axis=1)\n",
        "y_train = train.labels\n",
        "X_test = test.drop(columns=['labels'],axis=1)\n",
        "y_test = test.labels"
      ],
      "metadata": {
        "id": "-P5AuJJZh0ZC"
      },
      "execution_count": null,
      "outputs": []
    },
    {
      "cell_type": "code",
      "source": [
        "X_train.head()"
      ],
      "metadata": {
        "colab": {
          "base_uri": "https://localhost:8080/",
          "height": 206
        },
        "id": "62kEv6OYh2Z8",
        "outputId": "a6d4f4c9-9d03-4596-9ecb-7e5420032956"
      },
      "execution_count": null,
      "outputs": [
        {
          "output_type": "execute_result",
          "data": {
            "text/plain": [
              "    0   1  2  3   4  5  6  7\n",
              "1  12  13  1  2  24  0  0  0\n",
              "2  25   1  0  0   0  0  0  0\n",
              "4   8   4  7  2   5  0  0  0\n",
              "6  14  15  6  0   0  0  0  0\n",
              "8  11  16  1  2   5  0  0  0"
            ],
            "text/html": [
              "\n",
              "  <div id=\"df-1dc5203c-1b37-4c6e-b780-c71522510d36\">\n",
              "    <div class=\"colab-df-container\">\n",
              "      <div>\n",
              "<style scoped>\n",
              "    .dataframe tbody tr th:only-of-type {\n",
              "        vertical-align: middle;\n",
              "    }\n",
              "\n",
              "    .dataframe tbody tr th {\n",
              "        vertical-align: top;\n",
              "    }\n",
              "\n",
              "    .dataframe thead th {\n",
              "        text-align: right;\n",
              "    }\n",
              "</style>\n",
              "<table border=\"1\" class=\"dataframe\">\n",
              "  <thead>\n",
              "    <tr style=\"text-align: right;\">\n",
              "      <th></th>\n",
              "      <th>0</th>\n",
              "      <th>1</th>\n",
              "      <th>2</th>\n",
              "      <th>3</th>\n",
              "      <th>4</th>\n",
              "      <th>5</th>\n",
              "      <th>6</th>\n",
              "      <th>7</th>\n",
              "    </tr>\n",
              "  </thead>\n",
              "  <tbody>\n",
              "    <tr>\n",
              "      <th>1</th>\n",
              "      <td>12</td>\n",
              "      <td>13</td>\n",
              "      <td>1</td>\n",
              "      <td>2</td>\n",
              "      <td>24</td>\n",
              "      <td>0</td>\n",
              "      <td>0</td>\n",
              "      <td>0</td>\n",
              "    </tr>\n",
              "    <tr>\n",
              "      <th>2</th>\n",
              "      <td>25</td>\n",
              "      <td>1</td>\n",
              "      <td>0</td>\n",
              "      <td>0</td>\n",
              "      <td>0</td>\n",
              "      <td>0</td>\n",
              "      <td>0</td>\n",
              "      <td>0</td>\n",
              "    </tr>\n",
              "    <tr>\n",
              "      <th>4</th>\n",
              "      <td>8</td>\n",
              "      <td>4</td>\n",
              "      <td>7</td>\n",
              "      <td>2</td>\n",
              "      <td>5</td>\n",
              "      <td>0</td>\n",
              "      <td>0</td>\n",
              "      <td>0</td>\n",
              "    </tr>\n",
              "    <tr>\n",
              "      <th>6</th>\n",
              "      <td>14</td>\n",
              "      <td>15</td>\n",
              "      <td>6</td>\n",
              "      <td>0</td>\n",
              "      <td>0</td>\n",
              "      <td>0</td>\n",
              "      <td>0</td>\n",
              "      <td>0</td>\n",
              "    </tr>\n",
              "    <tr>\n",
              "      <th>8</th>\n",
              "      <td>11</td>\n",
              "      <td>16</td>\n",
              "      <td>1</td>\n",
              "      <td>2</td>\n",
              "      <td>5</td>\n",
              "      <td>0</td>\n",
              "      <td>0</td>\n",
              "      <td>0</td>\n",
              "    </tr>\n",
              "  </tbody>\n",
              "</table>\n",
              "</div>\n",
              "      <button class=\"colab-df-convert\" onclick=\"convertToInteractive('df-1dc5203c-1b37-4c6e-b780-c71522510d36')\"\n",
              "              title=\"Convert this dataframe to an interactive table.\"\n",
              "              style=\"display:none;\">\n",
              "        \n",
              "  <svg xmlns=\"http://www.w3.org/2000/svg\" height=\"24px\"viewBox=\"0 0 24 24\"\n",
              "       width=\"24px\">\n",
              "    <path d=\"M0 0h24v24H0V0z\" fill=\"none\"/>\n",
              "    <path d=\"M18.56 5.44l.94 2.06.94-2.06 2.06-.94-2.06-.94-.94-2.06-.94 2.06-2.06.94zm-11 1L8.5 8.5l.94-2.06 2.06-.94-2.06-.94L8.5 2.5l-.94 2.06-2.06.94zm10 10l.94 2.06.94-2.06 2.06-.94-2.06-.94-.94-2.06-.94 2.06-2.06.94z\"/><path d=\"M17.41 7.96l-1.37-1.37c-.4-.4-.92-.59-1.43-.59-.52 0-1.04.2-1.43.59L10.3 9.45l-7.72 7.72c-.78.78-.78 2.05 0 2.83L4 21.41c.39.39.9.59 1.41.59.51 0 1.02-.2 1.41-.59l7.78-7.78 2.81-2.81c.8-.78.8-2.07 0-2.86zM5.41 20L4 18.59l7.72-7.72 1.47 1.35L5.41 20z\"/>\n",
              "  </svg>\n",
              "      </button>\n",
              "      \n",
              "  <style>\n",
              "    .colab-df-container {\n",
              "      display:flex;\n",
              "      flex-wrap:wrap;\n",
              "      gap: 12px;\n",
              "    }\n",
              "\n",
              "    .colab-df-convert {\n",
              "      background-color: #E8F0FE;\n",
              "      border: none;\n",
              "      border-radius: 50%;\n",
              "      cursor: pointer;\n",
              "      display: none;\n",
              "      fill: #1967D2;\n",
              "      height: 32px;\n",
              "      padding: 0 0 0 0;\n",
              "      width: 32px;\n",
              "    }\n",
              "\n",
              "    .colab-df-convert:hover {\n",
              "      background-color: #E2EBFA;\n",
              "      box-shadow: 0px 1px 2px rgba(60, 64, 67, 0.3), 0px 1px 3px 1px rgba(60, 64, 67, 0.15);\n",
              "      fill: #174EA6;\n",
              "    }\n",
              "\n",
              "    [theme=dark] .colab-df-convert {\n",
              "      background-color: #3B4455;\n",
              "      fill: #D2E3FC;\n",
              "    }\n",
              "\n",
              "    [theme=dark] .colab-df-convert:hover {\n",
              "      background-color: #434B5C;\n",
              "      box-shadow: 0px 1px 3px 1px rgba(0, 0, 0, 0.15);\n",
              "      filter: drop-shadow(0px 1px 2px rgba(0, 0, 0, 0.3));\n",
              "      fill: #FFFFFF;\n",
              "    }\n",
              "  </style>\n",
              "\n",
              "      <script>\n",
              "        const buttonEl =\n",
              "          document.querySelector('#df-1dc5203c-1b37-4c6e-b780-c71522510d36 button.colab-df-convert');\n",
              "        buttonEl.style.display =\n",
              "          google.colab.kernel.accessAllowed ? 'block' : 'none';\n",
              "\n",
              "        async function convertToInteractive(key) {\n",
              "          const element = document.querySelector('#df-1dc5203c-1b37-4c6e-b780-c71522510d36');\n",
              "          const dataTable =\n",
              "            await google.colab.kernel.invokeFunction('convertToInteractive',\n",
              "                                                     [key], {});\n",
              "          if (!dataTable) return;\n",
              "\n",
              "          const docLinkHtml = 'Like what you see? Visit the ' +\n",
              "            '<a target=\"_blank\" href=https://colab.research.google.com/notebooks/data_table.ipynb>data table notebook</a>'\n",
              "            + ' to learn more about interactive tables.';\n",
              "          element.innerHTML = '';\n",
              "          dataTable['output_type'] = 'display_data';\n",
              "          await google.colab.output.renderOutput(dataTable, element);\n",
              "          const docLink = document.createElement('div');\n",
              "          docLink.innerHTML = docLinkHtml;\n",
              "          element.appendChild(docLink);\n",
              "        }\n",
              "      </script>\n",
              "    </div>\n",
              "  </div>\n",
              "  "
            ]
          },
          "metadata": {},
          "execution_count": 41
        }
      ]
    },
    {
      "cell_type": "code",
      "source": [
        "y_train =pd.get_dummies(y_train).values\n",
        "y_test =pd.get_dummies(y_test).values"
      ],
      "metadata": {
        "id": "Pg-9iHx6h5C8"
      },
      "execution_count": null,
      "outputs": []
    },
    {
      "cell_type": "code",
      "source": [
        "max_length = X_train.shape[1]\n",
        "output = 16"
      ],
      "metadata": {
        "id": "3ynihV8Yh-yS"
      },
      "execution_count": null,
      "outputs": []
    },
    {
      "cell_type": "code",
      "source": [
        "early_stopping = EarlyStopping(monitor='val_loss',patience=10) #patience : number of epochs with no improvement after which training will be stopped\n",
        "\n",
        "checkpoint = ModelCheckpoint(\"model-v1.h5\",\n",
        "                             monitor=\"val_loss\",\n",
        "                             mode=\"min\",\n",
        "                             save_best_only = True,\n",
        "                             verbose=1)\n",
        "\n",
        "reduce_lr = ReduceLROnPlateau(monitor = 'val_loss', factor = 0.2, patience = 3, verbose = 1, min_delta = 0.0001)\n",
        "\n",
        "callbacks = [early_stopping,checkpoint,reduce_lr]"
      ],
      "metadata": {
        "id": "df_hcSO5iBWD"
      },
      "execution_count": null,
      "outputs": []
    },
    {
      "cell_type": "code",
      "source": [
        "y_train[0].shape,y_test[0].shape"
      ],
      "metadata": {
        "colab": {
          "base_uri": "https://localhost:8080/"
        },
        "id": "SSwP4g8cjg55",
        "outputId": "74eaf371-44e4-4051-8bbc-ed8960cc1041"
      },
      "execution_count": null,
      "outputs": [
        {
          "output_type": "execute_result",
          "data": {
            "text/plain": [
              "((10,), (10,))"
            ]
          },
          "metadata": {},
          "execution_count": 45
        }
      ]
    },
    {
      "cell_type": "code",
      "source": [
        "X_train.shape"
      ],
      "metadata": {
        "id": "pQntaQhejo29",
        "outputId": "b9ff65ad-2a28-458d-8431-a4ab1af22912",
        "colab": {
          "base_uri": "https://localhost:8080/"
        }
      },
      "execution_count": null,
      "outputs": [
        {
          "output_type": "execute_result",
          "data": {
            "text/plain": [
              "(12, 8)"
            ]
          },
          "metadata": {},
          "execution_count": 46
        }
      ]
    },
    {
      "cell_type": "code",
      "source": [
        "X_test.shape"
      ],
      "metadata": {
        "id": "CcGrbxAYjs5E",
        "outputId": "9859955a-a231-4fc6-c97e-5afd1e01b318",
        "colab": {
          "base_uri": "https://localhost:8080/"
        }
      },
      "execution_count": null,
      "outputs": [
        {
          "output_type": "execute_result",
          "data": {
            "text/plain": [
              "(10, 8)"
            ]
          },
          "metadata": {},
          "execution_count": 47
        }
      ]
    },
    {
      "cell_type": "code",
      "source": [
        "X_train"
      ],
      "metadata": {
        "colab": {
          "base_uri": "https://localhost:8080/",
          "height": 425
        },
        "id": "dNpncGB47hWp",
        "outputId": "80b99f2d-05ef-4c0c-8830-ecdcf1579108"
      },
      "execution_count": null,
      "outputs": [
        {
          "output_type": "execute_result",
          "data": {
            "text/plain": [
              "     0   1   2   3   4   5  6  7\n",
              "1   12  13   1   2  24   0  0  0\n",
              "2   25   1   0   0   0   0  0  0\n",
              "4    8   4   7   2   5   0  0  0\n",
              "6   14  15   6   0   0   0  0  0\n",
              "8   11  16   1   2   5   0  0  0\n",
              "9    9  11   1   0   0   0  0  0\n",
              "11   4   7   3  17   9  18  2  5\n",
              "13   1   3  19   8   2   5  0  0\n",
              "15  10   4   7   0   0   0  0  0\n",
              "17   1   3  10   2   5   0  0  0\n",
              "19  20   6   0   0   0   0  0  0\n",
              "21  21   6   3  22  23   2  5  0"
            ],
            "text/html": [
              "\n",
              "  <div id=\"df-da4beee9-cd9a-486c-8aa4-ca4b163256a4\">\n",
              "    <div class=\"colab-df-container\">\n",
              "      <div>\n",
              "<style scoped>\n",
              "    .dataframe tbody tr th:only-of-type {\n",
              "        vertical-align: middle;\n",
              "    }\n",
              "\n",
              "    .dataframe tbody tr th {\n",
              "        vertical-align: top;\n",
              "    }\n",
              "\n",
              "    .dataframe thead th {\n",
              "        text-align: right;\n",
              "    }\n",
              "</style>\n",
              "<table border=\"1\" class=\"dataframe\">\n",
              "  <thead>\n",
              "    <tr style=\"text-align: right;\">\n",
              "      <th></th>\n",
              "      <th>0</th>\n",
              "      <th>1</th>\n",
              "      <th>2</th>\n",
              "      <th>3</th>\n",
              "      <th>4</th>\n",
              "      <th>5</th>\n",
              "      <th>6</th>\n",
              "      <th>7</th>\n",
              "    </tr>\n",
              "  </thead>\n",
              "  <tbody>\n",
              "    <tr>\n",
              "      <th>1</th>\n",
              "      <td>12</td>\n",
              "      <td>13</td>\n",
              "      <td>1</td>\n",
              "      <td>2</td>\n",
              "      <td>24</td>\n",
              "      <td>0</td>\n",
              "      <td>0</td>\n",
              "      <td>0</td>\n",
              "    </tr>\n",
              "    <tr>\n",
              "      <th>2</th>\n",
              "      <td>25</td>\n",
              "      <td>1</td>\n",
              "      <td>0</td>\n",
              "      <td>0</td>\n",
              "      <td>0</td>\n",
              "      <td>0</td>\n",
              "      <td>0</td>\n",
              "      <td>0</td>\n",
              "    </tr>\n",
              "    <tr>\n",
              "      <th>4</th>\n",
              "      <td>8</td>\n",
              "      <td>4</td>\n",
              "      <td>7</td>\n",
              "      <td>2</td>\n",
              "      <td>5</td>\n",
              "      <td>0</td>\n",
              "      <td>0</td>\n",
              "      <td>0</td>\n",
              "    </tr>\n",
              "    <tr>\n",
              "      <th>6</th>\n",
              "      <td>14</td>\n",
              "      <td>15</td>\n",
              "      <td>6</td>\n",
              "      <td>0</td>\n",
              "      <td>0</td>\n",
              "      <td>0</td>\n",
              "      <td>0</td>\n",
              "      <td>0</td>\n",
              "    </tr>\n",
              "    <tr>\n",
              "      <th>8</th>\n",
              "      <td>11</td>\n",
              "      <td>16</td>\n",
              "      <td>1</td>\n",
              "      <td>2</td>\n",
              "      <td>5</td>\n",
              "      <td>0</td>\n",
              "      <td>0</td>\n",
              "      <td>0</td>\n",
              "    </tr>\n",
              "    <tr>\n",
              "      <th>9</th>\n",
              "      <td>9</td>\n",
              "      <td>11</td>\n",
              "      <td>1</td>\n",
              "      <td>0</td>\n",
              "      <td>0</td>\n",
              "      <td>0</td>\n",
              "      <td>0</td>\n",
              "      <td>0</td>\n",
              "    </tr>\n",
              "    <tr>\n",
              "      <th>11</th>\n",
              "      <td>4</td>\n",
              "      <td>7</td>\n",
              "      <td>3</td>\n",
              "      <td>17</td>\n",
              "      <td>9</td>\n",
              "      <td>18</td>\n",
              "      <td>2</td>\n",
              "      <td>5</td>\n",
              "    </tr>\n",
              "    <tr>\n",
              "      <th>13</th>\n",
              "      <td>1</td>\n",
              "      <td>3</td>\n",
              "      <td>19</td>\n",
              "      <td>8</td>\n",
              "      <td>2</td>\n",
              "      <td>5</td>\n",
              "      <td>0</td>\n",
              "      <td>0</td>\n",
              "    </tr>\n",
              "    <tr>\n",
              "      <th>15</th>\n",
              "      <td>10</td>\n",
              "      <td>4</td>\n",
              "      <td>7</td>\n",
              "      <td>0</td>\n",
              "      <td>0</td>\n",
              "      <td>0</td>\n",
              "      <td>0</td>\n",
              "      <td>0</td>\n",
              "    </tr>\n",
              "    <tr>\n",
              "      <th>17</th>\n",
              "      <td>1</td>\n",
              "      <td>3</td>\n",
              "      <td>10</td>\n",
              "      <td>2</td>\n",
              "      <td>5</td>\n",
              "      <td>0</td>\n",
              "      <td>0</td>\n",
              "      <td>0</td>\n",
              "    </tr>\n",
              "    <tr>\n",
              "      <th>19</th>\n",
              "      <td>20</td>\n",
              "      <td>6</td>\n",
              "      <td>0</td>\n",
              "      <td>0</td>\n",
              "      <td>0</td>\n",
              "      <td>0</td>\n",
              "      <td>0</td>\n",
              "      <td>0</td>\n",
              "    </tr>\n",
              "    <tr>\n",
              "      <th>21</th>\n",
              "      <td>21</td>\n",
              "      <td>6</td>\n",
              "      <td>3</td>\n",
              "      <td>22</td>\n",
              "      <td>23</td>\n",
              "      <td>2</td>\n",
              "      <td>5</td>\n",
              "      <td>0</td>\n",
              "    </tr>\n",
              "  </tbody>\n",
              "</table>\n",
              "</div>\n",
              "      <button class=\"colab-df-convert\" onclick=\"convertToInteractive('df-da4beee9-cd9a-486c-8aa4-ca4b163256a4')\"\n",
              "              title=\"Convert this dataframe to an interactive table.\"\n",
              "              style=\"display:none;\">\n",
              "        \n",
              "  <svg xmlns=\"http://www.w3.org/2000/svg\" height=\"24px\"viewBox=\"0 0 24 24\"\n",
              "       width=\"24px\">\n",
              "    <path d=\"M0 0h24v24H0V0z\" fill=\"none\"/>\n",
              "    <path d=\"M18.56 5.44l.94 2.06.94-2.06 2.06-.94-2.06-.94-.94-2.06-.94 2.06-2.06.94zm-11 1L8.5 8.5l.94-2.06 2.06-.94-2.06-.94L8.5 2.5l-.94 2.06-2.06.94zm10 10l.94 2.06.94-2.06 2.06-.94-2.06-.94-.94-2.06-.94 2.06-2.06.94z\"/><path d=\"M17.41 7.96l-1.37-1.37c-.4-.4-.92-.59-1.43-.59-.52 0-1.04.2-1.43.59L10.3 9.45l-7.72 7.72c-.78.78-.78 2.05 0 2.83L4 21.41c.39.39.9.59 1.41.59.51 0 1.02-.2 1.41-.59l7.78-7.78 2.81-2.81c.8-.78.8-2.07 0-2.86zM5.41 20L4 18.59l7.72-7.72 1.47 1.35L5.41 20z\"/>\n",
              "  </svg>\n",
              "      </button>\n",
              "      \n",
              "  <style>\n",
              "    .colab-df-container {\n",
              "      display:flex;\n",
              "      flex-wrap:wrap;\n",
              "      gap: 12px;\n",
              "    }\n",
              "\n",
              "    .colab-df-convert {\n",
              "      background-color: #E8F0FE;\n",
              "      border: none;\n",
              "      border-radius: 50%;\n",
              "      cursor: pointer;\n",
              "      display: none;\n",
              "      fill: #1967D2;\n",
              "      height: 32px;\n",
              "      padding: 0 0 0 0;\n",
              "      width: 32px;\n",
              "    }\n",
              "\n",
              "    .colab-df-convert:hover {\n",
              "      background-color: #E2EBFA;\n",
              "      box-shadow: 0px 1px 2px rgba(60, 64, 67, 0.3), 0px 1px 3px 1px rgba(60, 64, 67, 0.15);\n",
              "      fill: #174EA6;\n",
              "    }\n",
              "\n",
              "    [theme=dark] .colab-df-convert {\n",
              "      background-color: #3B4455;\n",
              "      fill: #D2E3FC;\n",
              "    }\n",
              "\n",
              "    [theme=dark] .colab-df-convert:hover {\n",
              "      background-color: #434B5C;\n",
              "      box-shadow: 0px 1px 3px 1px rgba(0, 0, 0, 0.15);\n",
              "      filter: drop-shadow(0px 1px 2px rgba(0, 0, 0, 0.3));\n",
              "      fill: #FFFFFF;\n",
              "    }\n",
              "  </style>\n",
              "\n",
              "      <script>\n",
              "        const buttonEl =\n",
              "          document.querySelector('#df-da4beee9-cd9a-486c-8aa4-ca4b163256a4 button.colab-df-convert');\n",
              "        buttonEl.style.display =\n",
              "          google.colab.kernel.accessAllowed ? 'block' : 'none';\n",
              "\n",
              "        async function convertToInteractive(key) {\n",
              "          const element = document.querySelector('#df-da4beee9-cd9a-486c-8aa4-ca4b163256a4');\n",
              "          const dataTable =\n",
              "            await google.colab.kernel.invokeFunction('convertToInteractive',\n",
              "                                                     [key], {});\n",
              "          if (!dataTable) return;\n",
              "\n",
              "          const docLinkHtml = 'Like what you see? Visit the ' +\n",
              "            '<a target=\"_blank\" href=https://colab.research.google.com/notebooks/data_table.ipynb>data table notebook</a>'\n",
              "            + ' to learn more about interactive tables.';\n",
              "          element.innerHTML = '';\n",
              "          dataTable['output_type'] = 'display_data';\n",
              "          await google.colab.output.renderOutput(dataTable, element);\n",
              "          const docLink = document.createElement('div');\n",
              "          docLink.innerHTML = docLinkHtml;\n",
              "          element.appendChild(docLink);\n",
              "        }\n",
              "      </script>\n",
              "    </div>\n",
              "  </div>\n",
              "  "
            ]
          },
          "metadata": {},
          "execution_count": 48
        }
      ]
    },
    {
      "cell_type": "markdown",
      "source": [
        "## LSTM"
      ],
      "metadata": {
        "id": "TfL05m-PiTN8"
      }
    },
    {
      "cell_type": "code",
      "source": [
        "max_length"
      ],
      "metadata": {
        "colab": {
          "base_uri": "https://localhost:8080/"
        },
        "id": "QYcIL1GxPbZT",
        "outputId": "d70b5a68-e871-41b2-d0ce-37c888689589"
      },
      "execution_count": null,
      "outputs": [
        {
          "output_type": "execute_result",
          "data": {
            "text/plain": [
              "8"
            ]
          },
          "metadata": {},
          "execution_count": 49
        }
      ]
    },
    {
      "cell_type": "code",
      "source": [
        "vocab_size"
      ],
      "metadata": {
        "colab": {
          "base_uri": "https://localhost:8080/"
        },
        "id": "ZaT_zEMDPa-S",
        "outputId": "1bd273fd-9b57-4335-b3c2-bf636ed2c58e"
      },
      "execution_count": null,
      "outputs": [
        {
          "output_type": "execute_result",
          "data": {
            "text/plain": [
              "30"
            ]
          },
          "metadata": {},
          "execution_count": 50
        }
      ]
    },
    {
      "cell_type": "code",
      "source": [
        "def define_model1(vocab_size, max_length):\n",
        "    model1 = Sequential()\n",
        "    model1.add(Embedding(vocab_size,100, input_length=max_length))\n",
        "    model1.add(SimpleRNN(100))\n",
        "    model1.add(Dense(10, activation='softmax'))\n",
        "\n",
        "    model1.compile(loss = 'categorical_crossentropy',optimizer = 'adam',metrics = ['accuracy'])\n",
        "\n",
        "    # summarize defined model\n",
        "    model1.summary()\n",
        "    plot_model(model1, to_file='model_1.png', show_shapes=True)\n",
        "    return model1"
      ],
      "metadata": {
        "id": "BTAXxnKxiJHx"
      },
      "execution_count": null,
      "outputs": []
    },
    {
      "cell_type": "code",
      "source": [
        "model1 = define_model1(vocab_size, max_length)"
      ],
      "metadata": {
        "colab": {
          "base_uri": "https://localhost:8080/"
        },
        "id": "r-rii-auiX90",
        "outputId": "471e055d-a314-44f2-a0db-4d5e3188d634"
      },
      "execution_count": null,
      "outputs": [
        {
          "output_type": "stream",
          "name": "stdout",
          "text": [
            "Model: \"sequential\"\n",
            "_________________________________________________________________\n",
            " Layer (type)                Output Shape              Param #   \n",
            "=================================================================\n",
            " embedding (Embedding)       (None, 8, 100)            3000      \n",
            "                                                                 \n",
            " simple_rnn (SimpleRNN)      (None, 100)               20100     \n",
            "                                                                 \n",
            " dense (Dense)               (None, 10)                1010      \n",
            "                                                                 \n",
            "=================================================================\n",
            "Total params: 24,110\n",
            "Trainable params: 24,110\n",
            "Non-trainable params: 0\n",
            "_________________________________________________________________\n"
          ]
        }
      ]
    },
    {
      "cell_type": "code",
      "source": [
        "history1 = model1.fit(X_train, y_train, epochs=10, verbose=1,validation_data=(X_test,y_test),callbacks=callbacks)#,callbacks=callbacks)"
      ],
      "metadata": {
        "colab": {
          "base_uri": "https://localhost:8080/"
        },
        "id": "rq7731o9ibI4",
        "outputId": "af9bd7e7-166b-44b3-cfc2-e4303aa25dc1"
      },
      "execution_count": null,
      "outputs": [
        {
          "output_type": "stream",
          "name": "stdout",
          "text": [
            "Epoch 1/10\n",
            "1/1 [==============================] - ETA: 0s - loss: 2.2989 - accuracy: 0.0000e+00\n",
            "Epoch 1: val_loss improved from inf to 2.22969, saving model to model-v1.h5\n",
            "1/1 [==============================] - 7s 7s/step - loss: 2.2989 - accuracy: 0.0000e+00 - val_loss: 2.2297 - val_accuracy: 0.2000 - lr: 0.0010\n",
            "Epoch 2/10\n",
            "1/1 [==============================] - ETA: 0s - loss: 2.1966 - accuracy: 0.4167\n",
            "Epoch 2: val_loss improved from 2.22969 to 2.16254, saving model to model-v1.h5\n",
            "1/1 [==============================] - 0s 142ms/step - loss: 2.1966 - accuracy: 0.4167 - val_loss: 2.1625 - val_accuracy: 0.5000 - lr: 0.0010\n",
            "Epoch 3/10\n",
            "1/1 [==============================] - ETA: 0s - loss: 2.0957 - accuracy: 0.5833\n",
            "Epoch 3: val_loss improved from 2.16254 to 2.09477, saving model to model-v1.h5\n",
            "1/1 [==============================] - 0s 125ms/step - loss: 2.0957 - accuracy: 0.5833 - val_loss: 2.0948 - val_accuracy: 0.6000 - lr: 0.0010\n",
            "Epoch 4/10\n",
            "1/1 [==============================] - ETA: 0s - loss: 1.9942 - accuracy: 0.7500\n",
            "Epoch 4: val_loss improved from 2.09477 to 2.02543, saving model to model-v1.h5\n",
            "1/1 [==============================] - 0s 121ms/step - loss: 1.9942 - accuracy: 0.7500 - val_loss: 2.0254 - val_accuracy: 0.6000 - lr: 0.0010\n",
            "Epoch 5/10\n",
            "1/1 [==============================] - ETA: 0s - loss: 1.8905 - accuracy: 0.9167\n",
            "Epoch 5: val_loss improved from 2.02543 to 1.95371, saving model to model-v1.h5\n",
            "1/1 [==============================] - 0s 107ms/step - loss: 1.8905 - accuracy: 0.9167 - val_loss: 1.9537 - val_accuracy: 0.7000 - lr: 0.0010\n",
            "Epoch 6/10\n",
            "1/1 [==============================] - ETA: 0s - loss: 1.7835 - accuracy: 1.0000\n",
            "Epoch 6: val_loss improved from 1.95371 to 1.87893, saving model to model-v1.h5\n",
            "1/1 [==============================] - 0s 118ms/step - loss: 1.7835 - accuracy: 1.0000 - val_loss: 1.8789 - val_accuracy: 0.8000 - lr: 0.0010\n",
            "Epoch 7/10\n",
            "1/1 [==============================] - ETA: 0s - loss: 1.6721 - accuracy: 1.0000\n",
            "Epoch 7: val_loss improved from 1.87893 to 1.80061, saving model to model-v1.h5\n",
            "1/1 [==============================] - 0s 115ms/step - loss: 1.6721 - accuracy: 1.0000 - val_loss: 1.8006 - val_accuracy: 0.8000 - lr: 0.0010\n",
            "Epoch 8/10\n",
            "1/1 [==============================] - ETA: 0s - loss: 1.5559 - accuracy: 1.0000\n",
            "Epoch 8: val_loss improved from 1.80061 to 1.71846, saving model to model-v1.h5\n",
            "1/1 [==============================] - 0s 115ms/step - loss: 1.5559 - accuracy: 1.0000 - val_loss: 1.7185 - val_accuracy: 0.8000 - lr: 0.0010\n",
            "Epoch 9/10\n",
            "1/1 [==============================] - ETA: 0s - loss: 1.4348 - accuracy: 1.0000\n",
            "Epoch 9: val_loss improved from 1.71846 to 1.63239, saving model to model-v1.h5\n",
            "1/1 [==============================] - 0s 119ms/step - loss: 1.4348 - accuracy: 1.0000 - val_loss: 1.6324 - val_accuracy: 0.8000 - lr: 0.0010\n",
            "Epoch 10/10\n",
            "1/1 [==============================] - ETA: 0s - loss: 1.3091 - accuracy: 1.0000\n",
            "Epoch 10: val_loss improved from 1.63239 to 1.54256, saving model to model-v1.h5\n",
            "1/1 [==============================] - 0s 116ms/step - loss: 1.3091 - accuracy: 1.0000 - val_loss: 1.5426 - val_accuracy: 0.8000 - lr: 0.0010\n"
          ]
        }
      ]
    },
    {
      "cell_type": "code",
      "source": [
        "\n",
        "acc = history1.history['accuracy']\n",
        "val_acc = history1.history['val_accuracy']\n",
        "loss=history1.history['loss']\n",
        "val_loss=history1.history['val_loss']\n",
        "\n",
        "plt.figure(figsize=(16,8))\n",
        "plt.subplot(1, 2, 1)\n",
        "plt.plot(acc, label='Training Accuracy')\n",
        "plt.plot(val_acc, label='Validation Accuracy')\n",
        "plt.legend(loc='lower right')\n",
        "plt.title('Training and Validation Accuracy')\n",
        "plt.xlabel(\"epochs\")\n",
        "plt.ylabel(\"accuracy\")\n",
        "\n",
        "plt.subplot(1, 2, 2)\n",
        "plt.plot(loss, label='Training Loss')\n",
        "plt.plot(val_loss, label='Validation Loss')\n",
        "plt.legend(loc='upper right')\n",
        "plt.title('Training and Validation Loss')\n",
        "plt.xlabel(\"epochs\")\n",
        "plt.ylabel(\"loss\")\n",
        "plt.show()\n"
      ],
      "metadata": {
        "colab": {
          "base_uri": "https://localhost:8080/"
        },
        "id": "TkBK6EWzI7PH",
        "outputId": "c067f666-1579-458e-d90e-aa6f345fc311"
      },
      "execution_count": null,
      "outputs": [
        {
          "output_type": "display_data",
          "data": {
            "text/plain": [
              "<Figure size 1600x800 with 2 Axes>"
            ],
            "image/png": "[encoded data removed]"
          },
          "metadata": {}
        }
      ]
    },
    {
      "cell_type": "code",
      "source": [
        "model1.save(\"AI_lstm_model.h5\")"
      ],
      "metadata": {
        "id": "_TRE6NuZJJl2"
      },
      "execution_count": null,
      "outputs": []
    },
    {
      "cell_type": "markdown",
      "source": [
        "## Predictions"
      ],
      "metadata": {
        "id": "7NH4fN1xJkkb"
      }
    },
    {
      "cell_type": "code",
      "source": [
        "import tensorflow as tf\n",
        "tf.get_logger().setLevel('ERROR')"
      ],
      "metadata": {
        "id": "aSNUV0vDJhuV"
      },
      "execution_count": null,
      "outputs": []
    },
    {
      "cell_type": "code",
      "source": [
        "def get_text(str_text):\n",
        "    # print(str_text)\n",
        "    input_text  = [str_text]\n",
        "    df_input = pd.DataFrame(input_text,columns=['questions'])\n",
        "    df_input\n",
        "    return df_input"
      ],
      "metadata": {
        "id": "-VnoD1FhJozL"
      },
      "execution_count": null,
      "outputs": []
    },
    {
      "cell_type": "code",
      "source": [
        "from tensorflow.keras.models import load_model\n",
        "model = model1\n",
        "tokenizer_t = joblib.load('tokenizer_t.pkl')\n",
        "vocab = joblib.load('vocab.pkl')"
      ],
      "metadata": {
        "id": "WgqFNG4GJsaH"
      },
      "execution_count": null,
      "outputs": []
    },
    {
      "cell_type": "code",
      "source": [
        "def tokenizer(entry):\n",
        "    tokens = entry.split()\n",
        "    re_punc = re.compile('[%s]' % re.escape(string.punctuation))\n",
        "    tokens = [re_punc.sub('', w) for w in tokens]\n",
        "    tokens = [word for word in tokens if word.isalpha()]\n",
        "    tokens = [lemmatizer.lemmatize(w.lower()) for w in tokens]\n",
        "    # stop_words = set(stopwords.words('english'))\n",
        "    # tokens = [w for w in tokens if not w in stop_words]\n",
        "    tokens = [word.lower() for word in tokens if len(word) > 1]\n",
        "    return tokens"
      ],
      "metadata": {
        "id": "Abx4BchgJxLn"
      },
      "execution_count": null,
      "outputs": []
    },
    {
      "cell_type": "code",
      "source": [
        "def remove_stop_words_for_input(tokenizer,df,feature):\n",
        "    doc_without_stopwords = []\n",
        "    entry = df[feature][0]\n",
        "    tokens = tokenizer(entry)\n",
        "    doc_without_stopwords.append(' '.join(tokens))\n",
        "    df[feature] = doc_without_stopwords\n",
        "    return df"
      ],
      "metadata": {
        "id": "e6c5RstpJzn_"
      },
      "execution_count": null,
      "outputs": []
    },
    {
      "cell_type": "code",
      "source": [
        "def encode_input_text(tokenizer_t,df,feature):\n",
        "    t = tokenizer_t\n",
        "    entry = entry = [df[feature][0]]\n",
        "    encoded = t.texts_to_sequences(entry)\n",
        "    padded = pad_sequences(encoded, maxlen=8, padding='post')\n",
        "    return padded"
      ],
      "metadata": {
        "id": "XhPHQniLJ4CJ"
      },
      "execution_count": null,
      "outputs": []
    },
    {
      "cell_type": "code",
      "source": [
        "def get_pred(model,encoded_input):\n",
        "    pred = np.argmax(model.predict(encoded_input))\n",
        "    return pred"
      ],
      "metadata": {
        "id": "NuGPagJ7J7ne"
      },
      "execution_count": null,
      "outputs": []
    },
    {
      "cell_type": "code",
      "source": [
        "def bot_precausion(df_input,pred):\n",
        "    words = df_input.questions[0].split()\n",
        "    if len([w for w in words if w in vocab])==0 :\n",
        "        pred = 1\n",
        "    return pred"
      ],
      "metadata": {
        "id": "1OJ5fk_3J9q_"
      },
      "execution_count": null,
      "outputs": []
    },
    {
      "cell_type": "code",
      "source": [
        "def get_response(df2,pred):\n",
        "    upper_bound = df2.groupby('labels').get_group(pred).shape[0]\n",
        "    r = np.random.randint(0,upper_bound)\n",
        "    responses = list(df2.groupby('labels').get_group(pred).response)\n",
        "    return responses[r]"
      ],
      "metadata": {
        "id": "Lq_DAjWyJ_2u"
      },
      "execution_count": null,
      "outputs": []
    },
    {
      "cell_type": "code",
      "source": [
        "def bot_response(response,):\n",
        "    print(response)"
      ],
      "metadata": {
        "id": "fqsWvT5VKB9Z"
      },
      "execution_count": null,
      "outputs": []
    },
    {
      "cell_type": "code",
      "source": [
        "df_input = get_text(\"white fly manaegment\")\n",
        "\n",
        "# load artifacts\n",
        "tokenizer_t = joblib.load('tokenizer_t.pkl')\n",
        "vocab = joblib.load('vocab.pkl')\n",
        "\n",
        "df_input = remove_stop_words_for_input(tokenizer,df_input,'questions')\n",
        "encoded_input = encode_input_text(tokenizer_t,df_input,'questions')\n",
        "\n",
        "pred = get_pred(model1,encoded_input)\n",
        "pred = bot_precausion(df_input,pred)\n",
        "\n",
        "response = get_response(df2,pred)\n",
        "bot_response(response)"
      ],
      "metadata": {
        "colab": {
          "base_uri": "https://localhost:8080/"
        },
        "id": "oG8CeHN-KFA-",
        "outputId": "b4a26fa0-f9ce-40ef-e217-40bb5c1210d4"
      },
      "execution_count": null,
      "outputs": [
        {
          "output_type": "stream",
          "name": "stdout",
          "text": [
            "1/1 [==============================] - 0s 188ms/step\n",
            "RECOMMENDED TO SPRAY ACEPHATE (ARTHIN) 300 GRAMS/ 200 LITRES OF WATER / ACRE \n",
            "(OR)\n",
            "RECOMMENDED TO SPRAY THIAMETHOXAM (ACTARA/CRULSER) 40 GRAMS /200 LITRES OF WATER / ACRE \n"
          ]
        }
      ]
    }
  ]
}